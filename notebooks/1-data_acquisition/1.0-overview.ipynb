{
 "cells": [
  {
   "cell_type": "markdown",
   "metadata": {
    "collapsed": true
   },
   "source": [
    "# Data Acquisition Overview\n",
    "\n",
    "https://github.com/bitnami/bitnami-docker-spark"
   ]
  },
  {
   "cell_type": "markdown",
   "metadata": {},
   "source": [
    "## Steps Taken"
   ]
  },
  {
   "cell_type": "markdown",
   "metadata": {},
   "source": [
    "1. Locate proper dataset on [kaggle](kaggle.com)\n",
    "1. Download data using [kaggle api](https://www.kaggle.com/docs/api)\n",
    "1. Output data to data acquisition [output.csv](./../../data/1-data_acquisition/1-output.csv.zip)"
   ]
  },
  {
   "cell_type": "markdown",
   "metadata": {},
   "source": [
    "## Notebooks"
   ]
  },
  {
   "cell_type": "markdown",
   "metadata": {},
   "source": [
    "### 1.1-data_download\n",
    "\n",
    "<b>NOTE: You must configure kaggle's api to run this notebook. [CLICK HERE](https://www.kaggle.com/docs/api) for setup instructions. </b>\n",
    "\n",
    "Notebook executes data download of single needed csv file from the [Broadband Customers Base Churn Analysis](https://www.kaggle.com/jitendragoyal/broadband-customers-base-churn-analysis) kaggle project, posted by kaggle user [jitendragoyal](https://www.kaggle.com/jitendragoyal)."
   ]
  }
 ],
 "metadata": {
  "kernelspec": {
   "display_name": "Python 3",
   "language": "python",
   "name": "python3"
  },
  "language_info": {
   "codemirror_mode": {
    "name": "ipython",
    "version": 3
   },
   "file_extension": ".py",
   "mimetype": "text/x-python",
   "name": "python",
   "nbconvert_exporter": "python",
   "pygments_lexer": "ipython3",
   "version": "3.9.0"
  }
 },
 "nbformat": 4,
 "nbformat_minor": 1
}