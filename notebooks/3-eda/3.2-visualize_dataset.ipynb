{
 "cells": [
  {
   "cell_type": "markdown",
   "metadata": {},
   "source": [
    "# 3.2 Visualize Dataset\n",
    "\n",
    "##### Description\n",
    "\n",
    "Visualizations of the dataset.\n",
    "\n",
    "##### Notebook Steps\n",
    "\n",
    "1. Connect Spark\n",
    "1. Input all data sources"
   ]
  },
  {
   "cell_type": "markdown",
   "metadata": {},
   "source": [
    "## 1. Connect Spark"
   ]
  },
  {
   "cell_type": "code",
   "execution_count": 1,
   "metadata": {},
   "outputs": [],
   "source": [
    "import pyspark\n",
    "sc = pyspark.SparkContext(appName=\"mems-clean\")\n",
    "sc.setLogLevel(\"INFO\")\n",
    "\n",
    "from pyspark.sql import SQLContext\n",
    "sqlContext = SQLContext(sc)"
   ]
  },
  {
   "cell_type": "markdown",
   "metadata": {},
   "source": [
    "## 2. Input Data"
   ]
  },
  {
   "cell_type": "code",
   "execution_count": 2,
   "metadata": {},
   "outputs": [],
   "source": [
    "members = sqlContext.read.format('com.databricks.spark.csv').options(inferschema='true', header='true').load('../../data/3-eda/3.1-members.csv')\n",
    "transactions = sqlContext.read.format('com.databricks.spark.csv').options(inferschema='true', header='true').load('../../data/3-eda/3.1-transactions.csv')\n",
    "logs = sqlContext.read.format('com.databricks.spark.csv').options(inferschema='true', header='true').load('../../data/3-eda/3.1-logs.csv')\n",
    "train = sqlContext.read.format('com.databricks.spark.csv').options(inferschema='true', header='true').load('../../data/3-eda/3.1-train.csv')"
   ]
  },
  {
   "cell_type": "code",
   "execution_count": null,
   "metadata": {},
   "outputs": [],
   "source": []
  }
 ],
 "metadata": {
  "kernelspec": {
   "display_name": "Python 3",
   "language": "python",
   "name": "python3"
  },
  "language_info": {
   "codemirror_mode": {
    "name": "ipython",
    "version": 3
   },
   "file_extension": ".py",
   "mimetype": "text/x-python",
   "name": "python",
   "nbconvert_exporter": "python",
   "pygments_lexer": "ipython3",
   "version": "3.8.6"
  }
 },
 "nbformat": 4,
 "nbformat_minor": 4
}
