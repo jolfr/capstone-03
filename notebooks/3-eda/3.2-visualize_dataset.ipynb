{
 "cells": [
  {
   "cell_type": "markdown",
   "metadata": {},
   "source": [
    "# 3.2 Visualize Dataset\n",
    "\n",
    "##### Description\n",
    "\n",
    "Visualizations of the dataset.\n",
    "\n",
    "##### Notebook Steps\n",
    "\n",
    "1. Connect Spark\n",
    "1. Input data\n",
    "1. Basic data review\n",
    "1. Visualize relationships"
   ]
  },
  {
   "cell_type": "markdown",
   "metadata": {},
   "source": [
    "## 1. Connect Spark"
   ]
  },
  {
   "cell_type": "code",
   "execution_count": 1,
   "metadata": {},
   "outputs": [],
   "source": [
    "%load_ext sparkmagic.magics"
   ]
  },
  {
   "cell_type": "code",
   "execution_count": 2,
   "metadata": {},
   "outputs": [
    {
     "data": {
      "application/vnd.jupyter.widget-view+json": {
       "model_id": "c3051c52278c48e8a263bd21de07c1df",
       "version_major": 2,
       "version_minor": 0
      },
      "text/plain": [
       "MagicsControllerWidget(children=(Tab(children=(ManageSessionWidget(children=(HTML(value='<br/>'), HTML(value='…"
      ]
     },
     "metadata": {},
     "output_type": "display_data"
    }
   ],
   "source": [
    "%manage_spark"
   ]
  },
  {
   "cell_type": "markdown",
   "metadata": {},
   "source": [
    "## 2. Input Data"
   ]
  },
  {
   "cell_type": "code",
   "execution_count": 11,
   "metadata": {},
   "outputs": [
    {
     "data": {
      "application/vnd.jupyter.widget-view+json": {
       "model_id": "f2a71330d615487382ca545f9ff7f312",
       "version_major": 2,
       "version_minor": 0
      },
      "text/plain": [
       "FloatProgress(value=0.0, bar_style='info', description='Progress:', layout=Layout(height='25px', width='50%'),…"
      ]
     },
     "metadata": {},
     "output_type": "display_data"
    },
    {
     "ename": "KeyboardInterrupt",
     "evalue": "",
     "output_type": "error",
     "traceback": [
      "\u001b[1;31m---------------------------------------------------------------------------\u001b[0m",
      "\u001b[1;31mKeyboardInterrupt\u001b[0m                         Traceback (most recent call last)",
      "\u001b[1;32m<ipython-input-11-7cda13c28c14>\u001b[0m in \u001b[0;36m<module>\u001b[1;34m\u001b[0m\n\u001b[1;32m----> 1\u001b[1;33m \u001b[0mget_ipython\u001b[0m\u001b[1;33m(\u001b[0m\u001b[1;33m)\u001b[0m\u001b[1;33m.\u001b[0m\u001b[0mrun_cell_magic\u001b[0m\u001b[1;33m(\u001b[0m\u001b[1;34m'spark'\u001b[0m\u001b[1;33m,\u001b[0m \u001b[1;34m''\u001b[0m\u001b[1;33m,\u001b[0m \u001b[1;34m'df = spark.read.csv(\"s3://jolfr-capstone3/clean/mem-features.csv\", header=True, inferSchema=True)\\n'\u001b[0m\u001b[1;33m)\u001b[0m\u001b[1;33m\u001b[0m\u001b[1;33m\u001b[0m\u001b[0m\n\u001b[0m",
      "\u001b[1;32m~\\anaconda3\\envs\\capstone-03\\lib\\site-packages\\IPython\\core\\interactiveshell.py\u001b[0m in \u001b[0;36mrun_cell_magic\u001b[1;34m(self, magic_name, line, cell)\u001b[0m\n\u001b[0;32m   2380\u001b[0m             \u001b[1;32mwith\u001b[0m \u001b[0mself\u001b[0m\u001b[1;33m.\u001b[0m\u001b[0mbuiltin_trap\u001b[0m\u001b[1;33m:\u001b[0m\u001b[1;33m\u001b[0m\u001b[1;33m\u001b[0m\u001b[0m\n\u001b[0;32m   2381\u001b[0m                 \u001b[0margs\u001b[0m \u001b[1;33m=\u001b[0m \u001b[1;33m(\u001b[0m\u001b[0mmagic_arg_s\u001b[0m\u001b[1;33m,\u001b[0m \u001b[0mcell\u001b[0m\u001b[1;33m)\u001b[0m\u001b[1;33m\u001b[0m\u001b[1;33m\u001b[0m\u001b[0m\n\u001b[1;32m-> 2382\u001b[1;33m                 \u001b[0mresult\u001b[0m \u001b[1;33m=\u001b[0m \u001b[0mfn\u001b[0m\u001b[1;33m(\u001b[0m\u001b[1;33m*\u001b[0m\u001b[0margs\u001b[0m\u001b[1;33m,\u001b[0m \u001b[1;33m**\u001b[0m\u001b[0mkwargs\u001b[0m\u001b[1;33m)\u001b[0m\u001b[1;33m\u001b[0m\u001b[1;33m\u001b[0m\u001b[0m\n\u001b[0m\u001b[0;32m   2383\u001b[0m             \u001b[1;32mreturn\u001b[0m \u001b[0mresult\u001b[0m\u001b[1;33m\u001b[0m\u001b[1;33m\u001b[0m\u001b[0m\n\u001b[0;32m   2384\u001b[0m \u001b[1;33m\u001b[0m\u001b[0m\n",
      "\u001b[1;32m<decorator-gen-119>\u001b[0m in \u001b[0;36mspark\u001b[1;34m(self, *args, **kwargs)\u001b[0m\n",
      "\u001b[1;32m~\\anaconda3\\envs\\capstone-03\\lib\\site-packages\\IPython\\core\\magic.py\u001b[0m in \u001b[0;36m<lambda>\u001b[1;34m(f, *a, **k)\u001b[0m\n\u001b[0;32m    185\u001b[0m     \u001b[1;31m# but it's overkill for just that one bit of state.\u001b[0m\u001b[1;33m\u001b[0m\u001b[1;33m\u001b[0m\u001b[1;33m\u001b[0m\u001b[0m\n\u001b[0;32m    186\u001b[0m     \u001b[1;32mdef\u001b[0m \u001b[0mmagic_deco\u001b[0m\u001b[1;33m(\u001b[0m\u001b[0marg\u001b[0m\u001b[1;33m)\u001b[0m\u001b[1;33m:\u001b[0m\u001b[1;33m\u001b[0m\u001b[1;33m\u001b[0m\u001b[0m\n\u001b[1;32m--> 187\u001b[1;33m         \u001b[0mcall\u001b[0m \u001b[1;33m=\u001b[0m \u001b[1;32mlambda\u001b[0m \u001b[0mf\u001b[0m\u001b[1;33m,\u001b[0m \u001b[1;33m*\u001b[0m\u001b[0ma\u001b[0m\u001b[1;33m,\u001b[0m \u001b[1;33m**\u001b[0m\u001b[0mk\u001b[0m\u001b[1;33m:\u001b[0m \u001b[0mf\u001b[0m\u001b[1;33m(\u001b[0m\u001b[1;33m*\u001b[0m\u001b[0ma\u001b[0m\u001b[1;33m,\u001b[0m \u001b[1;33m**\u001b[0m\u001b[0mk\u001b[0m\u001b[1;33m)\u001b[0m\u001b[1;33m\u001b[0m\u001b[1;33m\u001b[0m\u001b[0m\n\u001b[0m\u001b[0;32m    188\u001b[0m \u001b[1;33m\u001b[0m\u001b[0m\n\u001b[0;32m    189\u001b[0m         \u001b[1;32mif\u001b[0m \u001b[0mcallable\u001b[0m\u001b[1;33m(\u001b[0m\u001b[0marg\u001b[0m\u001b[1;33m)\u001b[0m\u001b[1;33m:\u001b[0m\u001b[1;33m\u001b[0m\u001b[1;33m\u001b[0m\u001b[0m\n",
      "\u001b[1;32m~\\anaconda3\\envs\\capstone-03\\lib\\site-packages\\sparkmagic\\livyclientlib\\exceptions.py\u001b[0m in \u001b[0;36mwrapped\u001b[1;34m(self, *args, **kwargs)\u001b[0m\n\u001b[0;32m     72\u001b[0m     \u001b[1;32mdef\u001b[0m \u001b[0mwrapped\u001b[0m\u001b[1;33m(\u001b[0m\u001b[0mself\u001b[0m\u001b[1;33m,\u001b[0m \u001b[1;33m*\u001b[0m\u001b[0margs\u001b[0m\u001b[1;33m,\u001b[0m \u001b[1;33m**\u001b[0m\u001b[0mkwargs\u001b[0m\u001b[1;33m)\u001b[0m\u001b[1;33m:\u001b[0m\u001b[1;33m\u001b[0m\u001b[1;33m\u001b[0m\u001b[0m\n\u001b[0;32m     73\u001b[0m         \u001b[1;32mtry\u001b[0m\u001b[1;33m:\u001b[0m\u001b[1;33m\u001b[0m\u001b[1;33m\u001b[0m\u001b[0m\n\u001b[1;32m---> 74\u001b[1;33m             \u001b[0mout\u001b[0m \u001b[1;33m=\u001b[0m \u001b[0mf\u001b[0m\u001b[1;33m(\u001b[0m\u001b[0mself\u001b[0m\u001b[1;33m,\u001b[0m \u001b[1;33m*\u001b[0m\u001b[0margs\u001b[0m\u001b[1;33m,\u001b[0m \u001b[1;33m**\u001b[0m\u001b[0mkwargs\u001b[0m\u001b[1;33m)\u001b[0m\u001b[1;33m\u001b[0m\u001b[1;33m\u001b[0m\u001b[0m\n\u001b[0m\u001b[0;32m     75\u001b[0m         \u001b[1;32mexcept\u001b[0m \u001b[0mexceptions_to_handle\u001b[0m \u001b[1;32mas\u001b[0m \u001b[0merr\u001b[0m\u001b[1;33m:\u001b[0m\u001b[1;33m\u001b[0m\u001b[1;33m\u001b[0m\u001b[0m\n\u001b[0;32m     76\u001b[0m             \u001b[1;32mif\u001b[0m \u001b[0mconf\u001b[0m\u001b[1;33m.\u001b[0m\u001b[0mall_errors_are_fatal\u001b[0m\u001b[1;33m(\u001b[0m\u001b[1;33m)\u001b[0m\u001b[1;33m:\u001b[0m\u001b[1;33m\u001b[0m\u001b[1;33m\u001b[0m\u001b[0m\n",
      "\u001b[1;32m~\\anaconda3\\envs\\capstone-03\\lib\\site-packages\\sparkmagic\\magics\\remotesparkmagics.py\u001b[0m in \u001b[0;36mspark\u001b[1;34m(self, line, cell, local_ns)\u001b[0m\n\u001b[0;32m    171\u001b[0m             \u001b[0mcoerce\u001b[0m \u001b[1;33m=\u001b[0m \u001b[0mget_coerce_value\u001b[0m\u001b[1;33m(\u001b[0m\u001b[0margs\u001b[0m\u001b[1;33m.\u001b[0m\u001b[0mcoerce\u001b[0m\u001b[1;33m)\u001b[0m\u001b[1;33m\u001b[0m\u001b[1;33m\u001b[0m\u001b[0m\n\u001b[0;32m    172\u001b[0m             \u001b[1;32mif\u001b[0m \u001b[0margs\u001b[0m\u001b[1;33m.\u001b[0m\u001b[0mcontext\u001b[0m \u001b[1;33m==\u001b[0m \u001b[0mCONTEXT_NAME_SPARK\u001b[0m\u001b[1;33m:\u001b[0m\u001b[1;33m\u001b[0m\u001b[1;33m\u001b[0m\u001b[0m\n\u001b[1;32m--> 173\u001b[1;33m                 return self.execute_spark(cell, args.output, args.samplemethod,\n\u001b[0m\u001b[0;32m    174\u001b[0m                                           args.maxrows, args.samplefraction, args.session, coerce)\n\u001b[0;32m    175\u001b[0m             \u001b[1;32melif\u001b[0m \u001b[0margs\u001b[0m\u001b[1;33m.\u001b[0m\u001b[0mcontext\u001b[0m \u001b[1;33m==\u001b[0m \u001b[0mCONTEXT_NAME_SQL\u001b[0m\u001b[1;33m:\u001b[0m\u001b[1;33m\u001b[0m\u001b[1;33m\u001b[0m\u001b[0m\n",
      "\u001b[1;32m~\\anaconda3\\envs\\capstone-03\\lib\\site-packages\\sparkmagic\\magics\\sparkmagicsbase.py\u001b[0m in \u001b[0;36mexecute_spark\u001b[1;34m(self, cell, output_var, samplemethod, maxrows, samplefraction, session_name, coerce)\u001b[0m\n\u001b[0;32m     79\u001b[0m \u001b[1;33m\u001b[0m\u001b[0m\n\u001b[0;32m     80\u001b[0m     \u001b[1;32mdef\u001b[0m \u001b[0mexecute_spark\u001b[0m\u001b[1;33m(\u001b[0m\u001b[0mself\u001b[0m\u001b[1;33m,\u001b[0m \u001b[0mcell\u001b[0m\u001b[1;33m,\u001b[0m \u001b[0moutput_var\u001b[0m\u001b[1;33m,\u001b[0m \u001b[0msamplemethod\u001b[0m\u001b[1;33m,\u001b[0m \u001b[0mmaxrows\u001b[0m\u001b[1;33m,\u001b[0m \u001b[0msamplefraction\u001b[0m\u001b[1;33m,\u001b[0m \u001b[0msession_name\u001b[0m\u001b[1;33m,\u001b[0m \u001b[0mcoerce\u001b[0m\u001b[1;33m)\u001b[0m\u001b[1;33m:\u001b[0m\u001b[1;33m\u001b[0m\u001b[1;33m\u001b[0m\u001b[0m\n\u001b[1;32m---> 81\u001b[1;33m         \u001b[1;33m(\u001b[0m\u001b[0msuccess\u001b[0m\u001b[1;33m,\u001b[0m \u001b[0mout\u001b[0m\u001b[1;33m,\u001b[0m \u001b[0mmimetype\u001b[0m\u001b[1;33m)\u001b[0m \u001b[1;33m=\u001b[0m \u001b[0mself\u001b[0m\u001b[1;33m.\u001b[0m\u001b[0mspark_controller\u001b[0m\u001b[1;33m.\u001b[0m\u001b[0mrun_command\u001b[0m\u001b[1;33m(\u001b[0m\u001b[0mCommand\u001b[0m\u001b[1;33m(\u001b[0m\u001b[0mcell\u001b[0m\u001b[1;33m)\u001b[0m\u001b[1;33m,\u001b[0m \u001b[0msession_name\u001b[0m\u001b[1;33m)\u001b[0m\u001b[1;33m\u001b[0m\u001b[1;33m\u001b[0m\u001b[0m\n\u001b[0m\u001b[0;32m     82\u001b[0m         \u001b[1;32mif\u001b[0m \u001b[1;32mnot\u001b[0m \u001b[0msuccess\u001b[0m\u001b[1;33m:\u001b[0m\u001b[1;33m\u001b[0m\u001b[1;33m\u001b[0m\u001b[0m\n\u001b[0;32m     83\u001b[0m             \u001b[1;32mif\u001b[0m \u001b[0mconf\u001b[0m\u001b[1;33m.\u001b[0m\u001b[0mshutdown_session_on_spark_statement_errors\u001b[0m\u001b[1;33m(\u001b[0m\u001b[1;33m)\u001b[0m\u001b[1;33m:\u001b[0m\u001b[1;33m\u001b[0m\u001b[1;33m\u001b[0m\u001b[0m\n",
      "\u001b[1;32m~\\anaconda3\\envs\\capstone-03\\lib\\site-packages\\sparkmagic\\livyclientlib\\sparkcontroller.py\u001b[0m in \u001b[0;36mrun_command\u001b[1;34m(self, command, client_name)\u001b[0m\n\u001b[0;32m     38\u001b[0m     \u001b[1;32mdef\u001b[0m \u001b[0mrun_command\u001b[0m\u001b[1;33m(\u001b[0m\u001b[0mself\u001b[0m\u001b[1;33m,\u001b[0m \u001b[0mcommand\u001b[0m\u001b[1;33m,\u001b[0m \u001b[0mclient_name\u001b[0m\u001b[1;33m=\u001b[0m\u001b[1;32mNone\u001b[0m\u001b[1;33m)\u001b[0m\u001b[1;33m:\u001b[0m\u001b[1;33m\u001b[0m\u001b[1;33m\u001b[0m\u001b[0m\n\u001b[0;32m     39\u001b[0m         \u001b[0msession_to_use\u001b[0m \u001b[1;33m=\u001b[0m \u001b[0mself\u001b[0m\u001b[1;33m.\u001b[0m\u001b[0mget_session_by_name_or_default\u001b[0m\u001b[1;33m(\u001b[0m\u001b[0mclient_name\u001b[0m\u001b[1;33m)\u001b[0m\u001b[1;33m\u001b[0m\u001b[1;33m\u001b[0m\u001b[0m\n\u001b[1;32m---> 40\u001b[1;33m         \u001b[1;32mreturn\u001b[0m \u001b[0mcommand\u001b[0m\u001b[1;33m.\u001b[0m\u001b[0mexecute\u001b[0m\u001b[1;33m(\u001b[0m\u001b[0msession_to_use\u001b[0m\u001b[1;33m)\u001b[0m\u001b[1;33m\u001b[0m\u001b[1;33m\u001b[0m\u001b[0m\n\u001b[0m\u001b[0;32m     41\u001b[0m \u001b[1;33m\u001b[0m\u001b[0m\n\u001b[0;32m     42\u001b[0m     \u001b[1;32mdef\u001b[0m \u001b[0mrun_sqlquery\u001b[0m\u001b[1;33m(\u001b[0m\u001b[0mself\u001b[0m\u001b[1;33m,\u001b[0m \u001b[0msqlquery\u001b[0m\u001b[1;33m,\u001b[0m \u001b[0mclient_name\u001b[0m\u001b[1;33m=\u001b[0m\u001b[1;32mNone\u001b[0m\u001b[1;33m)\u001b[0m\u001b[1;33m:\u001b[0m\u001b[1;33m\u001b[0m\u001b[1;33m\u001b[0m\u001b[0m\n",
      "\u001b[1;32m~\\anaconda3\\envs\\capstone-03\\lib\\site-packages\\sparkmagic\\livyclientlib\\command.py\u001b[0m in \u001b[0;36mexecute\u001b[1;34m(self, session)\u001b[0m\n\u001b[0;32m     42\u001b[0m             \u001b[0mresponse\u001b[0m \u001b[1;33m=\u001b[0m \u001b[0msession\u001b[0m\u001b[1;33m.\u001b[0m\u001b[0mhttp_client\u001b[0m\u001b[1;33m.\u001b[0m\u001b[0mpost_statement\u001b[0m\u001b[1;33m(\u001b[0m\u001b[0msession\u001b[0m\u001b[1;33m.\u001b[0m\u001b[0mid\u001b[0m\u001b[1;33m,\u001b[0m \u001b[0mdata\u001b[0m\u001b[1;33m)\u001b[0m\u001b[1;33m\u001b[0m\u001b[1;33m\u001b[0m\u001b[0m\n\u001b[0;32m     43\u001b[0m             \u001b[0mstatement_id\u001b[0m \u001b[1;33m=\u001b[0m \u001b[0mresponse\u001b[0m\u001b[1;33m[\u001b[0m\u001b[1;34mu'id'\u001b[0m\u001b[1;33m]\u001b[0m\u001b[1;33m\u001b[0m\u001b[1;33m\u001b[0m\u001b[0m\n\u001b[1;32m---> 44\u001b[1;33m             \u001b[0moutput\u001b[0m \u001b[1;33m=\u001b[0m \u001b[0mself\u001b[0m\u001b[1;33m.\u001b[0m\u001b[0m_get_statement_output\u001b[0m\u001b[1;33m(\u001b[0m\u001b[0msession\u001b[0m\u001b[1;33m,\u001b[0m \u001b[0mstatement_id\u001b[0m\u001b[1;33m)\u001b[0m\u001b[1;33m\u001b[0m\u001b[1;33m\u001b[0m\u001b[0m\n\u001b[0m\u001b[0;32m     45\u001b[0m         \u001b[1;32mexcept\u001b[0m \u001b[0mException\u001b[0m \u001b[1;32mas\u001b[0m \u001b[0me\u001b[0m\u001b[1;33m:\u001b[0m\u001b[1;33m\u001b[0m\u001b[1;33m\u001b[0m\u001b[0m\n\u001b[0;32m     46\u001b[0m             self._spark_events.emit_statement_execution_end_event(session.guid, session.kind, session.id,\n",
      "\u001b[1;32m~\\anaconda3\\envs\\capstone-03\\lib\\site-packages\\sparkmagic\\livyclientlib\\command.py\u001b[0m in \u001b[0;36m_get_statement_output\u001b[1;34m(self, session, statement_id)\u001b[0m\n\u001b[0;32m     74\u001b[0m             \u001b[1;32mif\u001b[0m \u001b[0mstatus\u001b[0m \u001b[1;32mnot\u001b[0m \u001b[1;32min\u001b[0m \u001b[0mFINAL_STATEMENT_STATUS\u001b[0m\u001b[1;33m:\u001b[0m\u001b[1;33m\u001b[0m\u001b[1;33m\u001b[0m\u001b[0m\n\u001b[0;32m     75\u001b[0m                 \u001b[0mprogress\u001b[0m\u001b[1;33m.\u001b[0m\u001b[0mvalue\u001b[0m \u001b[1;33m=\u001b[0m \u001b[0mstatement\u001b[0m\u001b[1;33m.\u001b[0m\u001b[0mget\u001b[0m\u001b[1;33m(\u001b[0m\u001b[1;34m'progress'\u001b[0m\u001b[1;33m,\u001b[0m \u001b[1;36m0.0\u001b[0m\u001b[1;33m)\u001b[0m\u001b[1;33m\u001b[0m\u001b[1;33m\u001b[0m\u001b[0m\n\u001b[1;32m---> 76\u001b[1;33m                 \u001b[0msession\u001b[0m\u001b[1;33m.\u001b[0m\u001b[0msleep\u001b[0m\u001b[1;33m(\u001b[0m\u001b[0mretries\u001b[0m\u001b[1;33m)\u001b[0m\u001b[1;33m\u001b[0m\u001b[1;33m\u001b[0m\u001b[0m\n\u001b[0m\u001b[0;32m     77\u001b[0m                 \u001b[0mretries\u001b[0m \u001b[1;33m+=\u001b[0m \u001b[1;36m1\u001b[0m\u001b[1;33m\u001b[0m\u001b[1;33m\u001b[0m\u001b[0m\n\u001b[0;32m     78\u001b[0m             \u001b[1;32melse\u001b[0m\u001b[1;33m:\u001b[0m\u001b[1;33m\u001b[0m\u001b[1;33m\u001b[0m\u001b[0m\n",
      "\u001b[1;32m~\\anaconda3\\envs\\capstone-03\\lib\\site-packages\\sparkmagic\\livyclientlib\\livysession.py\u001b[0m in \u001b[0;36msleep\u001b[1;34m(self, retries)\u001b[0m\n\u001b[0;32m    280\u001b[0m \u001b[1;33m\u001b[0m\u001b[0m\n\u001b[0;32m    281\u001b[0m     \u001b[1;32mdef\u001b[0m \u001b[0msleep\u001b[0m\u001b[1;33m(\u001b[0m\u001b[0mself\u001b[0m\u001b[1;33m,\u001b[0m \u001b[0mretries\u001b[0m\u001b[1;33m)\u001b[0m\u001b[1;33m:\u001b[0m\u001b[1;33m\u001b[0m\u001b[1;33m\u001b[0m\u001b[0m\n\u001b[1;32m--> 282\u001b[1;33m         \u001b[0msleep\u001b[0m\u001b[1;33m(\u001b[0m\u001b[0mself\u001b[0m\u001b[1;33m.\u001b[0m\u001b[0m_policy\u001b[0m\u001b[1;33m.\u001b[0m\u001b[0mseconds_to_sleep\u001b[0m\u001b[1;33m(\u001b[0m\u001b[0mretries\u001b[0m\u001b[1;33m)\u001b[0m\u001b[1;33m)\u001b[0m\u001b[1;33m\u001b[0m\u001b[1;33m\u001b[0m\u001b[0m\n\u001b[0m\u001b[0;32m    283\u001b[0m \u001b[1;33m\u001b[0m\u001b[0m\n\u001b[0;32m    284\u001b[0m     \u001b[1;31m# This function will refresh the status and get the logs in a single call.\u001b[0m\u001b[1;33m\u001b[0m\u001b[1;33m\u001b[0m\u001b[1;33m\u001b[0m\u001b[0m\n",
      "\u001b[1;31mKeyboardInterrupt\u001b[0m: "
     ]
    }
   ],
   "source": [
    "%%spark\n",
    "df = spark.read.csv(\"s3://jolfr-capstone3/clean/mem-features.csv\", header=True, inferSchema=True)"
   ]
  },
  {
   "cell_type": "markdown",
   "metadata": {},
   "source": [
    "## 3. Basic Data Review"
   ]
  },
  {
   "cell_type": "markdown",
   "metadata": {},
   "source": [
    "##### Dataset Shape"
   ]
  },
  {
   "cell_type": "code",
   "execution_count": 4,
   "metadata": {},
   "outputs": [
    {
     "data": {
      "application/vnd.jupyter.widget-view+json": {
       "model_id": "",
       "version_major": 2,
       "version_minor": 0
      },
      "text/plain": [
       "FloatProgress(value=0.0, bar_style='info', description='Progress:', layout=Layout(height='25px', width='50%'),…"
      ]
     },
     "metadata": {},
     "output_type": "display_data"
    },
    {
     "name": "stdout",
     "output_type": "stream",
     "text": [
      "(25902421, 247)"
     ]
    }
   ],
   "source": [
    "%%spark\n",
    "print((corr.count(), len(corr.columns)))"
   ]
  },
  {
   "cell_type": "markdown",
   "metadata": {},
   "source": [
    "##### Dataset Schema"
   ]
  },
  {
   "cell_type": "code",
   "execution_count": 5,
   "metadata": {},
   "outputs": [
    {
     "data": {
      "application/vnd.jupyter.widget-view+json": {
       "model_id": "",
       "version_major": 2,
       "version_minor": 0
      },
      "text/plain": [
       "FloatProgress(value=0.0, bar_style='info', description='Progress:', layout=Layout(height='25px', width='50%'),…"
      ]
     },
     "metadata": {},
     "output_type": "display_data"
    },
    {
     "name": "stdout",
     "output_type": "stream",
     "text": [
      "root\n",
      " |-- msno: string (nullable = true)\n",
      " |-- time: timestamp (nullable = true)\n",
      " |-- SUM(transactions-payment_plan_days): double (nullable = true)\n",
      " |-- SUM(transactions-plan_list_price): double (nullable = true)\n",
      " |-- SUM(transactions-actual_amount_paid): double (nullable = true)\n",
      " |-- SUM(transactions-price_difference): double (nullable = true)\n",
      " |-- SUM(transactions-planned_daily_price): double (nullable = true)\n",
      " |-- SUM(transactions-daily_price): double (nullable = true)\n",
      " |-- TIME_SINCE_LAST(transactions-transaction_date): double (nullable = true)\n",
      " |-- AVG_TIME_BETWEEN(transactions-transaction_date): double (nullable = true)\n",
      " |-- ALL(transactions-is_auto_renew): boolean (nullable = true)\n",
      " |-- ALL(transactions-is_cancel): boolean (nullable = true)\n",
      " |-- MODE(transactions-payment_method_id): double (nullable = true)\n",
      " |-- NUM_UNIQUE(transactions-payment_method_id): double (nullable = true)\n",
      " |-- MIN(transactions-payment_plan_days): double (nullable = true)\n",
      " |-- MIN(transactions-plan_list_price): double (nullable = true)\n",
      " |-- MIN(transactions-actual_amount_paid): double (nullable = true)\n",
      " |-- MIN(transactions-price_difference): double (nullable = true)\n",
      " |-- MIN(transactions-planned_daily_price): double (nullable = true)\n",
      " |-- MIN(transactions-daily_price): double (nullable = true)\n",
      " |-- LAST(transactions-payment_plan_days): double (nullable = true)\n",
      " |-- LAST(transactions-plan_list_price): double (nullable = true)\n",
      " |-- LAST(transactions-actual_amount_paid): double (nullable = true)\n",
      " |-- LAST(transactions-price_difference): double (nullable = true)\n",
      " |-- LAST(transactions-planned_daily_price): double (nullable = true)\n",
      " |-- LAST(transactions-daily_price): double (nullable = true)\n",
      " |-- LAST(transactions-payment_method_id): double (nullable = true)\n",
      " |-- LAST(transactions-is_auto_renew): double (nullable = true)\n",
      " |-- LAST(transactions-is_cancel): double (nullable = true)\n",
      " |-- MEAN(transactions-payment_plan_days): double (nullable = true)\n",
      " |-- MEAN(transactions-plan_list_price): double (nullable = true)\n",
      " |-- MEAN(transactions-actual_amount_paid): double (nullable = true)\n",
      " |-- MEAN(transactions-price_difference): double (nullable = true)\n",
      " |-- MEAN(transactions-planned_daily_price): double (nullable = true)\n",
      " |-- MEAN(transactions-daily_price): double (nullable = true)\n",
      " |-- PERCENT_TRUE(transactions-is_auto_renew): double (nullable = true)\n",
      " |-- PERCENT_TRUE(transactions-is_cancel): double (nullable = true)\n",
      " |-- MAX(transactions-payment_plan_days): double (nullable = true)\n",
      " |-- MAX(transactions-plan_list_price): double (nullable = true)\n",
      " |-- MAX(transactions-actual_amount_paid): double (nullable = true)\n",
      " |-- MAX(transactions-price_difference): double (nullable = true)\n",
      " |-- MAX(transactions-planned_daily_price): double (nullable = true)\n",
      " |-- MAX(transactions-daily_price): double (nullable = true)\n",
      " |-- STD(transactions-payment_plan_days): double (nullable = true)\n",
      " |-- STD(transactions-plan_list_price): double (nullable = true)\n",
      " |-- STD(transactions-actual_amount_paid): double (nullable = true)\n",
      " |-- STD(transactions-price_difference): double (nullable = true)\n",
      " |-- STD(transactions-planned_daily_price): double (nullable = true)\n",
      " |-- STD(transactions-daily_price): double (nullable = true)\n",
      " |-- COUNT(transactions): double (nullable = true)\n",
      " |-- TOTAL_PREVIOUS_MONTH(transactions-actual_amount_paid, transaction_date): double (nullable = true)\n",
      " |-- TOTAL_PREVIOUS_MONTH(transactions-payment_plan_days, transaction_date): double (nullable = true)\n",
      " |-- TOTAL_PREVIOUS_MONTH(transactions-payment_plan_days, membership_expire_date): double (nullable = true)\n",
      " |-- TOTAL_PREVIOUS_MONTH(transactions-planned_daily_price, transaction_date): double (nullable = true)\n",
      " |-- TOTAL_PREVIOUS_MONTH(transactions-plan_list_price, membership_expire_date): double (nullable = true)\n",
      " |-- TOTAL_PREVIOUS_MONTH(transactions-daily_price, membership_expire_date): double (nullable = true)\n",
      " |-- TOTAL_PREVIOUS_MONTH(transactions-planned_daily_price, membership_expire_date): double (nullable = true)\n",
      " |-- TOTAL_PREVIOUS_MONTH(transactions-daily_price, transaction_date): double (nullable = true)\n",
      " |-- TOTAL_PREVIOUS_MONTH(transactions-price_difference, transaction_date): double (nullable = true)\n",
      " |-- TOTAL_PREVIOUS_MONTH(transactions-actual_amount_paid, membership_expire_date): double (nullable = true)\n",
      " |-- TOTAL_PREVIOUS_MONTH(transactions-plan_list_price, transaction_date): double (nullable = true)\n",
      " |-- TOTAL_PREVIOUS_MONTH(transactions-price_difference, membership_expire_date): double (nullable = true)\n",
      " |-- SUM(logs-num_25): double (nullable = true)\n",
      " |-- SUM(logs-num_50): double (nullable = true)\n",
      " |-- SUM(logs-num_75): double (nullable = true)\n",
      " |-- SUM(logs-num_985): double (nullable = true)\n",
      " |-- SUM(logs-num_100): double (nullable = true)\n",
      " |-- SUM(logs-num_unq): double (nullable = true)\n",
      " |-- SUM(logs-total_secs): double (nullable = true)\n",
      " |-- SUM(logs-total): double (nullable = true)\n",
      " |-- SUM(logs-percent_100): double (nullable = true)\n",
      " |-- SUM(logs-percent_unique): double (nullable = true)\n",
      " |-- TIME_SINCE_LAST(logs-date): double (nullable = true)\n",
      " |-- AVG_TIME_BETWEEN(logs-date): double (nullable = true)\n",
      " |-- MIN(logs-num_25): double (nullable = true)\n",
      " |-- MIN(logs-num_50): double (nullable = true)\n",
      " |-- MIN(logs-num_75): double (nullable = true)\n",
      " |-- MIN(logs-num_985): double (nullable = true)\n",
      " |-- MIN(logs-num_100): double (nullable = true)\n",
      " |-- MIN(logs-num_unq): double (nullable = true)\n",
      " |-- MIN(logs-total_secs): double (nullable = true)\n",
      " |-- MIN(logs-total): double (nullable = true)\n",
      " |-- MIN(logs-percent_100): double (nullable = true)\n",
      " |-- MIN(logs-percent_unique): double (nullable = true)\n",
      " |-- LAST(logs-num_25): double (nullable = true)\n",
      " |-- LAST(logs-num_50): double (nullable = true)\n",
      " |-- LAST(logs-num_75): double (nullable = true)\n",
      " |-- LAST(logs-num_985): double (nullable = true)\n",
      " |-- LAST(logs-num_100): double (nullable = true)\n",
      " |-- LAST(logs-num_unq): double (nullable = true)\n",
      " |-- LAST(logs-total_secs): double (nullable = true)\n",
      " |-- LAST(logs-total): double (nullable = true)\n",
      " |-- LAST(logs-percent_100): double (nullable = true)\n",
      " |-- LAST(logs-percent_unique): double (nullable = true)\n",
      " |-- MEAN(logs-num_25): double (nullable = true)\n",
      " |-- MEAN(logs-num_50): double (nullable = true)\n",
      " |-- MEAN(logs-num_75): double (nullable = true)\n",
      " |-- MEAN(logs-num_985): double (nullable = true)\n",
      " |-- MEAN(logs-num_100): double (nullable = true)\n",
      " |-- MEAN(logs-num_unq): double (nullable = true)\n",
      " |-- MEAN(logs-total_secs): double (nullable = true)\n",
      " |-- MEAN(logs-total): double (nullable = true)\n",
      " |-- MEAN(logs-percent_100): double (nullable = true)\n",
      " |-- MEAN(logs-percent_unique): double (nullable = true)\n",
      " |-- MAX(logs-num_25): double (nullable = true)\n",
      " |-- MAX(logs-num_50): double (nullable = true)\n",
      " |-- MAX(logs-num_75): double (nullable = true)\n",
      " |-- MAX(logs-num_985): double (nullable = true)\n",
      " |-- MAX(logs-num_100): double (nullable = true)\n",
      " |-- MAX(logs-num_unq): double (nullable = true)\n",
      " |-- MAX(logs-total_secs): double (nullable = true)\n",
      " |-- MAX(logs-total): double (nullable = true)\n",
      " |-- MAX(logs-percent_100): double (nullable = true)\n",
      " |-- MAX(logs-percent_unique): double (nullable = true)\n",
      " |-- STD(logs-num_25): double (nullable = true)\n",
      " |-- STD(logs-num_50): double (nullable = true)\n",
      " |-- STD(logs-num_75): double (nullable = true)\n",
      " |-- STD(logs-num_985): double (nullable = true)\n",
      " |-- STD(logs-num_100): double (nullable = true)\n",
      " |-- STD(logs-num_unq): double (nullable = true)\n",
      " |-- STD(logs-total_secs): double (nullable = true)\n",
      " |-- STD(logs-total): double (nullable = true)\n",
      " |-- STD(logs-percent_100): double (nullable = true)\n",
      " |-- STD(logs-percent_unique): double (nullable = true)\n",
      " |-- COUNT(logs): double (nullable = true)\n",
      " |-- TOTAL_PREVIOUS_MONTH(logs-percent_unique, date): double (nullable = true)\n",
      " |-- TOTAL_PREVIOUS_MONTH(logs-total_secs, date): double (nullable = true)\n",
      " |-- TOTAL_PREVIOUS_MONTH(logs-num_unq, date): double (nullable = true)\n",
      " |-- TOTAL_PREVIOUS_MONTH(logs-num_100, date): double (nullable = true)\n",
      " |-- TOTAL_PREVIOUS_MONTH(logs-num_50, date): double (nullable = true)\n",
      " |-- TOTAL_PREVIOUS_MONTH(logs-num_25, date): double (nullable = true)\n",
      " |-- TOTAL_PREVIOUS_MONTH(logs-total, date): double (nullable = true)\n",
      " |-- TOTAL_PREVIOUS_MONTH(logs-percent_100, date): double (nullable = true)\n",
      " |-- TOTAL_PREVIOUS_MONTH(logs-num_985, date): double (nullable = true)\n",
      " |-- TOTAL_PREVIOUS_MONTH(logs-num_75, date): double (nullable = true)\n",
      " |-- WEEKEND(registration_init_time): boolean (nullable = true)\n",
      " |-- DAY(registration_init_time): double (nullable = true)\n",
      " |-- MONTH(registration_init_time): double (nullable = true)\n",
      " |-- SUM(transactions-payment_plan_days WHERE is_auto_renew = 0): double (nullable = true)\n",
      " |-- SUM(transactions-payment_plan_days WHERE is_cancel = 0): double (nullable = true)\n",
      " |-- SUM(transactions-payment_plan_days WHERE is_cancel = 1): double (nullable = true)\n",
      " |-- SUM(transactions-payment_plan_days WHERE is_auto_renew = 1): double (nullable = true)\n",
      " |-- SUM(transactions-plan_list_price WHERE is_auto_renew = 0): double (nullable = true)\n",
      " |-- SUM(transactions-plan_list_price WHERE is_cancel = 0): double (nullable = true)\n",
      " |-- SUM(transactions-plan_list_price WHERE is_cancel = 1): double (nullable = true)\n",
      " |-- SUM(transactions-plan_list_price WHERE is_auto_renew = 1): double (nullable = true)\n",
      " |-- SUM(transactions-actual_amount_paid WHERE is_auto_renew = 0): double (nullable = true)\n",
      " |-- SUM(transactions-actual_amount_paid WHERE is_cancel = 0): double (nullable = true)\n",
      " |-- SUM(transactions-actual_amount_paid WHERE is_cancel = 1): double (nullable = true)\n",
      " |-- SUM(transactions-actual_amount_paid WHERE is_auto_renew = 1): double (nullable = true)\n",
      " |-- SUM(transactions-price_difference WHERE is_auto_renew = 0): double (nullable = true)\n",
      " |-- SUM(transactions-price_difference WHERE is_cancel = 0): double (nullable = true)\n",
      " |-- SUM(transactions-price_difference WHERE is_cancel = 1): double (nullable = true)\n",
      " |-- SUM(transactions-price_difference WHERE is_auto_renew = 1): double (nullable = true)\n",
      " |-- SUM(transactions-planned_daily_price WHERE is_auto_renew = 0): double (nullable = true)\n",
      " |-- SUM(transactions-planned_daily_price WHERE is_cancel = 0): double (nullable = true)\n",
      " |-- SUM(transactions-planned_daily_price WHERE is_cancel = 1): double (nullable = true)\n",
      " |-- SUM(transactions-planned_daily_price WHERE is_auto_renew = 1): double (nullable = true)\n",
      " |-- SUM(transactions-daily_price WHERE is_auto_renew = 0): double (nullable = true)\n",
      " |-- SUM(transactions-daily_price WHERE is_cancel = 0): double (nullable = true)\n",
      " |-- SUM(transactions-daily_price WHERE is_cancel = 1): double (nullable = true)\n",
      " |-- SUM(transactions-daily_price WHERE is_auto_renew = 1): double (nullable = true)\n",
      " |-- ALL(transactions-is_auto_renew WHERE is_cancel = 0): boolean (nullable = true)\n",
      " |-- ALL(transactions-is_auto_renew WHERE is_cancel = 1): boolean (nullable = true)\n",
      " |-- ALL(transactions-is_cancel WHERE is_auto_renew = 0): boolean (nullable = true)\n",
      " |-- ALL(transactions-is_cancel WHERE is_auto_renew = 1): boolean (nullable = true)\n",
      " |-- ALL(transactions-WEEKEND(transaction_date)): boolean (nullable = true)\n",
      " |-- ALL(transactions-WEEKEND(transaction_date) WHERE is_auto_renew = 0): boolean (nullable = true)\n",
      " |-- ALL(transactions-WEEKEND(transaction_date) WHERE is_cancel = 0): boolean (nullable = true)\n",
      " |-- ALL(transactions-WEEKEND(transaction_date) WHERE is_cancel = 1): boolean (nullable = true)\n",
      " |-- ALL(transactions-WEEKEND(transaction_date) WHERE is_auto_renew = 1): boolean (nullable = true)\n",
      " |-- ALL(transactions-WEEKEND(membership_expire_date)): boolean (nullable = true)\n",
      " |-- ALL(transactions-WEEKEND(membership_expire_date) WHERE is_auto_renew = 0): boolean (nullable = true)\n",
      " |-- ALL(transactions-WEEKEND(membership_expire_date) WHERE is_cancel = 0): boolean (nullable = true)\n",
      " |-- ALL(transactions-WEEKEND(membership_expire_date) WHERE is_cancel = 1): boolean (nullable = true)\n",
      " |-- ALL(transactions-WEEKEND(membership_expire_date) WHERE is_auto_renew = 1): boolean (nullable = true)\n",
      " |-- MODE(transactions-DAY(transaction_date)): double (nullable = true)\n",
      " |-- MODE(transactions-DAY(membership_expire_date)): double (nullable = true)\n",
      " |-- MODE(transactions-MONTH(transaction_date)): double (nullable = true)\n",
      " |-- MODE(transactions-MONTH(membership_expire_date)): double (nullable = true)\n",
      " |-- NUM_UNIQUE(transactions-DAY(transaction_date)): double (nullable = true)\n",
      " |-- NUM_UNIQUE(transactions-DAY(membership_expire_date)): double (nullable = true)\n",
      " |-- NUM_UNIQUE(transactions-MONTH(transaction_date)): double (nullable = true)\n",
      " |-- NUM_UNIQUE(transactions-MONTH(membership_expire_date)): double (nullable = true)\n",
      " |-- LAST(transactions-WEEKEND(transaction_date)): boolean (nullable = true)\n",
      " |-- LAST(transactions-WEEKEND(membership_expire_date)): boolean (nullable = true)\n",
      " |-- LAST(transactions-DAY(transaction_date)): double (nullable = true)\n",
      " |-- LAST(transactions-DAY(membership_expire_date)): double (nullable = true)\n",
      " |-- LAST(transactions-MONTH(transaction_date)): double (nullable = true)\n",
      " |-- LAST(transactions-MONTH(membership_expire_date)): double (nullable = true)\n",
      " |-- MEAN(transactions-payment_plan_days WHERE is_auto_renew = 0): double (nullable = true)\n",
      " |-- MEAN(transactions-payment_plan_days WHERE is_cancel = 0): double (nullable = true)\n",
      " |-- MEAN(transactions-payment_plan_days WHERE is_cancel = 1): double (nullable = true)\n",
      " |-- MEAN(transactions-payment_plan_days WHERE is_auto_renew = 1): double (nullable = true)\n",
      " |-- MEAN(transactions-plan_list_price WHERE is_auto_renew = 0): double (nullable = true)\n",
      " |-- MEAN(transactions-plan_list_price WHERE is_cancel = 0): double (nullable = true)\n",
      " |-- MEAN(transactions-plan_list_price WHERE is_cancel = 1): double (nullable = true)\n",
      " |-- MEAN(transactions-plan_list_price WHERE is_auto_renew = 1): double (nullable = true)\n",
      " |-- MEAN(transactions-actual_amount_paid WHERE is_auto_renew = 0): double (nullable = true)\n",
      " |-- MEAN(transactions-actual_amount_paid WHERE is_cancel = 0): double (nullable = true)\n",
      " |-- MEAN(transactions-actual_amount_paid WHERE is_cancel = 1): double (nullable = true)\n",
      " |-- MEAN(transactions-actual_amount_paid WHERE is_auto_renew = 1): double (nullable = true)\n",
      " |-- MEAN(transactions-price_difference WHERE is_auto_renew = 0): double (nullable = true)\n",
      " |-- MEAN(transactions-price_difference WHERE is_cancel = 0): double (nullable = true)\n",
      " |-- MEAN(transactions-price_difference WHERE is_cancel = 1): double (nullable = true)\n",
      " |-- MEAN(transactions-price_difference WHERE is_auto_renew = 1): double (nullable = true)\n",
      " |-- MEAN(transactions-planned_daily_price WHERE is_auto_renew = 0): double (nullable = true)\n",
      " |-- MEAN(transactions-planned_daily_price WHERE is_cancel = 0): double (nullable = true)\n",
      " |-- MEAN(transactions-planned_daily_price WHERE is_cancel = 1): double (nullable = true)\n",
      " |-- MEAN(transactions-planned_daily_price WHERE is_auto_renew = 1): double (nullable = true)\n",
      " |-- MEAN(transactions-daily_price WHERE is_auto_renew = 0): double (nullable = true)\n",
      " |-- MEAN(transactions-daily_price WHERE is_cancel = 0): double (nullable = true)\n",
      " |-- MEAN(transactions-daily_price WHERE is_cancel = 1): double (nullable = true)\n",
      " |-- MEAN(transactions-daily_price WHERE is_auto_renew = 1): double (nullable = true)\n",
      " |-- PERCENT_TRUE(transactions-is_auto_renew WHERE is_cancel = 0): double (nullable = true)\n",
      " |-- PERCENT_TRUE(transactions-is_auto_renew WHERE is_cancel = 1): double (nullable = true)\n",
      " |-- PERCENT_TRUE(transactions-is_cancel WHERE is_auto_renew = 0): double (nullable = true)\n",
      " |-- PERCENT_TRUE(transactions-is_cancel WHERE is_auto_renew = 1): double (nullable = true)\n",
      " |-- PERCENT_TRUE(transactions-WEEKEND(transaction_date)): double (nullable = true)\n",
      " |-- PERCENT_TRUE(transactions-WEEKEND(transaction_date) WHERE is_auto_renew = 0): double (nullable = true)\n",
      " |-- PERCENT_TRUE(transactions-WEEKEND(transaction_date) WHERE is_cancel = 0): double (nullable = true)\n",
      " |-- PERCENT_TRUE(transactions-WEEKEND(transaction_date) WHERE is_cancel = 1): double (nullable = true)\n",
      " |-- PERCENT_TRUE(transactions-WEEKEND(transaction_date) WHERE is_auto_renew = 1): double (nullable = true)\n",
      " |-- PERCENT_TRUE(transactions-WEEKEND(membership_expire_date)): double (nullable = true)\n",
      " |-- PERCENT_TRUE(transactions-WEEKEND(membership_expire_date) WHERE is_auto_renew = 0): double (nullable = true)\n",
      " |-- PERCENT_TRUE(transactions-WEEKEND(membership_expire_date) WHERE is_cancel = 0): double (nullable = true)\n",
      " |-- PERCENT_TRUE(transactions-WEEKEND(membership_expire_date) WHERE is_cancel = 1): double (nullable = true)\n",
      " |-- PERCENT_TRUE(transactions-WEEKEND(membership_expire_date) WHERE is_auto_renew = 1): double (nullable = true)\n",
      " |-- ALL(logs-WEEKEND(date)): boolean (nullable = true)\n",
      " |-- MODE(logs-DAY(date)): double (nullable = true)\n",
      " |-- MODE(logs-MONTH(date)): double (nullable = true)\n",
      " |-- NUM_UNIQUE(logs-DAY(date)): double (nullable = true)\n",
      " |-- NUM_UNIQUE(logs-MONTH(date)): double (nullable = true)\n",
      " |-- LAST(logs-WEEKEND(date)): boolean (nullable = true)\n",
      " |-- LAST(logs-DAY(date)): double (nullable = true)\n",
      " |-- LAST(logs-MONTH(date)): double (nullable = true)\n",
      " |-- PERCENT_TRUE(logs-WEEKEND(date)): double (nullable = true)\n",
      " |-- WEEKEND(LAST(transactions-transaction_date)): boolean (nullable = true)\n",
      " |-- WEEKEND(LAST(transactions-membership_expire_date)): boolean (nullable = true)\n",
      " |-- WEEKEND(LAST(logs-date)): boolean (nullable = true)\n",
      " |-- DAY(LAST(transactions-transaction_date)): double (nullable = true)\n",
      " |-- DAY(LAST(transactions-membership_expire_date)): double (nullable = true)\n",
      " |-- DAY(LAST(logs-date)): double (nullable = true)\n",
      " |-- MONTH(LAST(transactions-transaction_date)): double (nullable = true)\n",
      " |-- MONTH(LAST(transactions-membership_expire_date)): double (nullable = true)\n",
      " |-- MONTH(LAST(logs-date)): double (nullable = true)\n",
      " |-- label: boolean (nullable = true)"
     ]
    }
   ],
   "source": [
    "%%spark\n",
    "df.printSchema()"
   ]
  },
  {
   "cell_type": "markdown",
   "metadata": {},
   "source": [
    "## 4. Data Visualization"
   ]
  },
  {
   "cell_type": "markdown",
   "metadata": {},
   "source": [
    "##### Y Variable Value Counts\n",
    "The label column is the y variable in this predictive model. The value counts of the binary label are below."
   ]
  },
  {
   "cell_type": "code",
   "execution_count": 6,
   "metadata": {},
   "outputs": [
    {
     "data": {
      "application/vnd.jupyter.widget-view+json": {
       "model_id": "",
       "version_major": 2,
       "version_minor": 0
      },
      "text/plain": [
       "FloatProgress(value=0.0, bar_style='info', description='Progress:', layout=Layout(height='25px', width='50%'),…"
      ]
     },
     "metadata": {},
     "output_type": "display_data"
    }
   ],
   "source": [
    "%%spark\n",
    "import pandas as pd\n",
    "label_counts = df.groupBy('label').count().orderBy('count')"
   ]
  },
  {
   "cell_type": "markdown",
   "metadata": {},
   "source": [
    "This command moves the label counts dataframe from the spark cluster to the local machine. This is done so the data can be plotted."
   ]
  },
  {
   "cell_type": "code",
   "execution_count": 7,
   "metadata": {},
   "outputs": [
    {
     "data": {
      "application/vnd.jupyter.widget-view+json": {
       "model_id": "",
       "version_major": 2,
       "version_minor": 0
      },
      "text/plain": [
       "FloatProgress(value=0.0, bar_style='info', description='Progress:', layout=Layout(height='25px', width='50%'),…"
      ]
     },
     "metadata": {},
     "output_type": "display_data"
    },
    {
     "name": "stdout",
     "output_type": "stream",
     "text": [
      "DataFrame[label: boolean, count: bigint]"
     ]
    },
    {
     "data": {
      "application/vnd.jupyter.widget-view+json": {
       "model_id": "",
       "version_major": 2,
       "version_minor": 0
      },
      "text/plain": [
       "FloatProgress(value=0.0, bar_style='info', description='Progress:', layout=Layout(height='25px', width='50%'),…"
      ]
     },
     "metadata": {},
     "output_type": "display_data"
    }
   ],
   "source": [
    "%%spark --output label_counts\n",
    "label_counts"
   ]
  },
  {
   "cell_type": "code",
   "execution_count": 8,
   "metadata": {},
   "outputs": [
    {
     "data": {
      "text/plain": [
       "Text(0.5, 1.0, 'Churn Distribution')"
      ]
     },
     "execution_count": 8,
     "metadata": {},
     "output_type": "execute_result"
    },
    {
     "data": {
      "image/png": "[encoded data removed]",
      "text/plain": [
       "<Figure size 432x288 with 1 Axes>"
      ]
     },
     "metadata": {
      "needs_background": "light"
     },
     "output_type": "display_data"
    }
   ],
   "source": [
    "import pandas as pd\n",
    "import seaborn as sns\n",
    "import matplotlib.pyplot as plt\n",
    "import numpy as np\n",
    "\n",
    "label_counts = pd.DataFrame(label_counts).rename(columns={0:\"label\", 1:\"count\"})\n",
    "\n",
    "sns.barplot(x=\"label\", y=\"count\", data=label_counts, palette=\"rocket\")\n",
    "plt.xlabel(\"Label\")\n",
    "plt.ylabel(\"Count\")\n",
    "plt.yticks([0, 5000000, 10000000, 15000000, 20000000, 25000000], ['0', '5M', '10M', '15M', '20M', '25M'])\n",
    "plt.title(\"Churn Distribution\")"
   ]
  },
  {
   "cell_type": "markdown",
   "metadata": {},
   "source": [
    "##### Correlation Matrix"
   ]
  },
  {
   "cell_type": "code",
   "execution_count": null,
   "metadata": {},
   "outputs": [],
   "source": [
    "%%spark\n",
    "\n",
    "from pyspark.sql.functions import col\n",
    "from pyspark.sql.types import BooleanType, DoubleType\n",
    "import pyspark.sql.functions as f\n",
    "from pyspark.ml.stat import Correlation\n",
    "from pyspark.ml.feature import VectorAssembler\n",
    "import pandas as pd\n",
    "\n",
    "dfl = df\n",
    "\n",
    "bool_cols = [f.name for f in df.schema.fields if isinstance(f.dataType, BooleanType)]\n",
    "\n",
    "for column in bool_cols:\n",
    "    dfl = df.withColumn(column, col(column).cast(DoubleType()))\n",
    "    \n",
    "dfl = dfl.withColumn(\"label\", col(\"label\").cast(DoubleType()))\n",
    "\n",
    "cols = [f.name for f in dfl.schema.fields if isinstance(f.dataType, DoubleType)]\n",
    "\n",
    "# convert to vector column first\n",
    "vector_col = \"corr_features\"\n",
    "assembler = VectorAssembler(inputCols=cols, outputCol=vector_col, handleInvalid=\"keep\")\n",
    "df_vector = assembler.transform(dfl).select(vector_col)\n",
    "\n",
    "# get correlation matrix\n",
    "matrix = Correlation.corr(df_vector, vector_col)\n",
    "\n",
    "# get column and row mappings\n",
    "mapper = {}\n",
    "index = 0\n",
    "for col in cols:\n",
    "    mapper[index] = col\n",
    "    index += 1\n",
    "\n",
    "# reshape and add metadata    \n",
    "corr = matrix.collect()[0][\"pearson({})\".format(vector_col)].values.reshape(len(cols),len(cols))\n",
    "corr = pd.DataFrame(corr).rename(mapper, axis=1)\n",
    "corr_df = spark.createDataFrame(corr)"
   ]
  },
  {
   "cell_type": "code",
   "execution_count": null,
   "metadata": {},
   "outputs": [],
   "source": [
    "%%spark\n",
    "corr_df.head()"
   ]
  },
  {
   "cell_type": "code",
   "execution_count": 9,
   "metadata": {},
   "outputs": [
    {
     "data": {
      "application/vnd.jupyter.widget-view+json": {
       "model_id": "",
       "version_major": 2,
       "version_minor": 0
      },
      "text/plain": [
       "FloatProgress(value=0.0, bar_style='info', description='Progress:', layout=Layout(height='25px', width='50%'),…"
      ]
     },
     "metadata": {},
     "output_type": "display_data"
    }
   ],
   "source": [
    "%%spark\n",
    "# write correlation dataframe to file\n",
    "corr_df.write.format(\"com.databricks.spark.csv\").option(\"header\", \"true\").mode('overwrite').save('s3://jolfr-capstone3/metadata/correlation.csv')"
   ]
  },
  {
   "cell_type": "code",
   "execution_count": null,
   "metadata": {},
   "outputs": [],
   "source": []
  }
 ],
 "metadata": {
  "kernelspec": {
   "display_name": "Python 3",
   "language": "python",
   "name": "python3"
  },
  "language_info": {
   "codemirror_mode": {
    "name": "ipython",
    "version": 3
   },
   "file_extension": ".py",
   "mimetype": "text/x-python",
   "name": "python",
   "nbconvert_exporter": "python",
   "pygments_lexer": "ipython3",
   "version": "3.9.0"
  }
 },
 "nbformat": 4,
 "nbformat_minor": 4
}
