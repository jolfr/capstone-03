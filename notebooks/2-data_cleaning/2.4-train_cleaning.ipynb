{
 "cells": [
  {
   "cell_type": "markdown",
   "metadata": {},
   "source": [
    "# 2.4 Train Data Cleaning\n",
    "\n",
    "##### Description\n",
    "\n",
    "Basic data visualization and data formatting for train.csv\n",
    "\n",
    "##### Notebook Steps\n",
    "\n",
    "1. Connect Spark\n",
    "1. Input Data\n",
    "1. Examine Data\n",
    "1. Data Cleaning\n",
    "1. Output Data"
   ]
  },
  {
   "cell_type": "markdown",
   "metadata": {},
   "source": [
    "## 1. Connect Spark"
   ]
  },
  {
   "cell_type": "code",
   "execution_count": 1,
   "metadata": {},
   "outputs": [],
   "source": [
    "import pyspark\n",
    "sc = pyspark.SparkContext(appName=\"train-clean\")\n",
    "sc.setLogLevel(\"INFO\")\n",
    "\n",
    "from pyspark.sql import SQLContext\n",
    "sqlContext = SQLContext(sc)"
   ]
  },
  {
   "cell_type": "markdown",
   "metadata": {},
   "source": [
    "## 2. Input Data"
   ]
  },
  {
   "cell_type": "code",
   "execution_count": 2,
   "metadata": {},
   "outputs": [],
   "source": [
    "import os\n",
    "import zipfile\n",
    "\n",
    "with zipfile.ZipFile('../../data/1-data_acquisition/1-train.output.zip', 'r') as zip_ref:\n",
    "    zip_ref.extractall()\n",
    "    \n",
    "df = sqlContext.read.csv('1-train.output.csv', header=True)"
   ]
  },
  {
   "cell_type": "markdown",
   "metadata": {},
   "source": [
    "## 3. Examine Data"
   ]
  },
  {
   "cell_type": "markdown",
   "metadata": {},
   "source": [
    "##### show()"
   ]
  },
  {
   "cell_type": "code",
   "execution_count": 3,
   "metadata": {},
   "outputs": [
    {
     "name": "stdout",
     "output_type": "stream",
     "text": [
      "+--------------------+--------+\n",
      "|                msno|is_churn|\n",
      "+--------------------+--------+\n",
      "|ugx0CjOMzazClkFzU...|       1|\n",
      "|f/NmvEzHfhINFEYZT...|       1|\n",
      "|zLo9f73nGGT1p21lt...|       1|\n",
      "|8iF/+8HY8lJKFrTc7...|       1|\n",
      "|K6fja4+jmoZ5xG6By...|       1|\n",
      "|ibIHVYBqxGwrSExE6...|       1|\n",
      "|kVmM8X4iBPCOfK/m1...|       1|\n",
      "|moRTKhKIDvb+C8ZHO...|       1|\n",
      "|dW/tPZMDh2Oz/ksdu...|       1|\n",
      "|otEcMhAX3mU4gumUS...|       1|\n",
      "|t5rqTxCnG7s5VBgEf...|       1|\n",
      "|dfLS2/Pom6O3iUpo+...|       1|\n",
      "|a7AtvhlY8KnKZGpiV...|       1|\n",
      "|F45GsXJIeLvzUJqz/...|       1|\n",
      "|SJCoxreWp6Cu9WPit...|       1|\n",
      "|Oo2RDQixJ0pRWqec4...|       1|\n",
      "|f91n3lDipDjRtAVNg...|       1|\n",
      "|/L2095JD4M/BNLTCb...|       1|\n",
      "|1AzXWFlRO6EfMBzfB...|       1|\n",
      "|WkF/FvlzpBLFoa+Hm...|       1|\n",
      "+--------------------+--------+\n",
      "only showing top 20 rows\n",
      "\n"
     ]
    }
   ],
   "source": [
    "df.show()"
   ]
  },
  {
   "cell_type": "markdown",
   "metadata": {},
   "source": [
    "##### count()"
   ]
  },
  {
   "cell_type": "code",
   "execution_count": 4,
   "metadata": {},
   "outputs": [
    {
     "data": {
      "text/plain": [
       "970960"
      ]
     },
     "execution_count": 4,
     "metadata": {},
     "output_type": "execute_result"
    }
   ],
   "source": [
    "df.count()"
   ]
  },
  {
   "cell_type": "markdown",
   "metadata": {},
   "source": [
    "##### describe()"
   ]
  },
  {
   "cell_type": "code",
   "execution_count": 5,
   "metadata": {},
   "outputs": [
    {
     "name": "stdout",
     "output_type": "stream",
     "text": [
      "+-------+--------------------+-------------------+\n",
      "|summary|                msno|           is_churn|\n",
      "+-------+--------------------+-------------------+\n",
      "|  count|              970960|             970960|\n",
      "|   mean|                null|0.08994191315811156|\n",
      "| stddev|                null| 0.2860986712938496|\n",
      "|    min|+++hVY1rZox/33Ytv...|                  0|\n",
      "|    max|zzzF1KsGfHH3qI6qi...|                  1|\n",
      "+-------+--------------------+-------------------+\n",
      "\n"
     ]
    }
   ],
   "source": [
    "df.describe().show()"
   ]
  },
  {
   "cell_type": "markdown",
   "metadata": {},
   "source": [
    "##### printSchema()"
   ]
  },
  {
   "cell_type": "code",
   "execution_count": 6,
   "metadata": {},
   "outputs": [
    {
     "name": "stdout",
     "output_type": "stream",
     "text": [
      "root\n",
      " |-- msno: string (nullable = true)\n",
      " |-- is_churn: string (nullable = true)\n",
      "\n"
     ]
    }
   ],
   "source": [
    "df.printSchema()"
   ]
  },
  {
   "cell_type": "markdown",
   "metadata": {},
   "source": [
    "##### columns"
   ]
  },
  {
   "cell_type": "code",
   "execution_count": 7,
   "metadata": {},
   "outputs": [
    {
     "data": {
      "text/plain": [
       "['msno', 'is_churn']"
      ]
     },
     "execution_count": 7,
     "metadata": {},
     "output_type": "execute_result"
    }
   ],
   "source": [
    "df.columns"
   ]
  },
  {
   "cell_type": "markdown",
   "metadata": {},
   "source": [
    "##### head(5)"
   ]
  },
  {
   "cell_type": "code",
   "execution_count": 8,
   "metadata": {},
   "outputs": [
    {
     "data": {
      "text/plain": [
       "[Row(msno='ugx0CjOMzazClkFzU2xasmDZaoIqOUAZPsH1q0teWCg=', is_churn='1'),\n",
       " Row(msno='f/NmvEzHfhINFEYZTR05prUdr+E+3+oewvweYz9cCQE=', is_churn='1'),\n",
       " Row(msno='zLo9f73nGGT1p21ltZC3ChiRnAVvgibMyazbCxvWPcg=', is_churn='1'),\n",
       " Row(msno='8iF/+8HY8lJKFrTc7iR9ZYGCG2Ecrogbc2Vy5YhsfhQ=', is_churn='1'),\n",
       " Row(msno='K6fja4+jmoZ5xG6BypqX80Uw/XKpMgrEMdG2edFOxnA=', is_churn='1')]"
      ]
     },
     "execution_count": 8,
     "metadata": {},
     "output_type": "execute_result"
    }
   ],
   "source": [
    "df.head(5)"
   ]
  },
  {
   "cell_type": "markdown",
   "metadata": {},
   "source": [
    "##### tail(5)"
   ]
  },
  {
   "cell_type": "code",
   "execution_count": 9,
   "metadata": {},
   "outputs": [
    {
     "data": {
      "text/plain": [
       "[Row(msno='OHnZbu+EVaP+vN7Z+OfT5OMcp90MWFZonmM0o3pb8FY=', is_churn='0'),\n",
       " Row(msno='S92bDK//uI6hk3u1vuApro0qJBQOToBozZ7lL1yTC+w=', is_churn='0'),\n",
       " Row(msno='eUa3xo16vpAjr43Cjlb6Kjf1NTILYyJIkBayJQdXWnw=', is_churn='0'),\n",
       " Row(msno='iZE41tbAQ65rJq60olkJT4BJzuUAYgQdfbEemXe/TTk=', is_churn='0'),\n",
       " Row(msno='oECkzJik4wKsbOEVY6UACLbmgM8qymFdb5cJaHrodY8=', is_churn='0')]"
      ]
     },
     "execution_count": 9,
     "metadata": {},
     "output_type": "execute_result"
    }
   ],
   "source": [
    "df.tail(5)"
   ]
  },
  {
   "cell_type": "markdown",
   "metadata": {},
   "source": [
    "##### Null per Column"
   ]
  },
  {
   "cell_type": "code",
   "execution_count": 10,
   "metadata": {},
   "outputs": [
    {
     "name": "stdout",
     "output_type": "stream",
     "text": [
      "+----+--------+\n",
      "|msno|is_churn|\n",
      "+----+--------+\n",
      "|   0|       0|\n",
      "+----+--------+\n",
      "\n"
     ]
    }
   ],
   "source": [
    "from pyspark.sql.functions import isnan, when, count, col\n",
    "\n",
    "df.select([count(when(isnan(c) | col(c).isNull(), c)).alias(c) for c in df.columns]).show()"
   ]
  },
  {
   "cell_type": "markdown",
   "metadata": {},
   "source": [
    "##### Value Counts"
   ]
  },
  {
   "cell_type": "code",
   "execution_count": 11,
   "metadata": {},
   "outputs": [
    {
     "name": "stdout",
     "output_type": "stream",
     "text": [
      "+--------+------+\n",
      "|is_churn| count|\n",
      "+--------+------+\n",
      "|       1| 87330|\n",
      "|       0|883630|\n",
      "+--------+------+\n",
      "\n"
     ]
    }
   ],
   "source": [
    "df.groupBy('is_churn').count().orderBy('count').show()"
   ]
  },
  {
   "cell_type": "markdown",
   "metadata": {},
   "source": [
    "## 4. Data Cleaning"
   ]
  },
  {
   "cell_type": "code",
   "execution_count": 12,
   "metadata": {},
   "outputs": [],
   "source": [
    "from pyspark.sql import types\n",
    "from pyspark.sql.functions import col, to_date"
   ]
  },
  {
   "cell_type": "markdown",
   "metadata": {},
   "source": [
    "##### msno\n",
    "The msno column corresponds to user ids for the dataset, so the column is renamed from msno to user_id."
   ]
  },
  {
   "cell_type": "code",
   "execution_count": 13,
   "metadata": {},
   "outputs": [],
   "source": [
    "df = df.withColumnRenamed(\"msno\",\"user_id\")"
   ]
  },
  {
   "cell_type": "markdown",
   "metadata": {},
   "source": [
    "##### is_churn\n",
    "The is_churn column is cast from string to boolean."
   ]
  },
  {
   "cell_type": "code",
   "execution_count": 14,
   "metadata": {},
   "outputs": [],
   "source": [
    "df = df.withColumn(\"is_churn\",col(\"is_churn\").cast(types.BooleanType()))"
   ]
  },
  {
   "cell_type": "markdown",
   "metadata": {},
   "source": [
    "## 5. Data Output"
   ]
  },
  {
   "cell_type": "markdown",
   "metadata": {},
   "source": [
    "##### Final Check"
   ]
  },
  {
   "cell_type": "code",
   "execution_count": 15,
   "metadata": {},
   "outputs": [
    {
     "name": "stdout",
     "output_type": "stream",
     "text": [
      "root\n",
      " |-- user_id: string (nullable = true)\n",
      " |-- is_churn: boolean (nullable = true)\n",
      "\n"
     ]
    }
   ],
   "source": [
    "df.printSchema()"
   ]
  },
  {
   "cell_type": "code",
   "execution_count": 16,
   "metadata": {},
   "outputs": [
    {
     "name": "stdout",
     "output_type": "stream",
     "text": [
      "+--------------------+--------+\n",
      "|             user_id|is_churn|\n",
      "+--------------------+--------+\n",
      "|ugx0CjOMzazClkFzU...|    true|\n",
      "|f/NmvEzHfhINFEYZT...|    true|\n",
      "|zLo9f73nGGT1p21lt...|    true|\n",
      "|8iF/+8HY8lJKFrTc7...|    true|\n",
      "|K6fja4+jmoZ5xG6By...|    true|\n",
      "|ibIHVYBqxGwrSExE6...|    true|\n",
      "|kVmM8X4iBPCOfK/m1...|    true|\n",
      "|moRTKhKIDvb+C8ZHO...|    true|\n",
      "|dW/tPZMDh2Oz/ksdu...|    true|\n",
      "|otEcMhAX3mU4gumUS...|    true|\n",
      "|t5rqTxCnG7s5VBgEf...|    true|\n",
      "|dfLS2/Pom6O3iUpo+...|    true|\n",
      "|a7AtvhlY8KnKZGpiV...|    true|\n",
      "|F45GsXJIeLvzUJqz/...|    true|\n",
      "|SJCoxreWp6Cu9WPit...|    true|\n",
      "|Oo2RDQixJ0pRWqec4...|    true|\n",
      "|f91n3lDipDjRtAVNg...|    true|\n",
      "|/L2095JD4M/BNLTCb...|    true|\n",
      "|1AzXWFlRO6EfMBzfB...|    true|\n",
      "|WkF/FvlzpBLFoa+Hm...|    true|\n",
      "+--------------------+--------+\n",
      "only showing top 20 rows\n",
      "\n"
     ]
    }
   ],
   "source": [
    "df.show()"
   ]
  },
  {
   "cell_type": "markdown",
   "metadata": {},
   "source": [
    "##### Output to File"
   ]
  },
  {
   "cell_type": "code",
   "execution_count": 17,
   "metadata": {},
   "outputs": [],
   "source": [
    "filepath = '../../data/2-data_cleaning/2-train.output.csv'\n",
    "\n",
    "df.write.format('com.databricks.spark.csv').options(header='true').save(filepath)"
   ]
  },
  {
   "cell_type": "code",
   "execution_count": null,
   "metadata": {},
   "outputs": [],
   "source": []
  }
 ],
 "metadata": {
  "kernelspec": {
   "display_name": "Python 3",
   "language": "python",
   "name": "python3"
  },
  "language_info": {
   "codemirror_mode": {
    "name": "ipython",
    "version": 3
   },
   "file_extension": ".py",
   "mimetype": "text/x-python",
   "name": "python",
   "nbconvert_exporter": "python",
   "pygments_lexer": "ipython3",
   "version": "3.8.6"
  }
 },
 "nbformat": 4,
 "nbformat_minor": 4
}
