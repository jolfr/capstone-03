{
 "cells": [
  {
   "cell_type": "markdown",
   "metadata": {},
   "source": [
    "# 2.3 Logs Data Cleaning\n",
    "\n",
    "##### Description\n",
    "\n",
    "Basic data visualization and data formatting for logs.csv\n",
    "\n",
    "##### Notebook Steps\n",
    "\n",
    "1. Connect Spark\n",
    "1. Input Data\n",
    "1. Examine Data\n",
    "1. Data Cleaning\n",
    "1. Output Data"
   ]
  },
  {
   "cell_type": "markdown",
   "metadata": {},
   "source": [
    "## 1. Connect Spark"
   ]
  },
  {
   "cell_type": "code",
   "execution_count": 1,
   "metadata": {},
   "outputs": [],
   "source": [
    "%load_ext sparkmagic.magics"
   ]
  },
  {
   "cell_type": "code",
   "execution_count": 2,
   "metadata": {},
   "outputs": [
    {
     "data": {
      "application/vnd.jupyter.widget-view+json": {
       "model_id": "0516aea1ce714aeb8898ea368ec4ffaa",
       "version_major": 2,
       "version_minor": 0
      },
      "text/plain": [
       "MagicsControllerWidget(children=(Tab(children=(ManageSessionWidget(children=(HTML(value='<br/>'), HTML(value='…"
      ]
     },
     "metadata": {},
     "output_type": "display_data"
    },
    {
     "name": "stdout",
     "output_type": "stream",
     "text": [
      "Added endpoint http://ec2-3-85-12-54.compute-1.amazonaws.com:8998/\n",
      "Starting Spark application\n"
     ]
    },
    {
     "data": {
      "text/html": [
       "<table>\n",
       "<tr><th>ID</th><th>YARN Application ID</th><th>Kind</th><th>State</th><th>Spark UI</th><th>Driver log</th><th>Current session?</th></tr><tr><td>3</td><td>application_1609241788334_0004</td><td>pyspark</td><td>idle</td><td><a target=\"_blank\" href=\"http://ip-172-31-31-94.ec2.internal:20888/proxy/application_1609241788334_0004/\">Link</a></td><td><a target=\"_blank\" href=\"http://ip-172-31-28-233.ec2.internal:8042/node/containerlogs/container_1609241788334_0004_01_000001/livy\">Link</a></td><td>✔</td></tr></table>"
      ],
      "text/plain": [
       "<IPython.core.display.HTML object>"
      ]
     },
     "metadata": {},
     "output_type": "display_data"
    },
    {
     "data": {
      "application/vnd.jupyter.widget-view+json": {
       "model_id": "",
       "version_major": 2,
       "version_minor": 0
      },
      "text/plain": [
       "FloatProgress(value=0.0, bar_style='info', description='Progress:', layout=Layout(height='25px', width='50%'),…"
      ]
     },
     "metadata": {},
     "output_type": "display_data"
    },
    {
     "name": "stdout",
     "output_type": "stream",
     "text": [
      "SparkSession available as 'spark'.\n",
      "Cleaned up endpoint http://ec2-3-85-12-54.compute-1.amazonaws.com:8998/\n"
     ]
    }
   ],
   "source": [
    "%manage_spark"
   ]
  },
  {
   "cell_type": "markdown",
   "metadata": {},
   "source": [
    "## 2. Input Data"
   ]
  },
  {
   "cell_type": "code",
   "execution_count": 3,
   "metadata": {},
   "outputs": [
    {
     "data": {
      "application/vnd.jupyter.widget-view+json": {
       "model_id": "",
       "version_major": 2,
       "version_minor": 0
      },
      "text/plain": [
       "FloatProgress(value=0.0, bar_style='info', description='Progress:', layout=Layout(height='25px', width='50%'),…"
      ]
     },
     "metadata": {},
     "output_type": "display_data"
    }
   ],
   "source": [
    "%%spark\n",
    "df = spark.read.csv(\"s3://jolfr-capstone3/raw/logs\", header=True)"
   ]
  },
  {
   "cell_type": "markdown",
   "metadata": {},
   "source": [
    "## 3. Examine Data"
   ]
  },
  {
   "cell_type": "markdown",
   "metadata": {},
   "source": [
    "##### show()"
   ]
  },
  {
   "cell_type": "code",
   "execution_count": 4,
   "metadata": {},
   "outputs": [
    {
     "data": {
      "application/vnd.jupyter.widget-view+json": {
       "model_id": "",
       "version_major": 2,
       "version_minor": 0
      },
      "text/plain": [
       "FloatProgress(value=0.0, bar_style='info', description='Progress:', layout=Layout(height='25px', width='50%'),…"
      ]
     },
     "metadata": {},
     "output_type": "display_data"
    },
    {
     "name": "stdout",
     "output_type": "stream",
     "text": [
      "+--------------------+--------+------+------+------+-------+-------+-------+----------+\n",
      "|                msno|    date|num_25|num_50|num_75|num_985|num_100|num_unq|total_secs|\n",
      "+--------------------+--------+------+------+------+-------+-------+-------+----------+\n",
      "|u9E91QDTvHLq6NXjE...|20170331|     8|     4|     0|      1|     21|     18| 6309.2730|\n",
      "|nTeWW/eOZA/UHKdD5...|20170330|     2|     2|     1|      0|      9|     11| 2390.6990|\n",
      "|2UqkWXwZbIjs03dHL...|20170331|    52|     3|     5|      3|     84|    110|23203.3370|\n",
      "|ycwLc+m2O0a85jSLA...|20170331|   176|     4|     2|      2|     19|    191| 7100.4540|\n",
      "|EGcbTofOSOkMmQyN1...|20170331|     2|     1|     0|      1|    112|     93|28401.5580|\n",
      "|qR/ndQ5B+1cY+c9ih...|20170331|     3|     0|     0|      0|     39|     41| 9786.8420|\n",
      "|N6ch5ArfJixq9mvAR...|20170330|     9|     1|     0|      0|     18|     26| 4920.2550|\n",
      "|JEjl2W1ivEI6epeob...|20170331|   181|    68|     5|      3|     54|    291|22433.1050|\n",
      "|lPK4IYIFdfTT6pq7x...|20170331|     3|     0|     1|      1|    181|    150|46240.2810|\n",
      "|cDgnvwQwCwru2m3zc...|20170331|     5|     4|     1|      1|     30|     31| 7881.6180|\n",
      "|Cwk7eMLB8Gn8WuzEC...|20170331|     7|     1|     2|      7|     69|     74|18169.1760|\n",
      "|6eT/NGMljpNgEeqTY...|20170324|    78|     5|     3|      2|      8|     85| 3490.0200|\n",
      "|PVoh0C3fQb1qPNLj7...|20170325|     7|     1|     0|      0|     45|     21| 8159.8110|\n",
      "|cK5XYJqbmsRYasnA4...|20170324|     1|     0|     0|      0|     17|     18| 4012.8140|\n",
      "|zv12NEuyP2XxcgTDu...|20170325|     5|     3|     2|      1|     34|     43| 9060.8140|\n",
      "|NCRcE4eNurBdOoRk0...|20170325|    40|     6|     2|      2|    131|    149|29400.8890|\n",
      "|q5iH4iDmaFeyz2Zhv...|20170324|     4|     2|     0|      1|     79|     80|20312.5700|\n",
      "|dgjSYdCsI6j51myzx...|20170325|     3|     1|     0|      2|    155|    156|36424.9540|\n",
      "|Q6XdUeVvsXNF/7o0I...|20170318|     1|     1|     1|      0|    136|    123|37989.7160|\n",
      "|TWrqEpm0U75ZWW6CH...|20170317|    18|     1|     2|      3|    170|    162|42203.6750|\n",
      "+--------------------+--------+------+------+------+-------+-------+-------+----------+\n",
      "only showing top 20 rows"
     ]
    }
   ],
   "source": [
    "%%spark\n",
    "df.show()"
   ]
  },
  {
   "cell_type": "markdown",
   "metadata": {},
   "source": [
    "##### count()"
   ]
  },
  {
   "cell_type": "code",
   "execution_count": 5,
   "metadata": {},
   "outputs": [
    {
     "data": {
      "application/vnd.jupyter.widget-view+json": {
       "model_id": "",
       "version_major": 2,
       "version_minor": 0
      },
      "text/plain": [
       "FloatProgress(value=0.0, bar_style='info', description='Progress:', layout=Layout(height='25px', width='50%'),…"
      ]
     },
     "metadata": {},
     "output_type": "display_data"
    },
    {
     "name": "stdout",
     "output_type": "stream",
     "text": [
      "18396362"
     ]
    }
   ],
   "source": [
    "%%spark\n",
    "df.count()"
   ]
  },
  {
   "cell_type": "markdown",
   "metadata": {},
   "source": [
    "##### describe()"
   ]
  },
  {
   "cell_type": "code",
   "execution_count": 6,
   "metadata": {},
   "outputs": [
    {
     "data": {
      "application/vnd.jupyter.widget-view+json": {
       "model_id": "",
       "version_major": 2,
       "version_minor": 0
      },
      "text/plain": [
       "FloatProgress(value=0.0, bar_style='info', description='Progress:', layout=Layout(height='25px', width='50%'),…"
      ]
     },
     "metadata": {},
     "output_type": "display_data"
    },
    {
     "name": "stdout",
     "output_type": "stream",
     "text": [
      "+-------+--------------------+--------------------+-----------------+------------------+------------------+------------------+-----------------+------------------+------------------+\n",
      "|summary|                msno|                date|           num_25|            num_50|            num_75|           num_985|          num_100|           num_unq|        total_secs|\n",
      "+-------+--------------------+--------------------+-----------------+------------------+------------------+------------------+-----------------+------------------+------------------+\n",
      "|  count|            18396362|            18396362|         18396362|          18396362|          18396362|          18396362|         18396362|          18396362|          18396362|\n",
      "|   mean|                null|2.0170316085612632E7|6.191400941120858|1.5087888572751504|0.9413759089976594|1.0799049290289027|30.28246090178047| 29.03614551616238| 7904.813556356515|\n",
      "| stddev|                null|   8.916720034419148|13.42826633653489|3.9085385578204312|1.9248401148456464| 3.518409046864045|42.03641179520044|32.198659871087166|10136.323015166608|\n",
      "|    min|+++IZseRRiQS9aaSk...|            20170301|                0|                 0|                 0|                 0|                0|                 1|            0.0010|\n",
      "|    max|zzzueVTwIa5TjXnG2...|            20170331|              994|                99|                99|                99|              998|               999|         9999.9990|\n",
      "+-------+--------------------+--------------------+-----------------+------------------+------------------+------------------+-----------------+------------------+------------------+"
     ]
    }
   ],
   "source": [
    "%%spark\n",
    "df.describe().show()"
   ]
  },
  {
   "cell_type": "markdown",
   "metadata": {},
   "source": [
    "##### printSchema()"
   ]
  },
  {
   "cell_type": "code",
   "execution_count": 7,
   "metadata": {},
   "outputs": [
    {
     "data": {
      "application/vnd.jupyter.widget-view+json": {
       "model_id": "",
       "version_major": 2,
       "version_minor": 0
      },
      "text/plain": [
       "FloatProgress(value=0.0, bar_style='info', description='Progress:', layout=Layout(height='25px', width='50%'),…"
      ]
     },
     "metadata": {},
     "output_type": "display_data"
    },
    {
     "name": "stdout",
     "output_type": "stream",
     "text": [
      "root\n",
      " |-- msno: string (nullable = true)\n",
      " |-- date: string (nullable = true)\n",
      " |-- num_25: string (nullable = true)\n",
      " |-- num_50: string (nullable = true)\n",
      " |-- num_75: string (nullable = true)\n",
      " |-- num_985: string (nullable = true)\n",
      " |-- num_100: string (nullable = true)\n",
      " |-- num_unq: string (nullable = true)\n",
      " |-- total_secs: string (nullable = true)"
     ]
    }
   ],
   "source": [
    "%%spark\n",
    "df.printSchema()"
   ]
  },
  {
   "cell_type": "markdown",
   "metadata": {},
   "source": [
    "##### columns"
   ]
  },
  {
   "cell_type": "code",
   "execution_count": 8,
   "metadata": {},
   "outputs": [
    {
     "data": {
      "application/vnd.jupyter.widget-view+json": {
       "model_id": "",
       "version_major": 2,
       "version_minor": 0
      },
      "text/plain": [
       "FloatProgress(value=0.0, bar_style='info', description='Progress:', layout=Layout(height='25px', width='50%'),…"
      ]
     },
     "metadata": {},
     "output_type": "display_data"
    },
    {
     "name": "stdout",
     "output_type": "stream",
     "text": [
      "['msno', 'date', 'num_25', 'num_50', 'num_75', 'num_985', 'num_100', 'num_unq', 'total_secs']"
     ]
    }
   ],
   "source": [
    "%%spark\n",
    "df.columns"
   ]
  },
  {
   "cell_type": "markdown",
   "metadata": {},
   "source": [
    "##### head(5)"
   ]
  },
  {
   "cell_type": "code",
   "execution_count": 9,
   "metadata": {},
   "outputs": [
    {
     "data": {
      "application/vnd.jupyter.widget-view+json": {
       "model_id": "",
       "version_major": 2,
       "version_minor": 0
      },
      "text/plain": [
       "FloatProgress(value=0.0, bar_style='info', description='Progress:', layout=Layout(height='25px', width='50%'),…"
      ]
     },
     "metadata": {},
     "output_type": "display_data"
    },
    {
     "name": "stdout",
     "output_type": "stream",
     "text": [
      "[Row(msno=u'u9E91QDTvHLq6NXjEaWv8u4QIqhrHk72kE+w31Gnhdg=', date=u'20170331', num_25=u'8', num_50=u'4', num_75=u'0', num_985=u'1', num_100=u'21', num_unq=u'18', total_secs=u'6309.2730'), Row(msno=u'nTeWW/eOZA/UHKdD5L7DEqKKFTjaAj3ALLPoAWsU8n0=', date=u'20170330', num_25=u'2', num_50=u'2', num_75=u'1', num_985=u'0', num_100=u'9', num_unq=u'11', total_secs=u'2390.6990'), Row(msno=u'2UqkWXwZbIjs03dHLU9KHJNNEvEkZVzm69f3jCS+uLI=', date=u'20170331', num_25=u'52', num_50=u'3', num_75=u'5', num_985=u'3', num_100=u'84', num_unq=u'110', total_secs=u'23203.3370'), Row(msno=u'ycwLc+m2O0a85jSLALtr941AaZt9ai8Qwlg9n0Nql5U=', date=u'20170331', num_25=u'176', num_50=u'4', num_75=u'2', num_985=u'2', num_100=u'19', num_unq=u'191', total_secs=u'7100.4540'), Row(msno=u'EGcbTofOSOkMmQyN1NMLxHEXJ1yV3t/JdhGwQ9wXjnI=', date=u'20170331', num_25=u'2', num_50=u'1', num_75=u'0', num_985=u'1', num_100=u'112', num_unq=u'93', total_secs=u'28401.5580')]"
     ]
    }
   ],
   "source": [
    "%%spark\n",
    "df.head(5)"
   ]
  },
  {
   "cell_type": "markdown",
   "metadata": {},
   "source": [
    "##### Null per Column"
   ]
  },
  {
   "cell_type": "code",
   "execution_count": 10,
   "metadata": {},
   "outputs": [
    {
     "data": {
      "application/vnd.jupyter.widget-view+json": {
       "model_id": "",
       "version_major": 2,
       "version_minor": 0
      },
      "text/plain": [
       "FloatProgress(value=0.0, bar_style='info', description='Progress:', layout=Layout(height='25px', width='50%'),…"
      ]
     },
     "metadata": {},
     "output_type": "display_data"
    },
    {
     "name": "stdout",
     "output_type": "stream",
     "text": [
      "+----+----+------+------+------+-------+-------+-------+----------+\n",
      "|msno|date|num_25|num_50|num_75|num_985|num_100|num_unq|total_secs|\n",
      "+----+----+------+------+------+-------+-------+-------+----------+\n",
      "|   0|   0|     0|     0|     0|      0|      0|      0|         0|\n",
      "+----+----+------+------+------+-------+-------+-------+----------+"
     ]
    }
   ],
   "source": [
    "%%spark\n",
    "from pyspark.sql.functions import isnan, when, count, col\n",
    "\n",
    "df.select([count(when(isnan(c) | col(c).isNull(), c)).alias(c) for c in df.columns]).show()"
   ]
  },
  {
   "cell_type": "markdown",
   "metadata": {},
   "source": [
    "##### Value Counts"
   ]
  },
  {
   "cell_type": "code",
   "execution_count": 11,
   "metadata": {},
   "outputs": [
    {
     "data": {
      "application/vnd.jupyter.widget-view+json": {
       "model_id": "",
       "version_major": 2,
       "version_minor": 0
      },
      "text/plain": [
       "FloatProgress(value=0.0, bar_style='info', description='Progress:', layout=Layout(height='25px', width='50%'),…"
      ]
     },
     "metadata": {},
     "output_type": "display_data"
    },
    {
     "name": "stdout",
     "output_type": "stream",
     "text": [
      "+------+-----+\n",
      "|num_25|count|\n",
      "+------+-----+\n",
      "|   625|    1|\n",
      "|   635|    1|\n",
      "|   521|    1|\n",
      "|   595|    1|\n",
      "|   700|    1|\n",
      "|  2443|    1|\n",
      "|   836|    1|\n",
      "|  4312|    1|\n",
      "|  1090|    1|\n",
      "|   672|    1|\n",
      "|  4357|    1|\n",
      "|   675|    1|\n",
      "|   823|    1|\n",
      "|   800|    1|\n",
      "|   788|    1|\n",
      "|  1161|    1|\n",
      "|  1108|    1|\n",
      "|   548|    1|\n",
      "|  1698|    1|\n",
      "|   690|    1|\n",
      "+------+-----+\n",
      "only showing top 20 rows"
     ]
    }
   ],
   "source": [
    "%%spark\n",
    "df.groupBy('num_25').count().orderBy('count').show()"
   ]
  },
  {
   "cell_type": "code",
   "execution_count": 12,
   "metadata": {},
   "outputs": [
    {
     "data": {
      "application/vnd.jupyter.widget-view+json": {
       "model_id": "",
       "version_major": 2,
       "version_minor": 0
      },
      "text/plain": [
       "FloatProgress(value=0.0, bar_style='info', description='Progress:', layout=Layout(height='25px', width='50%'),…"
      ]
     },
     "metadata": {},
     "output_type": "display_data"
    },
    {
     "name": "stdout",
     "output_type": "stream",
     "text": [
      "+------+-----+\n",
      "|num_50|count|\n",
      "+------+-----+\n",
      "|   329|    1|\n",
      "|   452|    1|\n",
      "|   479|    1|\n",
      "|   290|    1|\n",
      "|   341|    1|\n",
      "|   415|    1|\n",
      "|   357|    1|\n",
      "|   422|    1|\n",
      "|   296|    1|\n",
      "|   347|    1|\n",
      "|   495|    1|\n",
      "|   320|    1|\n",
      "|   539|    1|\n",
      "|   284|    1|\n",
      "|   912|    1|\n",
      "|   463|    1|\n",
      "|   317|    1|\n",
      "|   558|    1|\n",
      "|   351|    1|\n",
      "|   267|    1|\n",
      "+------+-----+\n",
      "only showing top 20 rows"
     ]
    }
   ],
   "source": [
    "%%spark\n",
    "df.groupBy('num_50').count().orderBy('count').show()"
   ]
  },
  {
   "cell_type": "code",
   "execution_count": 13,
   "metadata": {},
   "outputs": [
    {
     "data": {
      "application/vnd.jupyter.widget-view+json": {
       "model_id": "",
       "version_major": 2,
       "version_minor": 0
      },
      "text/plain": [
       "FloatProgress(value=0.0, bar_style='info', description='Progress:', layout=Layout(height='25px', width='50%'),…"
      ]
     },
     "metadata": {},
     "output_type": "display_data"
    },
    {
     "name": "stdout",
     "output_type": "stream",
     "text": [
      "+------+-----+\n",
      "|num_75|count|\n",
      "+------+-----+\n",
      "|   247|    1|\n",
      "|   107|    1|\n",
      "|   170|    1|\n",
      "|   125|    1|\n",
      "|   127|    1|\n",
      "|   152|    1|\n",
      "|   178|    1|\n",
      "|   166|    1|\n",
      "|   146|    1|\n",
      "|   265|    1|\n",
      "|   174|    1|\n",
      "|   185|    1|\n",
      "|   207|    1|\n",
      "|   205|    1|\n",
      "|   266|    1|\n",
      "|   317|    1|\n",
      "|   164|    1|\n",
      "|   130|    1|\n",
      "|   279|    1|\n",
      "|   376|    1|\n",
      "+------+-----+\n",
      "only showing top 20 rows"
     ]
    }
   ],
   "source": [
    "%%spark\n",
    "df.groupBy('num_75').count().orderBy('count').show()"
   ]
  },
  {
   "cell_type": "code",
   "execution_count": 14,
   "metadata": {},
   "outputs": [
    {
     "data": {
      "application/vnd.jupyter.widget-view+json": {
       "model_id": "",
       "version_major": 2,
       "version_minor": 0
      },
      "text/plain": [
       "FloatProgress(value=0.0, bar_style='info', description='Progress:', layout=Layout(height='25px', width='50%'),…"
      ]
     },
     "metadata": {},
     "output_type": "display_data"
    },
    {
     "name": "stdout",
     "output_type": "stream",
     "text": [
      "+-------+-----+\n",
      "|num_985|count|\n",
      "+-------+-----+\n",
      "|    552|    1|\n",
      "|    277|    1|\n",
      "|    352|    1|\n",
      "|    453|    1|\n",
      "|    285|    1|\n",
      "|    650|    1|\n",
      "|    922|    1|\n",
      "|    776|    1|\n",
      "|    782|    1|\n",
      "|    283|    1|\n",
      "|    632|    1|\n",
      "|    730|    1|\n",
      "|    566|    1|\n",
      "|    654|    1|\n",
      "|   1010|    1|\n",
      "|   1561|    1|\n",
      "|    387|    1|\n",
      "|    842|    1|\n",
      "|    296|    1|\n",
      "|    284|    1|\n",
      "+-------+-----+\n",
      "only showing top 20 rows"
     ]
    }
   ],
   "source": [
    "%%spark\n",
    "df.groupBy('num_985').count().orderBy('count').show()"
   ]
  },
  {
   "cell_type": "code",
   "execution_count": 15,
   "metadata": {},
   "outputs": [
    {
     "data": {
      "application/vnd.jupyter.widget-view+json": {
       "model_id": "",
       "version_major": 2,
       "version_minor": 0
      },
      "text/plain": [
       "FloatProgress(value=0.0, bar_style='info', description='Progress:', layout=Layout(height='25px', width='50%'),…"
      ]
     },
     "metadata": {},
     "output_type": "display_data"
    },
    {
     "name": "stdout",
     "output_type": "stream",
     "text": [
      "+-------+-----+\n",
      "|num_100|count|\n",
      "+-------+-----+\n",
      "|    965|    1|\n",
      "|    986|    1|\n",
      "|   2464|    1|\n",
      "|    938|    1|\n",
      "|    944|    1|\n",
      "|    800|    1|\n",
      "|   1669|    1|\n",
      "|   1241|    1|\n",
      "|   1043|    1|\n",
      "|   3521|    1|\n",
      "|   1539|    1|\n",
      "|   1470|    1|\n",
      "|   2354|    1|\n",
      "|   1492|    1|\n",
      "|   1572|    1|\n",
      "|    691|    1|\n",
      "|   1206|    1|\n",
      "|   2294|    1|\n",
      "|   3312|    1|\n",
      "|   3652|    1|\n",
      "+-------+-----+\n",
      "only showing top 20 rows"
     ]
    }
   ],
   "source": [
    "%%spark\n",
    "df.groupBy('num_100').count().orderBy('count').show()"
   ]
  },
  {
   "cell_type": "code",
   "execution_count": 16,
   "metadata": {},
   "outputs": [
    {
     "data": {
      "application/vnd.jupyter.widget-view+json": {
       "model_id": "",
       "version_major": 2,
       "version_minor": 0
      },
      "text/plain": [
       "FloatProgress(value=0.0, bar_style='info', description='Progress:', layout=Layout(height='25px', width='50%'),…"
      ]
     },
     "metadata": {},
     "output_type": "display_data"
    },
    {
     "name": "stdout",
     "output_type": "stream",
     "text": [
      "+-------+-----+\n",
      "|num_unq|count|\n",
      "+-------+-----+\n",
      "|    982|    1|\n",
      "|    805|    1|\n",
      "|    877|    1|\n",
      "|   1666|    1|\n",
      "|   1957|    1|\n",
      "|   1723|    1|\n",
      "|    773|    1|\n",
      "|    835|    1|\n",
      "|    731|    1|\n",
      "|   1241|    1|\n",
      "|    677|    1|\n",
      "|   1128|    1|\n",
      "|   4925|    1|\n",
      "|    912|    1|\n",
      "|   1254|    1|\n",
      "|   1504|    1|\n",
      "|   1410|    1|\n",
      "|    891|    1|\n",
      "|    730|    1|\n",
      "|   1770|    1|\n",
      "+-------+-----+\n",
      "only showing top 20 rows"
     ]
    }
   ],
   "source": [
    "%%spark\n",
    "df.groupBy('num_unq').count().orderBy('count').show()"
   ]
  },
  {
   "cell_type": "markdown",
   "metadata": {},
   "source": [
    "## 4. Data Cleaning"
   ]
  },
  {
   "cell_type": "markdown",
   "metadata": {},
   "source": [
    "### Columns"
   ]
  },
  {
   "cell_type": "code",
   "execution_count": 17,
   "metadata": {},
   "outputs": [
    {
     "data": {
      "application/vnd.jupyter.widget-view+json": {
       "model_id": "",
       "version_major": 2,
       "version_minor": 0
      },
      "text/plain": [
       "FloatProgress(value=0.0, bar_style='info', description='Progress:', layout=Layout(height='25px', width='50%'),…"
      ]
     },
     "metadata": {},
     "output_type": "display_data"
    }
   ],
   "source": [
    "%%spark\n",
    "from pyspark.sql import types\n",
    "from pyspark.sql.functions import col, to_date"
   ]
  },
  {
   "cell_type": "markdown",
   "metadata": {},
   "source": [
    "##### msno\n",
    "The msno column corresponds to user ids for the dataset, so the column is renamed from msno to user_id."
   ]
  },
  {
   "cell_type": "code",
   "execution_count": 18,
   "metadata": {},
   "outputs": [
    {
     "data": {
      "application/vnd.jupyter.widget-view+json": {
       "model_id": "",
       "version_major": 2,
       "version_minor": 0
      },
      "text/plain": [
       "FloatProgress(value=0.0, bar_style='info', description='Progress:', layout=Layout(height='25px', width='50%'),…"
      ]
     },
     "metadata": {},
     "output_type": "display_data"
    }
   ],
   "source": [
    "%%spark\n",
    "df = df.withColumnRenamed(\"msno\",\"user_id\")"
   ]
  },
  {
   "cell_type": "markdown",
   "metadata": {},
   "source": [
    "##### date\n",
    "The date column must be parsed and cast to a date object."
   ]
  },
  {
   "cell_type": "code",
   "execution_count": 19,
   "metadata": {},
   "outputs": [
    {
     "data": {
      "application/vnd.jupyter.widget-view+json": {
       "model_id": "",
       "version_major": 2,
       "version_minor": 0
      },
      "text/plain": [
       "FloatProgress(value=0.0, bar_style='info', description='Progress:', layout=Layout(height='25px', width='50%'),…"
      ]
     },
     "metadata": {},
     "output_type": "display_data"
    }
   ],
   "source": [
    "%%spark\n",
    "df= df.withColumn('date',to_date(df.date, 'yyyyMMdd'))"
   ]
  },
  {
   "cell_type": "markdown",
   "metadata": {},
   "source": [
    "##### num_25, num_50, num_75, num_985, num_100, num_unq\n",
    "The usage columns are cast from string to integer."
   ]
  },
  {
   "cell_type": "code",
   "execution_count": 20,
   "metadata": {},
   "outputs": [
    {
     "data": {
      "application/vnd.jupyter.widget-view+json": {
       "model_id": "",
       "version_major": 2,
       "version_minor": 0
      },
      "text/plain": [
       "FloatProgress(value=0.0, bar_style='info', description='Progress:', layout=Layout(height='25px', width='50%'),…"
      ]
     },
     "metadata": {},
     "output_type": "display_data"
    }
   ],
   "source": [
    "%%spark\n",
    "df = df.withColumn(\"num_25\",col(\"num_25\").cast(types.IntegerType()))\n",
    "df = df.withColumn(\"num_50\",col(\"num_50\").cast(types.IntegerType()))\n",
    "df = df.withColumn(\"num_75\",col(\"num_75\").cast(types.IntegerType()))\n",
    "df = df.withColumn(\"num_985\",col(\"num_985\").cast(types.IntegerType()))\n",
    "df = df.withColumn(\"num_100\",col(\"num_100\").cast(types.IntegerType()))\n",
    "df = df.withColumn(\"num_unq\",col(\"num_unq\").cast(types.IntegerType()))"
   ]
  },
  {
   "cell_type": "markdown",
   "metadata": {},
   "source": [
    "##### total_secs\n",
    "The total_secs column is a numerical column with decimals, so it is cast to a decimal type."
   ]
  },
  {
   "cell_type": "code",
   "execution_count": 21,
   "metadata": {},
   "outputs": [
    {
     "data": {
      "application/vnd.jupyter.widget-view+json": {
       "model_id": "",
       "version_major": 2,
       "version_minor": 0
      },
      "text/plain": [
       "FloatProgress(value=0.0, bar_style='info', description='Progress:', layout=Layout(height='25px', width='50%'),…"
      ]
     },
     "metadata": {},
     "output_type": "display_data"
    }
   ],
   "source": [
    "%%spark\n",
    "df = df.withColumn(\"total_secs\",col(\"total_secs\").cast(types.DecimalType()))"
   ]
  },
  {
   "cell_type": "markdown",
   "metadata": {},
   "source": [
    "## 5. Data Output"
   ]
  },
  {
   "cell_type": "markdown",
   "metadata": {},
   "source": [
    "##### Final Check"
   ]
  },
  {
   "cell_type": "code",
   "execution_count": 22,
   "metadata": {},
   "outputs": [
    {
     "data": {
      "application/vnd.jupyter.widget-view+json": {
       "model_id": "",
       "version_major": 2,
       "version_minor": 0
      },
      "text/plain": [
       "FloatProgress(value=0.0, bar_style='info', description='Progress:', layout=Layout(height='25px', width='50%'),…"
      ]
     },
     "metadata": {},
     "output_type": "display_data"
    },
    {
     "name": "stdout",
     "output_type": "stream",
     "text": [
      "root\n",
      " |-- user_id: string (nullable = true)\n",
      " |-- date: date (nullable = true)\n",
      " |-- num_25: integer (nullable = true)\n",
      " |-- num_50: integer (nullable = true)\n",
      " |-- num_75: integer (nullable = true)\n",
      " |-- num_985: integer (nullable = true)\n",
      " |-- num_100: integer (nullable = true)\n",
      " |-- num_unq: integer (nullable = true)\n",
      " |-- total_secs: decimal(10,0) (nullable = true)"
     ]
    }
   ],
   "source": [
    "%%spark\n",
    "df.printSchema()"
   ]
  },
  {
   "cell_type": "code",
   "execution_count": 23,
   "metadata": {},
   "outputs": [
    {
     "data": {
      "application/vnd.jupyter.widget-view+json": {
       "model_id": "",
       "version_major": 2,
       "version_minor": 0
      },
      "text/plain": [
       "FloatProgress(value=0.0, bar_style='info', description='Progress:', layout=Layout(height='25px', width='50%'),…"
      ]
     },
     "metadata": {},
     "output_type": "display_data"
    },
    {
     "name": "stdout",
     "output_type": "stream",
     "text": [
      "+--------------------+----------+------+------+------+-------+-------+-------+----------+\n",
      "|             user_id|      date|num_25|num_50|num_75|num_985|num_100|num_unq|total_secs|\n",
      "+--------------------+----------+------+------+------+-------+-------+-------+----------+\n",
      "|u9E91QDTvHLq6NXjE...|2017-03-31|     8|     4|     0|      1|     21|     18|      6309|\n",
      "|nTeWW/eOZA/UHKdD5...|2017-03-30|     2|     2|     1|      0|      9|     11|      2391|\n",
      "|2UqkWXwZbIjs03dHL...|2017-03-31|    52|     3|     5|      3|     84|    110|     23203|\n",
      "|ycwLc+m2O0a85jSLA...|2017-03-31|   176|     4|     2|      2|     19|    191|      7100|\n",
      "|EGcbTofOSOkMmQyN1...|2017-03-31|     2|     1|     0|      1|    112|     93|     28402|\n",
      "|qR/ndQ5B+1cY+c9ih...|2017-03-31|     3|     0|     0|      0|     39|     41|      9787|\n",
      "|N6ch5ArfJixq9mvAR...|2017-03-30|     9|     1|     0|      0|     18|     26|      4920|\n",
      "|JEjl2W1ivEI6epeob...|2017-03-31|   181|    68|     5|      3|     54|    291|     22433|\n",
      "|lPK4IYIFdfTT6pq7x...|2017-03-31|     3|     0|     1|      1|    181|    150|     46240|\n",
      "|cDgnvwQwCwru2m3zc...|2017-03-31|     5|     4|     1|      1|     30|     31|      7882|\n",
      "|Cwk7eMLB8Gn8WuzEC...|2017-03-31|     7|     1|     2|      7|     69|     74|     18169|\n",
      "|6eT/NGMljpNgEeqTY...|2017-03-24|    78|     5|     3|      2|      8|     85|      3490|\n",
      "|PVoh0C3fQb1qPNLj7...|2017-03-25|     7|     1|     0|      0|     45|     21|      8160|\n",
      "|cK5XYJqbmsRYasnA4...|2017-03-24|     1|     0|     0|      0|     17|     18|      4013|\n",
      "|zv12NEuyP2XxcgTDu...|2017-03-25|     5|     3|     2|      1|     34|     43|      9061|\n",
      "|NCRcE4eNurBdOoRk0...|2017-03-25|    40|     6|     2|      2|    131|    149|     29401|\n",
      "|q5iH4iDmaFeyz2Zhv...|2017-03-24|     4|     2|     0|      1|     79|     80|     20313|\n",
      "|dgjSYdCsI6j51myzx...|2017-03-25|     3|     1|     0|      2|    155|    156|     36425|\n",
      "|Q6XdUeVvsXNF/7o0I...|2017-03-18|     1|     1|     1|      0|    136|    123|     37990|\n",
      "|TWrqEpm0U75ZWW6CH...|2017-03-17|    18|     1|     2|      3|    170|    162|     42204|\n",
      "+--------------------+----------+------+------+------+-------+-------+-------+----------+\n",
      "only showing top 20 rows"
     ]
    }
   ],
   "source": [
    "%%spark\n",
    "df.show()"
   ]
  },
  {
   "cell_type": "markdown",
   "metadata": {},
   "source": [
    "##### Output to File"
   ]
  },
  {
   "cell_type": "code",
   "execution_count": 24,
   "metadata": {},
   "outputs": [
    {
     "data": {
      "application/vnd.jupyter.widget-view+json": {
       "model_id": "",
       "version_major": 2,
       "version_minor": 0
      },
      "text/plain": [
       "FloatProgress(value=0.0, bar_style='info', description='Progress:', layout=Layout(height='25px', width='50%'),…"
      ]
     },
     "metadata": {},
     "output_type": "display_data"
    }
   ],
   "source": [
    "%%spark\n",
    "\n",
    "df.write.format(\"com.databricks.spark.csv\").option(\"header\", \"true\").mode('overwrite').save('s3://jolfr-capstone3/interim/logs')"
   ]
  },
  {
   "cell_type": "code",
   "execution_count": null,
   "metadata": {},
   "outputs": [],
   "source": []
  }
 ],
 "metadata": {
  "kernelspec": {
   "display_name": "Python 3",
   "language": "python",
   "name": "python3"
  },
  "language_info": {
   "codemirror_mode": {
    "name": "ipython",
    "version": 3
   },
   "file_extension": ".py",
   "mimetype": "text/x-python",
   "name": "python",
   "nbconvert_exporter": "python",
   "pygments_lexer": "ipython3",
   "version": "3.9.0"
  }
 },
 "nbformat": 4,
 "nbformat_minor": 4
}
