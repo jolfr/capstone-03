{
 "cells": [
  {
   "cell_type": "markdown",
   "metadata": {},
   "source": [
    "# 2.1 Logs Data Cleaning\n",
    "\n",
    "##### Description\n",
    "\n",
    "Basic data visualization and data formatting for logs.csv\n",
    "\n",
    "##### Notebook Steps\n",
    "\n",
    "1. Connect Spark\n",
    "1. Input Data\n",
    "1. Examine Data\n",
    "1. Data Cleaning\n",
    "1. Output Data"
   ]
  },
  {
   "cell_type": "markdown",
   "metadata": {},
   "source": [
    "## 1. Connect Spark"
   ]
  },
  {
   "cell_type": "code",
   "execution_count": 1,
   "metadata": {},
   "outputs": [],
   "source": [
    "import pyspark\n",
    "sc = pyspark.SparkContext(appName=\"logs-clean\")\n",
    "sc.setLogLevel(\"INFO\")\n",
    "\n",
    "from pyspark.sql import SQLContext\n",
    "sqlContext = SQLContext(sc)"
   ]
  },
  {
   "cell_type": "markdown",
   "metadata": {},
   "source": [
    "## 2. Input Data"
   ]
  },
  {
   "cell_type": "code",
   "execution_count": 2,
   "metadata": {},
   "outputs": [],
   "source": [
    "import os\n",
    "import zipfile\n",
    "\n",
    "with zipfile.ZipFile('../../data/1-data_acquisition/1-logs.output.zip', 'r') as zip_ref:\n",
    "    zip_ref.extractall()\n",
    "    \n",
    "df = sqlContext.read.csv('1-logs.output.csv', header=True)"
   ]
  },
  {
   "cell_type": "markdown",
   "metadata": {},
   "source": [
    "## 3. Examine Data"
   ]
  },
  {
   "cell_type": "markdown",
   "metadata": {},
   "source": [
    "##### show()"
   ]
  },
  {
   "cell_type": "code",
   "execution_count": 3,
   "metadata": {},
   "outputs": [
    {
     "name": "stdout",
     "output_type": "stream",
     "text": [
      "+--------------------+--------+------+------+------+-------+-------+-------+----------+\n",
      "|                msno|    date|num_25|num_50|num_75|num_985|num_100|num_unq|total_secs|\n",
      "+--------------------+--------+------+------+------+-------+-------+-------+----------+\n",
      "|u9E91QDTvHLq6NXjE...|20170331|     8|     4|     0|      1|     21|     18|  6309.273|\n",
      "|nTeWW/eOZA/UHKdD5...|20170330|     2|     2|     1|      0|      9|     11|  2390.699|\n",
      "|2UqkWXwZbIjs03dHL...|20170331|    52|     3|     5|      3|     84|    110| 23203.337|\n",
      "|ycwLc+m2O0a85jSLA...|20170331|   176|     4|     2|      2|     19|    191|  7100.454|\n",
      "|EGcbTofOSOkMmQyN1...|20170331|     2|     1|     0|      1|    112|     93| 28401.558|\n",
      "|qR/ndQ5B+1cY+c9ih...|20170331|     3|     0|     0|      0|     39|     41|  9786.842|\n",
      "|N6ch5ArfJixq9mvAR...|20170330|     9|     1|     0|      0|     18|     26|  4920.255|\n",
      "|JEjl2W1ivEI6epeob...|20170331|   181|    68|     5|      3|     54|    291| 22433.105|\n",
      "|lPK4IYIFdfTT6pq7x...|20170331|     3|     0|     1|      1|    181|    150| 46240.281|\n",
      "|cDgnvwQwCwru2m3zc...|20170331|     5|     4|     1|      1|     30|     31|  7881.618|\n",
      "|Cwk7eMLB8Gn8WuzEC...|20170331|     7|     1|     2|      7|     69|     74| 18169.176|\n",
      "|6eT/NGMljpNgEeqTY...|20170324|    78|     5|     3|      2|      8|     85|   3490.02|\n",
      "|PVoh0C3fQb1qPNLj7...|20170325|     7|     1|     0|      0|     45|     21|  8159.811|\n",
      "|cK5XYJqbmsRYasnA4...|20170324|     1|     0|     0|      0|     17|     18|  4012.814|\n",
      "|zv12NEuyP2XxcgTDu...|20170325|     5|     3|     2|      1|     34|     43|  9060.814|\n",
      "|NCRcE4eNurBdOoRk0...|20170325|    40|     6|     2|      2|    131|    149| 29400.889|\n",
      "|q5iH4iDmaFeyz2Zhv...|20170324|     4|     2|     0|      1|     79|     80|  20312.57|\n",
      "|dgjSYdCsI6j51myzx...|20170325|     3|     1|     0|      2|    155|    156| 36424.954|\n",
      "|Q6XdUeVvsXNF/7o0I...|20170318|     1|     1|     1|      0|    136|    123| 37989.716|\n",
      "|TWrqEpm0U75ZWW6CH...|20170317|    18|     1|     2|      3|    170|    162| 42203.675|\n",
      "+--------------------+--------+------+------+------+-------+-------+-------+----------+\n",
      "only showing top 20 rows\n",
      "\n"
     ]
    }
   ],
   "source": [
    "df.show()"
   ]
  },
  {
   "cell_type": "markdown",
   "metadata": {},
   "source": [
    "##### count()"
   ]
  },
  {
   "cell_type": "code",
   "execution_count": 4,
   "metadata": {},
   "outputs": [
    {
     "data": {
      "text/plain": [
       "18396362"
      ]
     },
     "execution_count": 4,
     "metadata": {},
     "output_type": "execute_result"
    }
   ],
   "source": [
    "df.count()"
   ]
  },
  {
   "cell_type": "markdown",
   "metadata": {},
   "source": [
    "##### describe()"
   ]
  },
  {
   "cell_type": "code",
   "execution_count": 5,
   "metadata": {},
   "outputs": [
    {
     "name": "stdout",
     "output_type": "stream",
     "text": [
      "+-------+--------------------+--------------------+------------------+------------------+------------------+------------------+-----------------+-----------------+-----------------+\n",
      "|summary|                msno|                date|            num_25|            num_50|            num_75|           num_985|          num_100|          num_unq|       total_secs|\n",
      "+-------+--------------------+--------------------+------------------+------------------+------------------+------------------+-----------------+-----------------+-----------------+\n",
      "|  count|            18396362|            18396362|          18396362|          18396362|          18396362|          18396362|         18396362|         18396362|         18396362|\n",
      "|   mean|                null|2.0170316085612632E7| 6.191400941120858|1.5087888572751504|0.9413759089976594|1.0799049290289027|30.28246090178047|29.03614551616238|7904.813556356482|\n",
      "| stddev|                null|    8.91672003449104|13.428266336534906| 3.908538557820418|1.9248401148456573| 3.518409046864042| 42.0364117952001|32.19865987108688|10136.32301516664|\n",
      "|    min|+++IZseRRiQS9aaSk...|            20170301|                 0|                 0|                 0|                 0|                0|                1|            0.001|\n",
      "|    max|zzzueVTwIa5TjXnG2...|            20170331|               994|                99|                99|                99|              998|              999|         9999.999|\n",
      "+-------+--------------------+--------------------+------------------+------------------+------------------+------------------+-----------------+-----------------+-----------------+\n",
      "\n"
     ]
    }
   ],
   "source": [
    "df.describe().show()"
   ]
  },
  {
   "cell_type": "markdown",
   "metadata": {},
   "source": [
    "##### printSchema()"
   ]
  },
  {
   "cell_type": "code",
   "execution_count": 6,
   "metadata": {},
   "outputs": [
    {
     "name": "stdout",
     "output_type": "stream",
     "text": [
      "root\n",
      " |-- msno: string (nullable = true)\n",
      " |-- date: string (nullable = true)\n",
      " |-- num_25: string (nullable = true)\n",
      " |-- num_50: string (nullable = true)\n",
      " |-- num_75: string (nullable = true)\n",
      " |-- num_985: string (nullable = true)\n",
      " |-- num_100: string (nullable = true)\n",
      " |-- num_unq: string (nullable = true)\n",
      " |-- total_secs: string (nullable = true)\n",
      "\n"
     ]
    }
   ],
   "source": [
    "df.printSchema()"
   ]
  },
  {
   "cell_type": "markdown",
   "metadata": {},
   "source": [
    "##### columns"
   ]
  },
  {
   "cell_type": "code",
   "execution_count": 7,
   "metadata": {},
   "outputs": [
    {
     "data": {
      "text/plain": [
       "['msno',\n",
       " 'date',\n",
       " 'num_25',\n",
       " 'num_50',\n",
       " 'num_75',\n",
       " 'num_985',\n",
       " 'num_100',\n",
       " 'num_unq',\n",
       " 'total_secs']"
      ]
     },
     "execution_count": 7,
     "metadata": {},
     "output_type": "execute_result"
    }
   ],
   "source": [
    "df.columns"
   ]
  },
  {
   "cell_type": "markdown",
   "metadata": {},
   "source": [
    "##### head(5)"
   ]
  },
  {
   "cell_type": "code",
   "execution_count": 8,
   "metadata": {},
   "outputs": [
    {
     "data": {
      "text/plain": [
       "[Row(msno='u9E91QDTvHLq6NXjEaWv8u4QIqhrHk72kE+w31Gnhdg=', date='20170331', num_25='8', num_50='4', num_75='0', num_985='1', num_100='21', num_unq='18', total_secs='6309.273'),\n",
       " Row(msno='nTeWW/eOZA/UHKdD5L7DEqKKFTjaAj3ALLPoAWsU8n0=', date='20170330', num_25='2', num_50='2', num_75='1', num_985='0', num_100='9', num_unq='11', total_secs='2390.699'),\n",
       " Row(msno='2UqkWXwZbIjs03dHLU9KHJNNEvEkZVzm69f3jCS+uLI=', date='20170331', num_25='52', num_50='3', num_75='5', num_985='3', num_100='84', num_unq='110', total_secs='23203.337'),\n",
       " Row(msno='ycwLc+m2O0a85jSLALtr941AaZt9ai8Qwlg9n0Nql5U=', date='20170331', num_25='176', num_50='4', num_75='2', num_985='2', num_100='19', num_unq='191', total_secs='7100.454'),\n",
       " Row(msno='EGcbTofOSOkMmQyN1NMLxHEXJ1yV3t/JdhGwQ9wXjnI=', date='20170331', num_25='2', num_50='1', num_75='0', num_985='1', num_100='112', num_unq='93', total_secs='28401.558')]"
      ]
     },
     "execution_count": 8,
     "metadata": {},
     "output_type": "execute_result"
    }
   ],
   "source": [
    "df.head(5)"
   ]
  },
  {
   "cell_type": "markdown",
   "metadata": {},
   "source": [
    "##### tail(5)"
   ]
  },
  {
   "cell_type": "code",
   "execution_count": 9,
   "metadata": {},
   "outputs": [
    {
     "data": {
      "text/plain": [
       "[Row(msno='FGpiy2mB+vXLKziYRcY/xJcJEFJfRDfUqlU+p760f7E=', date='20170314', num_25='0', num_50='0', num_75='0', num_985='0', num_100='1', num_unq='1', total_secs='248.058'),\n",
       " Row(msno='iZRjKNMrw5ffEbfXODLhV/0tJLPbOH3am1WYDgqBf8Q=', date='20170306', num_25='0', num_50='0', num_75='0', num_985='0', num_100='1', num_unq='1', total_secs='311.0'),\n",
       " Row(msno='yztw4Y0EggG0w2wPkbMZx7ke7saSx7dLSfMheHZG/DQ=', date='20170331', num_25='0', num_50='0', num_75='0', num_985='0', num_100='17', num_unq='1', total_secs='3973.189'),\n",
       " Row(msno='swCHwkNx30/aENjq30qqaLlm7bUUytbMXdz1bH7g0Jk=', date='20170307', num_25='0', num_50='0', num_75='0', num_985='1', num_100='0', num_unq='1', total_secs='179.278'),\n",
       " Row(msno='pDQSIFZchNPmOproRzaNzy51/8yRXzLK3vvDXKzzGLQ=', date='20170329', num_25='0', num_50='0', num_75='0', num_985='0', num_100='1', num_unq='1', total_secs='264.288')]"
      ]
     },
     "execution_count": 9,
     "metadata": {},
     "output_type": "execute_result"
    }
   ],
   "source": [
    "df.tail(5)"
   ]
  },
  {
   "cell_type": "markdown",
   "metadata": {},
   "source": [
    "##### Null per Column"
   ]
  },
  {
   "cell_type": "code",
   "execution_count": 10,
   "metadata": {},
   "outputs": [
    {
     "name": "stdout",
     "output_type": "stream",
     "text": [
      "+----+----+------+------+------+-------+-------+-------+----------+\n",
      "|msno|date|num_25|num_50|num_75|num_985|num_100|num_unq|total_secs|\n",
      "+----+----+------+------+------+-------+-------+-------+----------+\n",
      "|   0|   0|     0|     0|     0|      0|      0|      0|         0|\n",
      "+----+----+------+------+------+-------+-------+-------+----------+\n",
      "\n"
     ]
    }
   ],
   "source": [
    "from pyspark.sql.functions import isnan, when, count, col\n",
    "\n",
    "df.select([count(when(isnan(c) | col(c).isNull(), c)).alias(c) for c in df.columns]).show()"
   ]
  },
  {
   "cell_type": "markdown",
   "metadata": {},
   "source": [
    "## 4. Data Cleaning"
   ]
  },
  {
   "cell_type": "markdown",
   "metadata": {},
   "source": [
    "##### Column Names"
   ]
  },
  {
   "cell_type": "code",
   "execution_count": 11,
   "metadata": {},
   "outputs": [
    {
     "data": {
      "text/plain": [
       "['user_id',\n",
       " 'date',\n",
       " 'num_25',\n",
       " 'num_50',\n",
       " 'num_75',\n",
       " 'num_985',\n",
       " 'num_100',\n",
       " 'num_unq',\n",
       " 'total_secs']"
      ]
     },
     "execution_count": 11,
     "metadata": {},
     "output_type": "execute_result"
    }
   ],
   "source": [
    "df = df.withColumnRenamed(\"msno\",\"user_id\")\n",
    "df.columns"
   ]
  },
  {
   "cell_type": "markdown",
   "metadata": {},
   "source": [
    "##### Data Types"
   ]
  },
  {
   "cell_type": "code",
   "execution_count": 12,
   "metadata": {},
   "outputs": [
    {
     "name": "stdout",
     "output_type": "stream",
     "text": [
      "root\n",
      " |-- user_id: string (nullable = true)\n",
      " |-- date: date (nullable = true)\n",
      " |-- num_25: integer (nullable = true)\n",
      " |-- num_50: integer (nullable = true)\n",
      " |-- num_75: integer (nullable = true)\n",
      " |-- num_985: integer (nullable = true)\n",
      " |-- num_100: integer (nullable = true)\n",
      " |-- num_unq: integer (nullable = true)\n",
      " |-- total_secs: decimal(10,0) (nullable = true)\n",
      "\n"
     ]
    }
   ],
   "source": [
    "from pyspark.sql import types\n",
    "from pyspark.sql.functions import col, to_date\n",
    "\n",
    "# Integer types\n",
    "df = df.withColumn(\"num_25\",col(\"num_25\").cast(types.IntegerType()))\n",
    "df = df.withColumn(\"num_50\",col(\"num_50\").cast(types.IntegerType()))\n",
    "df = df.withColumn(\"num_75\",col(\"num_75\").cast(types.IntegerType()))\n",
    "df = df.withColumn(\"num_985\",col(\"num_985\").cast(types.IntegerType()))\n",
    "df = df.withColumn(\"num_100\",col(\"num_100\").cast(types.IntegerType()))\n",
    "df = df.withColumn(\"num_unq\",col(\"num_unq\").cast(types.IntegerType()))\n",
    "\n",
    "# Decimal types\n",
    "df = df.withColumn(\"total_secs\",col(\"total_secs\").cast(types.DecimalType()))\n",
    "\n",
    "# Date types\n",
    "df= df.withColumn('date',to_date(df.date, 'yyyyMMdd'))\n",
    "\n",
    "df.printSchema()"
   ]
  },
  {
   "cell_type": "code",
   "execution_count": 13,
   "metadata": {},
   "outputs": [
    {
     "name": "stdout",
     "output_type": "stream",
     "text": [
      "+--------------------+----------+------+------+------+-------+-------+-------+----------+\n",
      "|             user_id|      date|num_25|num_50|num_75|num_985|num_100|num_unq|total_secs|\n",
      "+--------------------+----------+------+------+------+-------+-------+-------+----------+\n",
      "|u9E91QDTvHLq6NXjE...|2017-03-31|     8|     4|     0|      1|     21|     18|      6309|\n",
      "|nTeWW/eOZA/UHKdD5...|2017-03-30|     2|     2|     1|      0|      9|     11|      2391|\n",
      "|2UqkWXwZbIjs03dHL...|2017-03-31|    52|     3|     5|      3|     84|    110|     23203|\n",
      "|ycwLc+m2O0a85jSLA...|2017-03-31|   176|     4|     2|      2|     19|    191|      7100|\n",
      "|EGcbTofOSOkMmQyN1...|2017-03-31|     2|     1|     0|      1|    112|     93|     28402|\n",
      "|qR/ndQ5B+1cY+c9ih...|2017-03-31|     3|     0|     0|      0|     39|     41|      9787|\n",
      "|N6ch5ArfJixq9mvAR...|2017-03-30|     9|     1|     0|      0|     18|     26|      4920|\n",
      "|JEjl2W1ivEI6epeob...|2017-03-31|   181|    68|     5|      3|     54|    291|     22433|\n",
      "|lPK4IYIFdfTT6pq7x...|2017-03-31|     3|     0|     1|      1|    181|    150|     46240|\n",
      "|cDgnvwQwCwru2m3zc...|2017-03-31|     5|     4|     1|      1|     30|     31|      7882|\n",
      "|Cwk7eMLB8Gn8WuzEC...|2017-03-31|     7|     1|     2|      7|     69|     74|     18169|\n",
      "|6eT/NGMljpNgEeqTY...|2017-03-24|    78|     5|     3|      2|      8|     85|      3490|\n",
      "|PVoh0C3fQb1qPNLj7...|2017-03-25|     7|     1|     0|      0|     45|     21|      8160|\n",
      "|cK5XYJqbmsRYasnA4...|2017-03-24|     1|     0|     0|      0|     17|     18|      4013|\n",
      "|zv12NEuyP2XxcgTDu...|2017-03-25|     5|     3|     2|      1|     34|     43|      9061|\n",
      "|NCRcE4eNurBdOoRk0...|2017-03-25|    40|     6|     2|      2|    131|    149|     29401|\n",
      "|q5iH4iDmaFeyz2Zhv...|2017-03-24|     4|     2|     0|      1|     79|     80|     20313|\n",
      "|dgjSYdCsI6j51myzx...|2017-03-25|     3|     1|     0|      2|    155|    156|     36425|\n",
      "|Q6XdUeVvsXNF/7o0I...|2017-03-18|     1|     1|     1|      0|    136|    123|     37990|\n",
      "|TWrqEpm0U75ZWW6CH...|2017-03-17|    18|     1|     2|      3|    170|    162|     42204|\n",
      "+--------------------+----------+------+------+------+-------+-------+-------+----------+\n",
      "only showing top 20 rows\n",
      "\n"
     ]
    }
   ],
   "source": [
    "df.show()"
   ]
  },
  {
   "cell_type": "code",
   "execution_count": null,
   "metadata": {},
   "outputs": [],
   "source": []
  }
 ],
 "metadata": {
  "kernelspec": {
   "display_name": "Python 3",
   "language": "python",
   "name": "python3"
  },
  "language_info": {
   "codemirror_mode": {
    "name": "ipython",
    "version": 3
   },
   "file_extension": ".py",
   "mimetype": "text/x-python",
   "name": "python",
   "nbconvert_exporter": "python",
   "pygments_lexer": "ipython3",
   "version": "3.8.6"
  }
 },
 "nbformat": 4,
 "nbformat_minor": 4
}
