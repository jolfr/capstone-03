{
 "cells": [
  {
   "cell_type": "markdown",
   "metadata": {},
   "source": [
    "# 2.1 Data Cleaning\n",
    "\n",
    "##### Description\n",
    "\n",
    "Basic data visualization and data formatting.\n",
    "\n",
    "##### Notebook Steps\n",
    "\n",
    "1. Input Data\n",
    "1. Examine Data\n",
    "1. Data Cleaning\n",
    "1. Output Data"
   ]
  },
  {
   "cell_type": "markdown",
   "metadata": {},
   "source": [
    "## 1. Input Data"
   ]
  },
  {
   "cell_type": "markdown",
   "metadata": {},
   "source": [
    "##### Required Imports"
   ]
  },
  {
   "cell_type": "code",
   "execution_count": 1,
   "metadata": {},
   "outputs": [],
   "source": [
    "import pandas as pd"
   ]
  },
  {
   "cell_type": "markdown",
   "metadata": {},
   "source": [
    "##### Code"
   ]
  },
  {
   "cell_type": "code",
   "execution_count": 2,
   "metadata": {},
   "outputs": [],
   "source": [
    "ref = '../../data/1-data_acquisition/1-output.csv.zip' # output file from step 1\n",
    "\n",
    "df = pd.read_csv(ref, low_memory=False) # read into dataframe"
   ]
  },
  {
   "cell_type": "markdown",
   "metadata": {},
   "source": [
    "## 2. Examine Data"
   ]
  },
  {
   "cell_type": "markdown",
   "metadata": {},
   "source": [
    "##### shape"
   ]
  },
  {
   "cell_type": "code",
   "execution_count": 3,
   "metadata": {},
   "outputs": [
    {
     "data": {
      "text/plain": [
       "(510125, 20)"
      ]
     },
     "execution_count": 3,
     "metadata": {},
     "output_type": "execute_result"
    }
   ],
   "source": [
    "df.shape"
   ]
  },
  {
   "cell_type": "markdown",
   "metadata": {},
   "source": [
    "##### info()"
   ]
  },
  {
   "cell_type": "code",
   "execution_count": 4,
   "metadata": {},
   "outputs": [
    {
     "name": "stdout",
     "output_type": "stream",
     "text": [
      "<class 'pandas.core.frame.DataFrame'>\n",
      "RangeIndex: 510125 entries, 0 to 510124\n",
      "Data columns (total 20 columns):\n",
      " #   Column              Non-Null Count   Dtype  \n",
      "---  ------              --------------   -----  \n",
      " 0   image               510125 non-null  int64  \n",
      " 1   newacct_no          510125 non-null  object \n",
      " 2   line_stat           510125 non-null  object \n",
      " 3   bill_cycl           510125 non-null  int64  \n",
      " 4   serv_type           510125 non-null  object \n",
      " 5   serv_code           510125 non-null  object \n",
      " 6   tenure              510125 non-null  int64  \n",
      " 7   effc_strt_date      508188 non-null  object \n",
      " 8   effc_end_date       508188 non-null  object \n",
      " 9   contract_month      508188 non-null  float64\n",
      " 10  ce_expiry           508188 non-null  float64\n",
      " 11  secured_revenue     510125 non-null  float64\n",
      " 12  bandwidth           510125 non-null  object \n",
      " 13  term_reas_code      5523 non-null    object \n",
      " 14  term_reas_desc      5523 non-null    object \n",
      " 15  complaint_cnt       510125 non-null  object \n",
      " 16  with_phone_service  510125 non-null  object \n",
      " 17  churn               510125 non-null  object \n",
      " 18  current_mth_churn   510125 non-null  object \n",
      " 19  Unnamed: 19         2 non-null       object \n",
      "dtypes: float64(3), int64(3), object(14)\n",
      "memory usage: 77.8+ MB\n"
     ]
    }
   ],
   "source": [
    "df.info()"
   ]
  },
  {
   "cell_type": "markdown",
   "metadata": {},
   "source": [
    "##### describe()"
   ]
  },
  {
   "cell_type": "code",
   "execution_count": 5,
   "metadata": {},
   "outputs": [
    {
     "data": {
      "text/html": [
       "<div>\n",
       "<style scoped>\n",
       "    .dataframe tbody tr th:only-of-type {\n",
       "        vertical-align: middle;\n",
       "    }\n",
       "\n",
       "    .dataframe tbody tr th {\n",
       "        vertical-align: top;\n",
       "    }\n",
       "\n",
       "    .dataframe thead th {\n",
       "        text-align: right;\n",
       "    }\n",
       "</style>\n",
       "<table border=\"1\" class=\"dataframe\">\n",
       "  <thead>\n",
       "    <tr style=\"text-align: right;\">\n",
       "      <th></th>\n",
       "      <th>image</th>\n",
       "      <th>bill_cycl</th>\n",
       "      <th>tenure</th>\n",
       "      <th>contract_month</th>\n",
       "      <th>ce_expiry</th>\n",
       "      <th>secured_revenue</th>\n",
       "    </tr>\n",
       "  </thead>\n",
       "  <tbody>\n",
       "    <tr>\n",
       "      <th>count</th>\n",
       "      <td>510125.000000</td>\n",
       "      <td>510125.0</td>\n",
       "      <td>510125.000000</td>\n",
       "      <td>508188.000000</td>\n",
       "      <td>508188.000000</td>\n",
       "      <td>510125.000000</td>\n",
       "    </tr>\n",
       "    <tr>\n",
       "      <th>mean</th>\n",
       "      <td>201857.993237</td>\n",
       "      <td>1.0</td>\n",
       "      <td>60.700254</td>\n",
       "      <td>24.916928</td>\n",
       "      <td>7.390413</td>\n",
       "      <td>504.573587</td>\n",
       "    </tr>\n",
       "    <tr>\n",
       "      <th>std</th>\n",
       "      <td>50.076142</td>\n",
       "      <td>0.0</td>\n",
       "      <td>51.213282</td>\n",
       "      <td>5.245176</td>\n",
       "      <td>13.719428</td>\n",
       "      <td>1492.281865</td>\n",
       "    </tr>\n",
       "    <tr>\n",
       "      <th>min</th>\n",
       "      <td>201801.000000</td>\n",
       "      <td>1.0</td>\n",
       "      <td>0.000000</td>\n",
       "      <td>0.000000</td>\n",
       "      <td>-175.000000</td>\n",
       "      <td>-385.220000</td>\n",
       "    </tr>\n",
       "    <tr>\n",
       "      <th>25%</th>\n",
       "      <td>201807.000000</td>\n",
       "      <td>1.0</td>\n",
       "      <td>18.000000</td>\n",
       "      <td>24.000000</td>\n",
       "      <td>2.000000</td>\n",
       "      <td>158.000000</td>\n",
       "    </tr>\n",
       "    <tr>\n",
       "      <th>50%</th>\n",
       "      <td>201901.000000</td>\n",
       "      <td>1.0</td>\n",
       "      <td>45.000000</td>\n",
       "      <td>24.000000</td>\n",
       "      <td>9.000000</td>\n",
       "      <td>204.000000</td>\n",
       "    </tr>\n",
       "    <tr>\n",
       "      <th>75%</th>\n",
       "      <td>201907.000000</td>\n",
       "      <td>1.0</td>\n",
       "      <td>95.000000</td>\n",
       "      <td>24.000000</td>\n",
       "      <td>16.000000</td>\n",
       "      <td>360.000000</td>\n",
       "    </tr>\n",
       "    <tr>\n",
       "      <th>max</th>\n",
       "      <td>201912.000000</td>\n",
       "      <td>1.0</td>\n",
       "      <td>225.000000</td>\n",
       "      <td>120.000000</td>\n",
       "      <td>115.000000</td>\n",
       "      <td>61161.290000</td>\n",
       "    </tr>\n",
       "  </tbody>\n",
       "</table>\n",
       "</div>"
      ],
      "text/plain": [
       "               image  bill_cycl         tenure  contract_month      ce_expiry  \\\n",
       "count  510125.000000   510125.0  510125.000000   508188.000000  508188.000000   \n",
       "mean   201857.993237        1.0      60.700254       24.916928       7.390413   \n",
       "std        50.076142        0.0      51.213282        5.245176      13.719428   \n",
       "min    201801.000000        1.0       0.000000        0.000000    -175.000000   \n",
       "25%    201807.000000        1.0      18.000000       24.000000       2.000000   \n",
       "50%    201901.000000        1.0      45.000000       24.000000       9.000000   \n",
       "75%    201907.000000        1.0      95.000000       24.000000      16.000000   \n",
       "max    201912.000000        1.0     225.000000      120.000000     115.000000   \n",
       "\n",
       "       secured_revenue  \n",
       "count    510125.000000  \n",
       "mean        504.573587  \n",
       "std        1492.281865  \n",
       "min        -385.220000  \n",
       "25%         158.000000  \n",
       "50%         204.000000  \n",
       "75%         360.000000  \n",
       "max       61161.290000  "
      ]
     },
     "execution_count": 5,
     "metadata": {},
     "output_type": "execute_result"
    }
   ],
   "source": [
    "df.describe()"
   ]
  },
  {
   "cell_type": "markdown",
   "metadata": {},
   "source": [
    "##### head()"
   ]
  },
  {
   "cell_type": "code",
   "execution_count": 6,
   "metadata": {},
   "outputs": [
    {
     "data": {
      "text/html": [
       "<div>\n",
       "<style scoped>\n",
       "    .dataframe tbody tr th:only-of-type {\n",
       "        vertical-align: middle;\n",
       "    }\n",
       "\n",
       "    .dataframe tbody tr th {\n",
       "        vertical-align: top;\n",
       "    }\n",
       "\n",
       "    .dataframe thead th {\n",
       "        text-align: right;\n",
       "    }\n",
       "</style>\n",
       "<table border=\"1\" class=\"dataframe\">\n",
       "  <thead>\n",
       "    <tr style=\"text-align: right;\">\n",
       "      <th></th>\n",
       "      <th>0</th>\n",
       "      <th>1</th>\n",
       "      <th>2</th>\n",
       "      <th>3</th>\n",
       "      <th>4</th>\n",
       "    </tr>\n",
       "  </thead>\n",
       "  <tbody>\n",
       "    <tr>\n",
       "      <th>image</th>\n",
       "      <td>201801</td>\n",
       "      <td>201801</td>\n",
       "      <td>201801</td>\n",
       "      <td>201801</td>\n",
       "      <td>201801</td>\n",
       "    </tr>\n",
       "    <tr>\n",
       "      <th>newacct_no</th>\n",
       "      <td>70068143.001.000000062</td>\n",
       "      <td>70068143.003.000072630</td>\n",
       "      <td>70071840.001.000000066</td>\n",
       "      <td>70071840.003.000060034</td>\n",
       "      <td>70076500.001.000000073</td>\n",
       "    </tr>\n",
       "    <tr>\n",
       "      <th>line_stat</th>\n",
       "      <td>AC</td>\n",
       "      <td>AC</td>\n",
       "      <td>AC</td>\n",
       "      <td>AC</td>\n",
       "      <td>AC</td>\n",
       "    </tr>\n",
       "    <tr>\n",
       "      <th>bill_cycl</th>\n",
       "      <td>1</td>\n",
       "      <td>1</td>\n",
       "      <td>1</td>\n",
       "      <td>1</td>\n",
       "      <td>1</td>\n",
       "    </tr>\n",
       "    <tr>\n",
       "      <th>serv_type</th>\n",
       "      <td>BBS</td>\n",
       "      <td>BBS</td>\n",
       "      <td>BBS</td>\n",
       "      <td>BBS</td>\n",
       "      <td>BBS</td>\n",
       "    </tr>\n",
       "    <tr>\n",
       "      <th>serv_code</th>\n",
       "      <td>VS100DUN</td>\n",
       "      <td>VS030F6R</td>\n",
       "      <td>EAXMXMFSRN1</td>\n",
       "      <td>VS100DUN</td>\n",
       "      <td>PF100FSR</td>\n",
       "    </tr>\n",
       "    <tr>\n",
       "      <th>tenure</th>\n",
       "      <td>202</td>\n",
       "      <td>35</td>\n",
       "      <td>202</td>\n",
       "      <td>72</td>\n",
       "      <td>202</td>\n",
       "    </tr>\n",
       "    <tr>\n",
       "      <th>effc_strt_date</th>\n",
       "      <td>06.03.2018 00:00:00</td>\n",
       "      <td>01.03.2019 00:00:00</td>\n",
       "      <td>01.10.2019 00:00:00</td>\n",
       "      <td>07.11.2018 00:00:00</td>\n",
       "      <td>01.05.2017 00:00:00</td>\n",
       "    </tr>\n",
       "    <tr>\n",
       "      <th>effc_end_date</th>\n",
       "      <td>05.03.2021 00:00:00</td>\n",
       "      <td>28.02.2021 00:00:00</td>\n",
       "      <td>30.09.2021 00:00:00</td>\n",
       "      <td>06.11.2020 00:00:00</td>\n",
       "      <td>30.04.2019 00:00:00</td>\n",
       "    </tr>\n",
       "    <tr>\n",
       "      <th>contract_month</th>\n",
       "      <td>36</td>\n",
       "      <td>24</td>\n",
       "      <td>24</td>\n",
       "      <td>24</td>\n",
       "      <td>24</td>\n",
       "    </tr>\n",
       "    <tr>\n",
       "      <th>ce_expiry</th>\n",
       "      <td>13</td>\n",
       "      <td>13</td>\n",
       "      <td>20</td>\n",
       "      <td>9</td>\n",
       "      <td>-9</td>\n",
       "    </tr>\n",
       "    <tr>\n",
       "      <th>secured_revenue</th>\n",
       "      <td>178</td>\n",
       "      <td>1572</td>\n",
       "      <td>290</td>\n",
       "      <td>218</td>\n",
       "      <td>430</td>\n",
       "    </tr>\n",
       "    <tr>\n",
       "      <th>bandwidth</th>\n",
       "      <td>100M</td>\n",
       "      <td>30M</td>\n",
       "      <td>10M</td>\n",
       "      <td>100M</td>\n",
       "      <td>100M (FTTO)</td>\n",
       "    </tr>\n",
       "    <tr>\n",
       "      <th>term_reas_code</th>\n",
       "      <td>NaN</td>\n",
       "      <td>NaN</td>\n",
       "      <td>NaN</td>\n",
       "      <td>NaN</td>\n",
       "      <td>NaN</td>\n",
       "    </tr>\n",
       "    <tr>\n",
       "      <th>term_reas_desc</th>\n",
       "      <td>NaN</td>\n",
       "      <td>NaN</td>\n",
       "      <td>NaN</td>\n",
       "      <td>NaN</td>\n",
       "      <td>NaN</td>\n",
       "    </tr>\n",
       "    <tr>\n",
       "      <th>complaint_cnt</th>\n",
       "      <td>0</td>\n",
       "      <td>0</td>\n",
       "      <td>0</td>\n",
       "      <td>0</td>\n",
       "      <td>0</td>\n",
       "    </tr>\n",
       "    <tr>\n",
       "      <th>with_phone_service</th>\n",
       "      <td>N</td>\n",
       "      <td>N</td>\n",
       "      <td>Y</td>\n",
       "      <td>Y</td>\n",
       "      <td>N</td>\n",
       "    </tr>\n",
       "    <tr>\n",
       "      <th>churn</th>\n",
       "      <td>N</td>\n",
       "      <td>N</td>\n",
       "      <td>N</td>\n",
       "      <td>N</td>\n",
       "      <td>Y</td>\n",
       "    </tr>\n",
       "    <tr>\n",
       "      <th>current_mth_churn</th>\n",
       "      <td>N</td>\n",
       "      <td>N</td>\n",
       "      <td>N</td>\n",
       "      <td>N</td>\n",
       "      <td>N</td>\n",
       "    </tr>\n",
       "    <tr>\n",
       "      <th>Unnamed: 19</th>\n",
       "      <td>NaN</td>\n",
       "      <td>NaN</td>\n",
       "      <td>NaN</td>\n",
       "      <td>NaN</td>\n",
       "      <td>NaN</td>\n",
       "    </tr>\n",
       "  </tbody>\n",
       "</table>\n",
       "</div>"
      ],
      "text/plain": [
       "                                         0                       1  \\\n",
       "image                               201801                  201801   \n",
       "newacct_no          70068143.001.000000062  70068143.003.000072630   \n",
       "line_stat                               AC                      AC   \n",
       "bill_cycl                                1                       1   \n",
       "serv_type                              BBS                     BBS   \n",
       "serv_code                         VS100DUN                VS030F6R   \n",
       "tenure                                 202                      35   \n",
       "effc_strt_date         06.03.2018 00:00:00     01.03.2019 00:00:00   \n",
       "effc_end_date          05.03.2021 00:00:00     28.02.2021 00:00:00   \n",
       "contract_month                          36                      24   \n",
       "ce_expiry                               13                      13   \n",
       "secured_revenue                        178                    1572   \n",
       "bandwidth                             100M                     30M   \n",
       "term_reas_code                         NaN                     NaN   \n",
       "term_reas_desc                         NaN                     NaN   \n",
       "complaint_cnt                            0                       0   \n",
       "with_phone_service                       N                       N   \n",
       "churn                                    N                       N   \n",
       "current_mth_churn                        N                       N   \n",
       "Unnamed: 19                            NaN                     NaN   \n",
       "\n",
       "                                         2                       3  \\\n",
       "image                               201801                  201801   \n",
       "newacct_no          70071840.001.000000066  70071840.003.000060034   \n",
       "line_stat                               AC                      AC   \n",
       "bill_cycl                                1                       1   \n",
       "serv_type                              BBS                     BBS   \n",
       "serv_code                      EAXMXMFSRN1                VS100DUN   \n",
       "tenure                                 202                      72   \n",
       "effc_strt_date         01.10.2019 00:00:00     07.11.2018 00:00:00   \n",
       "effc_end_date          30.09.2021 00:00:00     06.11.2020 00:00:00   \n",
       "contract_month                          24                      24   \n",
       "ce_expiry                               20                       9   \n",
       "secured_revenue                        290                     218   \n",
       "bandwidth                              10M                    100M   \n",
       "term_reas_code                         NaN                     NaN   \n",
       "term_reas_desc                         NaN                     NaN   \n",
       "complaint_cnt                            0                       0   \n",
       "with_phone_service                       Y                       Y   \n",
       "churn                                    N                       N   \n",
       "current_mth_churn                        N                       N   \n",
       "Unnamed: 19                            NaN                     NaN   \n",
       "\n",
       "                                         4  \n",
       "image                               201801  \n",
       "newacct_no          70076500.001.000000073  \n",
       "line_stat                               AC  \n",
       "bill_cycl                                1  \n",
       "serv_type                              BBS  \n",
       "serv_code                         PF100FSR  \n",
       "tenure                                 202  \n",
       "effc_strt_date         01.05.2017 00:00:00  \n",
       "effc_end_date          30.04.2019 00:00:00  \n",
       "contract_month                          24  \n",
       "ce_expiry                               -9  \n",
       "secured_revenue                        430  \n",
       "bandwidth                      100M (FTTO)  \n",
       "term_reas_code                         NaN  \n",
       "term_reas_desc                         NaN  \n",
       "complaint_cnt                            0  \n",
       "with_phone_service                       N  \n",
       "churn                                    Y  \n",
       "current_mth_churn                        N  \n",
       "Unnamed: 19                            NaN  "
      ]
     },
     "execution_count": 6,
     "metadata": {},
     "output_type": "execute_result"
    }
   ],
   "source": [
    "df.head().T"
   ]
  },
  {
   "cell_type": "markdown",
   "metadata": {},
   "source": [
    "##### tail()"
   ]
  },
  {
   "cell_type": "code",
   "execution_count": 7,
   "metadata": {},
   "outputs": [
    {
     "data": {
      "text/html": [
       "<div>\n",
       "<style scoped>\n",
       "    .dataframe tbody tr th:only-of-type {\n",
       "        vertical-align: middle;\n",
       "    }\n",
       "\n",
       "    .dataframe tbody tr th {\n",
       "        vertical-align: top;\n",
       "    }\n",
       "\n",
       "    .dataframe thead th {\n",
       "        text-align: right;\n",
       "    }\n",
       "</style>\n",
       "<table border=\"1\" class=\"dataframe\">\n",
       "  <thead>\n",
       "    <tr style=\"text-align: right;\">\n",
       "      <th></th>\n",
       "      <th>510120</th>\n",
       "      <th>510121</th>\n",
       "      <th>510122</th>\n",
       "      <th>510123</th>\n",
       "      <th>510124</th>\n",
       "    </tr>\n",
       "  </thead>\n",
       "  <tbody>\n",
       "    <tr>\n",
       "      <th>image</th>\n",
       "      <td>201912</td>\n",
       "      <td>201912</td>\n",
       "      <td>201912</td>\n",
       "      <td>201912</td>\n",
       "      <td>201912</td>\n",
       "    </tr>\n",
       "    <tr>\n",
       "      <th>newacct_no</th>\n",
       "      <td>96556659.001.000097362</td>\n",
       "      <td>96561147.001.000097409</td>\n",
       "      <td>96562046.001.000068616</td>\n",
       "      <td>96562046.001.000082585</td>\n",
       "      <td>96569066.001.000095968</td>\n",
       "    </tr>\n",
       "    <tr>\n",
       "      <th>line_stat</th>\n",
       "      <td>AC</td>\n",
       "      <td>AC</td>\n",
       "      <td>AC</td>\n",
       "      <td>AC</td>\n",
       "      <td>AC</td>\n",
       "    </tr>\n",
       "    <tr>\n",
       "      <th>bill_cycl</th>\n",
       "      <td>1</td>\n",
       "      <td>1</td>\n",
       "      <td>1</td>\n",
       "      <td>1</td>\n",
       "      <td>1</td>\n",
       "    </tr>\n",
       "    <tr>\n",
       "      <th>serv_type</th>\n",
       "      <td>BBS</td>\n",
       "      <td>BBS</td>\n",
       "      <td>BBS</td>\n",
       "      <td>BBS</td>\n",
       "      <td>BBS</td>\n",
       "    </tr>\n",
       "    <tr>\n",
       "      <th>serv_code</th>\n",
       "      <td>PF1000DUN</td>\n",
       "      <td>VS100DUN</td>\n",
       "      <td>VPXMXMDURN</td>\n",
       "      <td>VS100DUSAR</td>\n",
       "      <td>PF1000DUN</td>\n",
       "    </tr>\n",
       "    <tr>\n",
       "      <th>tenure</th>\n",
       "      <td>0</td>\n",
       "      <td>0</td>\n",
       "      <td>70</td>\n",
       "      <td>34</td>\n",
       "      <td>3</td>\n",
       "    </tr>\n",
       "    <tr>\n",
       "      <th>effc_strt_date</th>\n",
       "      <td>31.12.2019 00:00:00</td>\n",
       "      <td>31.12.2019 00:00:00</td>\n",
       "      <td>12.03.2019 00:00:00</td>\n",
       "      <td>04.03.2019 00:00:00</td>\n",
       "      <td>19.09.2019 00:00:00</td>\n",
       "    </tr>\n",
       "    <tr>\n",
       "      <th>effc_end_date</th>\n",
       "      <td>30.12.2021 00:00:00</td>\n",
       "      <td>30.12.2021 00:00:00</td>\n",
       "      <td>11.03.2021 00:00:00</td>\n",
       "      <td>03.03.2021 00:00:00</td>\n",
       "      <td>18.09.2021 00:00:00</td>\n",
       "    </tr>\n",
       "    <tr>\n",
       "      <th>contract_month</th>\n",
       "      <td>24</td>\n",
       "      <td>24</td>\n",
       "      <td>24</td>\n",
       "      <td>24</td>\n",
       "      <td>24</td>\n",
       "    </tr>\n",
       "    <tr>\n",
       "      <th>ce_expiry</th>\n",
       "      <td>23</td>\n",
       "      <td>23</td>\n",
       "      <td>13</td>\n",
       "      <td>13</td>\n",
       "      <td>19</td>\n",
       "    </tr>\n",
       "    <tr>\n",
       "      <th>secured_revenue</th>\n",
       "      <td>0</td>\n",
       "      <td>0</td>\n",
       "      <td>0</td>\n",
       "      <td>0</td>\n",
       "      <td>0</td>\n",
       "    </tr>\n",
       "    <tr>\n",
       "      <th>bandwidth</th>\n",
       "      <td>1000M (FTTO)</td>\n",
       "      <td>100M</td>\n",
       "      <td>10M</td>\n",
       "      <td>100M</td>\n",
       "      <td>1000M (FTTO)</td>\n",
       "    </tr>\n",
       "    <tr>\n",
       "      <th>term_reas_code</th>\n",
       "      <td>NaN</td>\n",
       "      <td>NaN</td>\n",
       "      <td>NaN</td>\n",
       "      <td>NaN</td>\n",
       "      <td>NaN</td>\n",
       "    </tr>\n",
       "    <tr>\n",
       "      <th>term_reas_desc</th>\n",
       "      <td>NaN</td>\n",
       "      <td>NaN</td>\n",
       "      <td>NaN</td>\n",
       "      <td>NaN</td>\n",
       "      <td>NaN</td>\n",
       "    </tr>\n",
       "    <tr>\n",
       "      <th>complaint_cnt</th>\n",
       "      <td>0</td>\n",
       "      <td>0</td>\n",
       "      <td>0</td>\n",
       "      <td>0</td>\n",
       "      <td>0</td>\n",
       "    </tr>\n",
       "    <tr>\n",
       "      <th>with_phone_service</th>\n",
       "      <td>N</td>\n",
       "      <td>N</td>\n",
       "      <td>N</td>\n",
       "      <td>N</td>\n",
       "      <td>N</td>\n",
       "    </tr>\n",
       "    <tr>\n",
       "      <th>churn</th>\n",
       "      <td>N</td>\n",
       "      <td>N</td>\n",
       "      <td>N</td>\n",
       "      <td>N</td>\n",
       "      <td>N</td>\n",
       "    </tr>\n",
       "    <tr>\n",
       "      <th>current_mth_churn</th>\n",
       "      <td>N</td>\n",
       "      <td>N</td>\n",
       "      <td>N</td>\n",
       "      <td>N</td>\n",
       "      <td>N</td>\n",
       "    </tr>\n",
       "    <tr>\n",
       "      <th>Unnamed: 19</th>\n",
       "      <td>NaN</td>\n",
       "      <td>NaN</td>\n",
       "      <td>NaN</td>\n",
       "      <td>NaN</td>\n",
       "      <td>NaN</td>\n",
       "    </tr>\n",
       "  </tbody>\n",
       "</table>\n",
       "</div>"
      ],
      "text/plain": [
       "                                    510120                  510121  \\\n",
       "image                               201912                  201912   \n",
       "newacct_no          96556659.001.000097362  96561147.001.000097409   \n",
       "line_stat                               AC                      AC   \n",
       "bill_cycl                                1                       1   \n",
       "serv_type                              BBS                     BBS   \n",
       "serv_code                        PF1000DUN                VS100DUN   \n",
       "tenure                                   0                       0   \n",
       "effc_strt_date         31.12.2019 00:00:00     31.12.2019 00:00:00   \n",
       "effc_end_date          30.12.2021 00:00:00     30.12.2021 00:00:00   \n",
       "contract_month                          24                      24   \n",
       "ce_expiry                               23                      23   \n",
       "secured_revenue                          0                       0   \n",
       "bandwidth                     1000M (FTTO)                    100M   \n",
       "term_reas_code                         NaN                     NaN   \n",
       "term_reas_desc                         NaN                     NaN   \n",
       "complaint_cnt                            0                       0   \n",
       "with_phone_service                       N                       N   \n",
       "churn                                    N                       N   \n",
       "current_mth_churn                        N                       N   \n",
       "Unnamed: 19                            NaN                     NaN   \n",
       "\n",
       "                                    510122                  510123  \\\n",
       "image                               201912                  201912   \n",
       "newacct_no          96562046.001.000068616  96562046.001.000082585   \n",
       "line_stat                               AC                      AC   \n",
       "bill_cycl                                1                       1   \n",
       "serv_type                              BBS                     BBS   \n",
       "serv_code                       VPXMXMDURN              VS100DUSAR   \n",
       "tenure                                  70                      34   \n",
       "effc_strt_date         12.03.2019 00:00:00     04.03.2019 00:00:00   \n",
       "effc_end_date          11.03.2021 00:00:00     03.03.2021 00:00:00   \n",
       "contract_month                          24                      24   \n",
       "ce_expiry                               13                      13   \n",
       "secured_revenue                          0                       0   \n",
       "bandwidth                              10M                    100M   \n",
       "term_reas_code                         NaN                     NaN   \n",
       "term_reas_desc                         NaN                     NaN   \n",
       "complaint_cnt                            0                       0   \n",
       "with_phone_service                       N                       N   \n",
       "churn                                    N                       N   \n",
       "current_mth_churn                        N                       N   \n",
       "Unnamed: 19                            NaN                     NaN   \n",
       "\n",
       "                                    510124  \n",
       "image                               201912  \n",
       "newacct_no          96569066.001.000095968  \n",
       "line_stat                               AC  \n",
       "bill_cycl                                1  \n",
       "serv_type                              BBS  \n",
       "serv_code                        PF1000DUN  \n",
       "tenure                                   3  \n",
       "effc_strt_date         19.09.2019 00:00:00  \n",
       "effc_end_date          18.09.2021 00:00:00  \n",
       "contract_month                          24  \n",
       "ce_expiry                               19  \n",
       "secured_revenue                          0  \n",
       "bandwidth                     1000M (FTTO)  \n",
       "term_reas_code                         NaN  \n",
       "term_reas_desc                         NaN  \n",
       "complaint_cnt                            0  \n",
       "with_phone_service                       N  \n",
       "churn                                    N  \n",
       "current_mth_churn                        N  \n",
       "Unnamed: 19                            NaN  "
      ]
     },
     "execution_count": 7,
     "metadata": {},
     "output_type": "execute_result"
    }
   ],
   "source": [
    "df.tail().T"
   ]
  },
  {
   "cell_type": "markdown",
   "metadata": {},
   "source": [
    "##### isnull()"
   ]
  },
  {
   "cell_type": "code",
   "execution_count": 8,
   "metadata": {},
   "outputs": [
    {
     "data": {
      "text/plain": [
       "Unnamed: 19           510123\n",
       "term_reas_code        504602\n",
       "term_reas_desc        504602\n",
       "effc_strt_date          1937\n",
       "effc_end_date           1937\n",
       "ce_expiry               1937\n",
       "contract_month          1937\n",
       "bandwidth                  0\n",
       "secured_revenue            0\n",
       "complaint_cnt              0\n",
       "current_mth_churn          0\n",
       "with_phone_service         0\n",
       "churn                      0\n",
       "tenure                     0\n",
       "serv_code                  0\n",
       "serv_type                  0\n",
       "bill_cycl                  0\n",
       "line_stat                  0\n",
       "newacct_no                 0\n",
       "image                      0\n",
       "dtype: int64"
      ]
     },
     "execution_count": 8,
     "metadata": {},
     "output_type": "execute_result"
    }
   ],
   "source": [
    "df.isnull().sum().sort_values(ascending=False)"
   ]
  },
  {
   "cell_type": "markdown",
   "metadata": {},
   "source": [
    "#### nunique()"
   ]
  },
  {
   "cell_type": "code",
   "execution_count": 9,
   "metadata": {},
   "outputs": [
    {
     "data": {
      "text/plain": [
       "Unnamed: 19               1\n",
       "bill_cycl                 1\n",
       "serv_type                 1\n",
       "churn                     2\n",
       "current_mth_churn         2\n",
       "line_stat                 3\n",
       "with_phone_service        3\n",
       "complaint_cnt             9\n",
       "bandwidth                 9\n",
       "image                    24\n",
       "term_reas_code           26\n",
       "term_reas_desc           26\n",
       "contract_month           56\n",
       "ce_expiry               180\n",
       "tenure                  226\n",
       "serv_code               288\n",
       "effc_strt_date         2085\n",
       "effc_end_date          2348\n",
       "secured_revenue       10344\n",
       "newacct_no            27605\n",
       "dtype: int64"
      ]
     },
     "execution_count": 9,
     "metadata": {},
     "output_type": "execute_result"
    }
   ],
   "source": [
    "df.nunique().sort_values()"
   ]
  },
  {
   "cell_type": "code",
   "execution_count": 10,
   "metadata": {},
   "outputs": [
    {
     "name": "stdout",
     "output_type": "stream",
     "text": [
      "--------------------------------------\n",
      "AC    494338\n",
      "IS     10284\n",
      "CN      5503\n",
      "Name: line_stat, dtype: int64\n",
      "--------------------------------------\n",
      "1    510125\n",
      "Name: bill_cycl, dtype: int64\n",
      "--------------------------------------\n",
      "BBS    510125\n",
      "Name: serv_type, dtype: int64\n",
      "--------------------------------------\n",
      "100M            256952\n",
      "100M (FTTO)      92217\n",
      "10M              61711\n",
      "30M              52688\n",
      "1000M (FTTO)     26066\n",
      "300M (FTTO)      11160\n",
      "500M (FTTO)       4026\n",
      "BELOW 10M         2772\n",
      "50M               2533\n",
      "Name: bandwidth, dtype: int64\n",
      "--------------------------------------\n",
      "0                            498081\n",
      "1                             10093\n",
      "2                              1494\n",
      "3                               288\n",
      "4                                93\n",
      "5                                40\n",
      "6                                18\n",
      "7                                15\n",
      " customer/ user pass away         3\n",
      "Name: complaint_cnt, dtype: int64\n",
      "--------------------------------------\n",
      "N    309580\n",
      "Y    200542\n",
      "0         3\n",
      "Name: with_phone_service, dtype: int64\n",
      "--------------------------------------\n",
      "N    441526\n",
      "Y     68599\n",
      "Name: churn, dtype: int64\n",
      "--------------------------------------\n",
      "N    504622\n",
      "Y      5503\n",
      "Name: current_mth_churn, dtype: int64\n",
      "--------------------------------------\n",
      "Y    2\n",
      "Name: Unnamed: 19, dtype: int64\n",
      "--------------------------------------\n"
     ]
    }
   ],
   "source": [
    "columns = df.columns\n",
    "\n",
    "values = df.nunique().sort_values()\n",
    "\n",
    "print('--------------------------------------')\n",
    "\n",
    "for column in columns:\n",
    "    if(values[column] < 10):\n",
    "        print(df[column].value_counts())\n",
    "        print('--------------------------------------')"
   ]
  },
  {
   "cell_type": "markdown",
   "metadata": {},
   "source": [
    "## 3. Data Cleaning\n",
    "\n",
    "##### Null Value Cleanup\n",
    "<p>The <b>Unnamed: 19</b> column will be dropped.</p>\n",
    "<p>The <b>term_reas_code</b> and <b>term_reas_desc</b> have a high number of null values. These columns will be dropped.</p>\n",
    "<p>The <b>effc_strt_date, effc_end_date, contract_month</b> and <b>ce_expiry</b> columns have a low number of null values with no discernible way to fill them in. The rows can be dropped without much data loss.</p>\n",
    "\n",
    "##### Dropping Unnecessary Columns\n",
    "\n",
    "<p> The <b>bill_cycl</b> and <b>serv_type</b> columns will be dropped because they each have only one unique value, therefore they are useless for modeling.</p>\n",
    "\n",
    "##### Type Formatting\n",
    "<p>The <b>image</b> column must be formatted to a proper datetime.</p>\n",
    "<p>The <b>bandwidth</b> column must be refactored to a categorical.</p>\n",
    "<p>The <b>effc_strt_date</b> and <b>effc_end_date</b> columns must be converted to datetimes.</p>\n",
    "<p>The <b>contract_month, ce_expiry</b> and <b>secured_revenue</b> columns must be converted to integers.</p>\n",
    "<p>The <b>with_phone_service, churn</b> and <b>current_mth_churn</b> columns must be converted to booleans.</p>\n",
    "    \n",
    "##### Column Renaming\n",
    "<p>This step is optional. Just making the columns easier to read in a dataframe.</p>"
   ]
  },
  {
   "cell_type": "markdown",
   "metadata": {},
   "source": [
    "### Null Value Cleanup"
   ]
  },
  {
   "cell_type": "markdown",
   "metadata": {},
   "source": [
    "##### Unnamed: 19"
   ]
  },
  {
   "cell_type": "code",
   "execution_count": 11,
   "metadata": {},
   "outputs": [],
   "source": [
    "df = df.drop('Unnamed: 19', axis=1)"
   ]
  },
  {
   "cell_type": "markdown",
   "metadata": {},
   "source": [
    "##### term_reas_code and term_reas_desc"
   ]
  },
  {
   "cell_type": "code",
   "execution_count": 12,
   "metadata": {},
   "outputs": [],
   "source": [
    "columns = ['term_reas_code', 'term_reas_desc']\n",
    "df = df.drop(columns, axis=1)"
   ]
  },
  {
   "cell_type": "markdown",
   "metadata": {},
   "source": [
    "##### effc_strt_date, effc_end_date, contract_month and ce_expiry"
   ]
  },
  {
   "cell_type": "code",
   "execution_count": 13,
   "metadata": {},
   "outputs": [],
   "source": [
    "df = df.dropna()\n",
    "df = df.reset_index(drop=True)"
   ]
  },
  {
   "cell_type": "markdown",
   "metadata": {},
   "source": [
    "### Dropping Unnecessary Columns"
   ]
  },
  {
   "cell_type": "code",
   "execution_count": 14,
   "metadata": {},
   "outputs": [],
   "source": [
    "columns = ['bill_cycl', 'serv_type']\n",
    "df = df.drop(columns, axis=1)"
   ]
  },
  {
   "cell_type": "markdown",
   "metadata": {},
   "source": [
    "### Type Formatting"
   ]
  },
  {
   "cell_type": "markdown",
   "metadata": {},
   "source": [
    "##### image"
   ]
  },
  {
   "cell_type": "code",
   "execution_count": null,
   "metadata": {},
   "outputs": [],
   "source": []
  },
  {
   "cell_type": "markdown",
   "metadata": {},
   "source": [
    "##### bandwidth"
   ]
  },
  {
   "cell_type": "code",
   "execution_count": null,
   "metadata": {},
   "outputs": [],
   "source": []
  },
  {
   "cell_type": "markdown",
   "metadata": {},
   "source": [
    "##### effc_strt_date and effc_end_date"
   ]
  },
  {
   "cell_type": "code",
   "execution_count": null,
   "metadata": {},
   "outputs": [],
   "source": []
  },
  {
   "cell_type": "markdown",
   "metadata": {},
   "source": [
    "##### contract_month, ce_expiry and secured_revenue"
   ]
  },
  {
   "cell_type": "code",
   "execution_count": 15,
   "metadata": {},
   "outputs": [],
   "source": [
    "columns = ['contract_month', 'ce_expiry', 'secured_revenue']\n",
    "\n",
    "df[columns] = df[columns].astype('int64')"
   ]
  },
  {
   "cell_type": "markdown",
   "metadata": {},
   "source": [
    "##### with_phone_service, churn and current_mth_churn"
   ]
  },
  {
   "cell_type": "code",
   "execution_count": null,
   "metadata": {},
   "outputs": [],
   "source": []
  },
  {
   "cell_type": "markdown",
   "metadata": {},
   "source": [
    "### Column Renaming"
   ]
  },
  {
   "cell_type": "code",
   "execution_count": 16,
   "metadata": {},
   "outputs": [],
   "source": [
    "columns = {\n",
    "    'newacct_no': 'account_number',\n",
    "    'line_stat': 'line_state',\n",
    "    'serv_code': 'service_code',\n",
    "    'effc_strt_date': 'contract_start',\n",
    "    'effc_end_date' : 'contract_end',\n",
    "    'complaint_cnt': 'complaint_count',\n",
    "    'current_mth_churn': 'current_month_churn'\n",
    "}\n",
    "\n",
    "df = df.rename(columns=columns)"
   ]
  },
  {
   "cell_type": "markdown",
   "metadata": {},
   "source": [
    "## Output Data"
   ]
  },
  {
   "cell_type": "code",
   "execution_count": 17,
   "metadata": {},
   "outputs": [],
   "source": [
    "# Output file location\n",
    "ref = '../../data/2-data_cleaning/2-output.csv.zip'\n",
    "\n",
    "# Compression options\n",
    "compression_opts = dict(method='zip',\n",
    "                        archive_name='2-output.csv')  \n",
    "# Output data to zipped csv\n",
    "df.to_csv(ref, index=False,\n",
    "          compression=compression_opts)"
   ]
  },
  {
   "cell_type": "code",
   "execution_count": null,
   "metadata": {},
   "outputs": [],
   "source": []
  }
 ],
 "metadata": {
  "kernelspec": {
   "display_name": "Python 3",
   "language": "python",
   "name": "python3"
  },
  "language_info": {
   "codemirror_mode": {
    "name": "ipython",
    "version": 3
   },
   "file_extension": ".py",
   "mimetype": "text/x-python",
   "name": "python",
   "nbconvert_exporter": "python",
   "pygments_lexer": "ipython3",
   "version": "3.8.6"
  }
 },
 "nbformat": 4,
 "nbformat_minor": 4
}
