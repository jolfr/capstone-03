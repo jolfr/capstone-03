{
 "cells": [
  {
   "cell_type": "markdown",
   "metadata": {},
   "source": [
    "# 2.2 Transactions Data Cleaning\n",
    "\n",
    "##### Description\n",
    "\n",
    "Basic data visualization and data formatting for transactions.csv\n",
    "\n",
    "##### Notebook Steps\n",
    "\n",
    "1. Connect Spark\n",
    "1. Input Data\n",
    "1. Examine Data\n",
    "1. Data Cleaning\n",
    "1. Output Data"
   ]
  },
  {
   "cell_type": "markdown",
   "metadata": {},
   "source": [
    "## 1. Connect Spark"
   ]
  },
  {
   "cell_type": "code",
   "execution_count": 1,
   "metadata": {},
   "outputs": [],
   "source": [
    "%load_ext sparkmagic.magics"
   ]
  },
  {
   "cell_type": "code",
   "execution_count": 2,
   "metadata": {},
   "outputs": [
    {
     "data": {
      "application/vnd.jupyter.widget-view+json": {
       "model_id": "a4f502528752437e915a23d28faa0ea6",
       "version_major": 2,
       "version_minor": 0
      },
      "text/plain": [
       "MagicsControllerWidget(children=(Tab(children=(ManageSessionWidget(children=(HTML(value='<br/>'), HTML(value='…"
      ]
     },
     "metadata": {},
     "output_type": "display_data"
    },
    {
     "name": "stdout",
     "output_type": "stream",
     "text": [
      "Added endpoint http://ec2-3-85-12-54.compute-1.amazonaws.com:8998/\n",
      "Starting Spark application\n"
     ]
    },
    {
     "data": {
      "text/html": [
       "<table>\n",
       "<tr><th>ID</th><th>YARN Application ID</th><th>Kind</th><th>State</th><th>Spark UI</th><th>Driver log</th><th>Current session?</th></tr><tr><td>2</td><td>application_1609241788334_0003</td><td>pyspark</td><td>idle</td><td><a target=\"_blank\" href=\"http://ip-172-31-31-94.ec2.internal:20888/proxy/application_1609241788334_0003/\">Link</a></td><td><a target=\"_blank\" href=\"http://ip-172-31-28-233.ec2.internal:8042/node/containerlogs/container_1609241788334_0003_01_000001/livy\">Link</a></td><td>✔</td></tr></table>"
      ],
      "text/plain": [
       "<IPython.core.display.HTML object>"
      ]
     },
     "metadata": {},
     "output_type": "display_data"
    },
    {
     "data": {
      "application/vnd.jupyter.widget-view+json": {
       "model_id": "",
       "version_major": 2,
       "version_minor": 0
      },
      "text/plain": [
       "FloatProgress(value=0.0, bar_style='info', description='Progress:', layout=Layout(height='25px', width='50%'),…"
      ]
     },
     "metadata": {},
     "output_type": "display_data"
    },
    {
     "name": "stdout",
     "output_type": "stream",
     "text": [
      "SparkSession available as 'spark'.\n",
      "Cleaned up endpoint http://ec2-3-85-12-54.compute-1.amazonaws.com:8998/\n"
     ]
    }
   ],
   "source": [
    "%manage_spark"
   ]
  },
  {
   "cell_type": "markdown",
   "metadata": {},
   "source": [
    "## 2. Input Data"
   ]
  },
  {
   "cell_type": "code",
   "execution_count": 3,
   "metadata": {},
   "outputs": [
    {
     "data": {
      "application/vnd.jupyter.widget-view+json": {
       "model_id": "",
       "version_major": 2,
       "version_minor": 0
      },
      "text/plain": [
       "FloatProgress(value=0.0, bar_style='info', description='Progress:', layout=Layout(height='25px', width='50%'),…"
      ]
     },
     "metadata": {},
     "output_type": "display_data"
    }
   ],
   "source": [
    "%%spark\n",
    "df = spark.read.csv(\"s3://jolfr-capstone3/raw/transactions\", header=True)"
   ]
  },
  {
   "cell_type": "markdown",
   "metadata": {},
   "source": [
    "## 3. Examine Data"
   ]
  },
  {
   "cell_type": "markdown",
   "metadata": {},
   "source": [
    "##### show()"
   ]
  },
  {
   "cell_type": "code",
   "execution_count": 4,
   "metadata": {},
   "outputs": [
    {
     "data": {
      "application/vnd.jupyter.widget-view+json": {
       "model_id": "",
       "version_major": 2,
       "version_minor": 0
      },
      "text/plain": [
       "FloatProgress(value=0.0, bar_style='info', description='Progress:', layout=Layout(height='25px', width='50%'),…"
      ]
     },
     "metadata": {},
     "output_type": "display_data"
    },
    {
     "name": "stdout",
     "output_type": "stream",
     "text": [
      "+--------------------+-----------------+-----------------+---------------+------------------+-------------+----------------+----------------------+---------+\n",
      "|                msno|payment_method_id|payment_plan_days|plan_list_price|actual_amount_paid|is_auto_renew|transaction_date|membership_expire_date|is_cancel|\n",
      "+--------------------+-----------------+-----------------+---------------+------------------+-------------+----------------+----------------------+---------+\n",
      "|++6eU4LsQ3UQ20ILS...|               32|               90|            298|               298|            0|        20170131|              20170504|        0|\n",
      "|++lvGPJOinuin/8es...|               41|               30|            149|               149|            1|        20150809|              20190412|        0|\n",
      "|+/GXNtXWQVfKrEDqY...|               36|               30|            180|               180|            1|        20170303|              20170422|        0|\n",
      "|+/w1UrZwyka4C9oNH...|               36|               30|            180|               180|            1|        20170329|              20170331|        1|\n",
      "|+00PGzKTYqtnb65mP...|               41|               30|             99|                99|            1|        20170323|              20170423|        0|\n",
      "|+0KcMm8JNCW08lTp3...|               41|               30|            149|               149|            1|        20151112|              20180613|        0|\n",
      "|+0MeUJe1cGb4O97gJ...|               41|               30|             99|                99|            1|        20170313|              20170413|        0|\n",
      "|+0W3Q9FSw8TLgoNke...|               41|               30|             99|                99|            1|        20170318|              20170418|        0|\n",
      "|+0aofSeKQ/F2bhtAG...|               41|               30|             99|                99|            1|        20170316|              20170416|        0|\n",
      "|+0c0aay0C6GHocNyf...|               41|               30|            149|               149|            1|        20170307|              20170407|        0|\n",
      "|+0vdYjwKTJKP2OuVU...|               41|               30|             99|                99|            1|        20170316|              20170416|        0|\n",
      "|+1qe9o7V7yJ6CWz4n...|               40|               30|            149|               149|            1|        20170311|              20170410|        0|\n",
      "|+1sa2M+60tj9HplZS...|               16|               30|            149|               149|            1|        20170307|              20170406|        0|\n",
      "|+27xILAVHhFBaiEcy...|               41|               30|             99|                99|            1|        20170326|              20170426|        0|\n",
      "|+2HVGotjiE2ofWgVp...|               41|               30|             99|                99|            1|        20170331|              20170430|        0|\n",
      "|+2y0N7JdEAgAO2zjW...|               41|               30|             99|                99|            1|        20170308|              20170408|        0|\n",
      "|+3Z/2l0S7ui1s9FlZ...|               41|               30|            149|               149|            1|        20150731|              20171202|        0|\n",
      "|+50G1jyzn4OzqalwB...|               32|              410|           1788|              1788|            0|        20160805|              20170919|        0|\n",
      "|+5Yo2rxxC+x+kIYl4...|               34|               30|            149|               149|            1|        20170331|              20170430|        0|\n",
      "|+6YT5fhMwOfQJjT3m...|               41|               30|             99|                99|            1|        20170304|              20170404|        0|\n",
      "+--------------------+-----------------+-----------------+---------------+------------------+-------------+----------------+----------------------+---------+\n",
      "only showing top 20 rows"
     ]
    }
   ],
   "source": [
    "%%spark\n",
    "df.show()"
   ]
  },
  {
   "cell_type": "markdown",
   "metadata": {},
   "source": [
    "##### count()"
   ]
  },
  {
   "cell_type": "code",
   "execution_count": 5,
   "metadata": {},
   "outputs": [
    {
     "data": {
      "application/vnd.jupyter.widget-view+json": {
       "model_id": "",
       "version_major": 2,
       "version_minor": 0
      },
      "text/plain": [
       "FloatProgress(value=0.0, bar_style='info', description='Progress:', layout=Layout(height='25px', width='50%'),…"
      ]
     },
     "metadata": {},
     "output_type": "display_data"
    },
    {
     "name": "stdout",
     "output_type": "stream",
     "text": [
      "1431009"
     ]
    }
   ],
   "source": [
    "%%spark\n",
    "df.count()"
   ]
  },
  {
   "cell_type": "markdown",
   "metadata": {},
   "source": [
    "##### describe()"
   ]
  },
  {
   "cell_type": "code",
   "execution_count": 6,
   "metadata": {},
   "outputs": [
    {
     "data": {
      "application/vnd.jupyter.widget-view+json": {
       "model_id": "",
       "version_major": 2,
       "version_minor": 0
      },
      "text/plain": [
       "FloatProgress(value=0.0, bar_style='info', description='Progress:', layout=Layout(height='25px', width='50%'),…"
      ]
     },
     "metadata": {},
     "output_type": "display_data"
    },
    {
     "name": "stdout",
     "output_type": "stream",
     "text": [
      "+-------+--------------------+-----------------+------------------+------------------+------------------+-------------------+--------------------+----------------------+-------------------+\n",
      "|summary|                msno|payment_method_id| payment_plan_days|   plan_list_price|actual_amount_paid|      is_auto_renew|    transaction_date|membership_expire_date|          is_cancel|\n",
      "+-------+--------------------+-----------------+------------------+------------------+------------------+-------------------+--------------------+----------------------+-------------------+\n",
      "|  count|             1431009|          1431009|           1431009|           1431009|           1431009|            1431009|             1431009|               1431009|            1431009|\n",
      "|   mean|                null|37.91835481118567| 66.01769590547649|281.78703488238017| 281.3172411913552| 0.7853025382789347|2.0168484537746444E7|   2.017110068205581E7|0.02455120827332323|\n",
      "| stddev|                null|  4.9648049069269|102.48639600607599|435.18613759277133| 435.4199502177584|0.41061244437104566|   4858.796621903888|     3032.367275462342|0.15475291008899253|\n",
      "|    min|+++IZseRRiQS9aaSk...|               10|                 0|                 0|                 0|                  0|            20150101|              20160419|                  0|\n",
      "|    max|zzzF1KsGfHH3qI6qi...|                8|                90|                99|                99|                  1|            20170331|              20361015|                  1|\n",
      "+-------+--------------------+-----------------+------------------+------------------+------------------+-------------------+--------------------+----------------------+-------------------+"
     ]
    }
   ],
   "source": [
    "%%spark\n",
    "df.describe().show()"
   ]
  },
  {
   "cell_type": "markdown",
   "metadata": {},
   "source": [
    "##### printSchema()"
   ]
  },
  {
   "cell_type": "code",
   "execution_count": 7,
   "metadata": {},
   "outputs": [
    {
     "data": {
      "application/vnd.jupyter.widget-view+json": {
       "model_id": "",
       "version_major": 2,
       "version_minor": 0
      },
      "text/plain": [
       "FloatProgress(value=0.0, bar_style='info', description='Progress:', layout=Layout(height='25px', width='50%'),…"
      ]
     },
     "metadata": {},
     "output_type": "display_data"
    },
    {
     "name": "stdout",
     "output_type": "stream",
     "text": [
      "root\n",
      " |-- msno: string (nullable = true)\n",
      " |-- payment_method_id: string (nullable = true)\n",
      " |-- payment_plan_days: string (nullable = true)\n",
      " |-- plan_list_price: string (nullable = true)\n",
      " |-- actual_amount_paid: string (nullable = true)\n",
      " |-- is_auto_renew: string (nullable = true)\n",
      " |-- transaction_date: string (nullable = true)\n",
      " |-- membership_expire_date: string (nullable = true)\n",
      " |-- is_cancel: string (nullable = true)"
     ]
    }
   ],
   "source": [
    "%%spark\n",
    "df.printSchema()"
   ]
  },
  {
   "cell_type": "markdown",
   "metadata": {},
   "source": [
    "##### columns"
   ]
  },
  {
   "cell_type": "code",
   "execution_count": 8,
   "metadata": {},
   "outputs": [
    {
     "data": {
      "application/vnd.jupyter.widget-view+json": {
       "model_id": "",
       "version_major": 2,
       "version_minor": 0
      },
      "text/plain": [
       "FloatProgress(value=0.0, bar_style='info', description='Progress:', layout=Layout(height='25px', width='50%'),…"
      ]
     },
     "metadata": {},
     "output_type": "display_data"
    },
    {
     "name": "stdout",
     "output_type": "stream",
     "text": [
      "['msno', 'payment_method_id', 'payment_plan_days', 'plan_list_price', 'actual_amount_paid', 'is_auto_renew', 'transaction_date', 'membership_expire_date', 'is_cancel']"
     ]
    }
   ],
   "source": [
    "%%spark\n",
    "df.columns"
   ]
  },
  {
   "cell_type": "markdown",
   "metadata": {},
   "source": [
    "##### head(5)"
   ]
  },
  {
   "cell_type": "code",
   "execution_count": 9,
   "metadata": {},
   "outputs": [
    {
     "data": {
      "application/vnd.jupyter.widget-view+json": {
       "model_id": "",
       "version_major": 2,
       "version_minor": 0
      },
      "text/plain": [
       "FloatProgress(value=0.0, bar_style='info', description='Progress:', layout=Layout(height='25px', width='50%'),…"
      ]
     },
     "metadata": {},
     "output_type": "display_data"
    },
    {
     "name": "stdout",
     "output_type": "stream",
     "text": [
      "[Row(msno=u'++6eU4LsQ3UQ20ILS7d99XK8WbiVgbyYL4FUgzZR134=', payment_method_id=u'32', payment_plan_days=u'90', plan_list_price=u'298', actual_amount_paid=u'298', is_auto_renew=u'0', transaction_date=u'20170131', membership_expire_date=u'20170504', is_cancel=u'0'), Row(msno=u'++lvGPJOinuin/8esghpnqdljm6NXS8m8Zwchc7gOeA=', payment_method_id=u'41', payment_plan_days=u'30', plan_list_price=u'149', actual_amount_paid=u'149', is_auto_renew=u'1', transaction_date=u'20150809', membership_expire_date=u'20190412', is_cancel=u'0'), Row(msno=u'+/GXNtXWQVfKrEDqYAzcSw2xSPYMKWNj22m+5XkVQZc=', payment_method_id=u'36', payment_plan_days=u'30', plan_list_price=u'180', actual_amount_paid=u'180', is_auto_renew=u'1', transaction_date=u'20170303', membership_expire_date=u'20170422', is_cancel=u'0'), Row(msno=u'+/w1UrZwyka4C9oNH3+Q8fUf3fD8R3EwWrx57ODIsqk=', payment_method_id=u'36', payment_plan_days=u'30', plan_list_price=u'180', actual_amount_paid=u'180', is_auto_renew=u'1', transaction_date=u'20170329', membership_expire_date=u'20170331', is_cancel=u'1'), Row(msno=u'+00PGzKTYqtnb65mPKPyeHXcZEwqiEzktpQksaaSC3c=', payment_method_id=u'41', payment_plan_days=u'30', plan_list_price=u'99', actual_amount_paid=u'99', is_auto_renew=u'1', transaction_date=u'20170323', membership_expire_date=u'20170423', is_cancel=u'0')]"
     ]
    }
   ],
   "source": [
    "%%spark\n",
    "df.head(5)"
   ]
  },
  {
   "cell_type": "markdown",
   "metadata": {},
   "source": [
    "##### Null per Column"
   ]
  },
  {
   "cell_type": "code",
   "execution_count": 10,
   "metadata": {},
   "outputs": [
    {
     "data": {
      "application/vnd.jupyter.widget-view+json": {
       "model_id": "",
       "version_major": 2,
       "version_minor": 0
      },
      "text/plain": [
       "FloatProgress(value=0.0, bar_style='info', description='Progress:', layout=Layout(height='25px', width='50%'),…"
      ]
     },
     "metadata": {},
     "output_type": "display_data"
    },
    {
     "name": "stdout",
     "output_type": "stream",
     "text": [
      "+----+-----------------+-----------------+---------------+------------------+-------------+----------------+----------------------+---------+\n",
      "|msno|payment_method_id|payment_plan_days|plan_list_price|actual_amount_paid|is_auto_renew|transaction_date|membership_expire_date|is_cancel|\n",
      "+----+-----------------+-----------------+---------------+------------------+-------------+----------------+----------------------+---------+\n",
      "|   0|                0|                0|              0|                 0|            0|               0|                     0|        0|\n",
      "+----+-----------------+-----------------+---------------+------------------+-------------+----------------+----------------------+---------+"
     ]
    }
   ],
   "source": [
    "%%spark\n",
    "from pyspark.sql.functions import isnan, when, count, col\n",
    "\n",
    "df.select([count(when(isnan(c) | col(c).isNull(), c)).alias(c) for c in df.columns]).show()"
   ]
  },
  {
   "cell_type": "markdown",
   "metadata": {},
   "source": [
    "##### Value Counts"
   ]
  },
  {
   "cell_type": "code",
   "execution_count": 11,
   "metadata": {},
   "outputs": [
    {
     "data": {
      "application/vnd.jupyter.widget-view+json": {
       "model_id": "",
       "version_major": 2,
       "version_minor": 0
      },
      "text/plain": [
       "FloatProgress(value=0.0, bar_style='info', description='Progress:', layout=Layout(height='25px', width='50%'),…"
      ]
     },
     "metadata": {},
     "output_type": "display_data"
    },
    {
     "name": "stdout",
     "output_type": "stream",
     "text": [
      "+-----------------+-----+\n",
      "|payment_method_id|count|\n",
      "+-----------------+-----+\n",
      "|                5|    1|\n",
      "|               24|    4|\n",
      "|                2|    4|\n",
      "|               25|    5|\n",
      "|               10|   40|\n",
      "|                3|   42|\n",
      "|               11|   79|\n",
      "|                8|  179|\n",
      "|                6|  186|\n",
      "|               26|  668|\n",
      "|               14|  672|\n",
      "|               18|  714|\n",
      "|               16| 1842|\n",
      "|               21| 1846|\n",
      "|               27| 2074|\n",
      "|               19| 2136|\n",
      "|               17| 2532|\n",
      "|               23| 2719|\n",
      "|               12| 2858|\n",
      "|               28| 3452|\n",
      "+-----------------+-----+\n",
      "only showing top 20 rows"
     ]
    }
   ],
   "source": [
    "%%spark\n",
    "df.groupBy('payment_method_id').count().orderBy('count').show()"
   ]
  },
  {
   "cell_type": "code",
   "execution_count": 12,
   "metadata": {},
   "outputs": [
    {
     "data": {
      "application/vnd.jupyter.widget-view+json": {
       "model_id": "",
       "version_major": 2,
       "version_minor": 0
      },
      "text/plain": [
       "FloatProgress(value=0.0, bar_style='info', description='Progress:', layout=Layout(height='25px', width='50%'),…"
      ]
     },
     "metadata": {},
     "output_type": "display_data"
    },
    {
     "name": "stdout",
     "output_type": "stream",
     "text": [
      "+-----------------+-----+\n",
      "|payment_plan_days|count|\n",
      "+-----------------+-----+\n",
      "|               31|    4|\n",
      "|                3|    9|\n",
      "|               21|   11|\n",
      "|              110|   20|\n",
      "|               35|   29|\n",
      "|              230|   35|\n",
      "|               45|   41|\n",
      "|               80|   43|\n",
      "|               70|   49|\n",
      "|               14|   82|\n",
      "|               10|  416|\n",
      "|                1|  676|\n",
      "|              270|  997|\n",
      "|              450| 1762|\n",
      "|              400| 1817|\n",
      "|                0| 2218|\n",
      "|              200| 3108|\n",
      "|               60| 3134|\n",
      "|              415| 3298|\n",
      "|              240| 3440|\n",
      "+-----------------+-----+\n",
      "only showing top 20 rows"
     ]
    }
   ],
   "source": [
    "%%spark\n",
    "df.groupBy('payment_plan_days').count().orderBy('count').show()"
   ]
  },
  {
   "cell_type": "code",
   "execution_count": 13,
   "metadata": {},
   "outputs": [
    {
     "data": {
      "application/vnd.jupyter.widget-view+json": {
       "model_id": "",
       "version_major": 2,
       "version_minor": 0
      },
      "text/plain": [
       "FloatProgress(value=0.0, bar_style='info', description='Progress:', layout=Layout(height='25px', width='50%'),…"
      ]
     },
     "metadata": {},
     "output_type": "display_data"
    },
    {
     "name": "stdout",
     "output_type": "stream",
     "text": [
      "+---------------+-----+\n",
      "|plan_list_price|count|\n",
      "+---------------+-----+\n",
      "|             30|    1|\n",
      "|             15|    1|\n",
      "|             50|    2|\n",
      "|            143|    4|\n",
      "|            265|    4|\n",
      "|           1300|    6|\n",
      "|             70|   11|\n",
      "|            105|   11|\n",
      "|            131|   24|\n",
      "|              1|   25|\n",
      "|           1260|   25|\n",
      "|           1150|   35|\n",
      "|            400|   43|\n",
      "|            126|   46|\n",
      "|            350|   49|\n",
      "|            210|   65|\n",
      "|            596|   66|\n",
      "|            134|  109|\n",
      "|           2000|  130|\n",
      "|           1399|  137|\n",
      "+---------------+-----+\n",
      "only showing top 20 rows"
     ]
    }
   ],
   "source": [
    "%%spark\n",
    "df.groupBy('plan_list_price').count().orderBy('count').show()"
   ]
  },
  {
   "cell_type": "code",
   "execution_count": 14,
   "metadata": {},
   "outputs": [
    {
     "data": {
      "application/vnd.jupyter.widget-view+json": {
       "model_id": "",
       "version_major": 2,
       "version_minor": 0
      },
      "text/plain": [
       "FloatProgress(value=0.0, bar_style='info', description='Progress:', layout=Layout(height='25px', width='50%'),…"
      ]
     },
     "metadata": {},
     "output_type": "display_data"
    },
    {
     "name": "stdout",
     "output_type": "stream",
     "text": [
      "+------------------+-----+\n",
      "|actual_amount_paid|count|\n",
      "+------------------+-----+\n",
      "|              1778|    1|\n",
      "|                15|    1|\n",
      "|              1780|    1|\n",
      "|                30|    1|\n",
      "|               849|    1|\n",
      "|               897|    1|\n",
      "|               984|    1|\n",
      "|                50|    2|\n",
      "|               143|    4|\n",
      "|               265|    4|\n",
      "|              1300|    6|\n",
      "|                70|   11|\n",
      "|               105|   11|\n",
      "|               131|   24|\n",
      "|                 1|   25|\n",
      "|              1260|   25|\n",
      "|              1150|   35|\n",
      "|               400|   43|\n",
      "|               127|   46|\n",
      "|               350|   49|\n",
      "+------------------+-----+\n",
      "only showing top 20 rows"
     ]
    }
   ],
   "source": [
    "%%spark\n",
    "df.groupBy('actual_amount_paid').count().orderBy('count').show()"
   ]
  },
  {
   "cell_type": "code",
   "execution_count": 15,
   "metadata": {},
   "outputs": [
    {
     "data": {
      "application/vnd.jupyter.widget-view+json": {
       "model_id": "",
       "version_major": 2,
       "version_minor": 0
      },
      "text/plain": [
       "FloatProgress(value=0.0, bar_style='info', description='Progress:', layout=Layout(height='25px', width='50%'),…"
      ]
     },
     "metadata": {},
     "output_type": "display_data"
    },
    {
     "name": "stdout",
     "output_type": "stream",
     "text": [
      "+-------------+-------+\n",
      "|is_auto_renew|  count|\n",
      "+-------------+-------+\n",
      "|            0| 307234|\n",
      "|            1|1123775|\n",
      "+-------------+-------+"
     ]
    }
   ],
   "source": [
    "%%spark\n",
    "df.groupBy('is_auto_renew').count().orderBy('count').show()"
   ]
  },
  {
   "cell_type": "code",
   "execution_count": 16,
   "metadata": {},
   "outputs": [
    {
     "data": {
      "application/vnd.jupyter.widget-view+json": {
       "model_id": "",
       "version_major": 2,
       "version_minor": 0
      },
      "text/plain": [
       "FloatProgress(value=0.0, bar_style='info', description='Progress:', layout=Layout(height='25px', width='50%'),…"
      ]
     },
     "metadata": {},
     "output_type": "display_data"
    },
    {
     "name": "stdout",
     "output_type": "stream",
     "text": [
      "+---------+-------+\n",
      "|is_cancel|  count|\n",
      "+---------+-------+\n",
      "|        1|  35133|\n",
      "|        0|1395876|\n",
      "+---------+-------+"
     ]
    }
   ],
   "source": [
    "%%spark\n",
    "df.groupBy('is_cancel').count().orderBy('count').show()"
   ]
  },
  {
   "cell_type": "markdown",
   "metadata": {},
   "source": [
    "## 4. Data Cleaning"
   ]
  },
  {
   "cell_type": "code",
   "execution_count": 17,
   "metadata": {},
   "outputs": [
    {
     "data": {
      "application/vnd.jupyter.widget-view+json": {
       "model_id": "",
       "version_major": 2,
       "version_minor": 0
      },
      "text/plain": [
       "FloatProgress(value=0.0, bar_style='info', description='Progress:', layout=Layout(height='25px', width='50%'),…"
      ]
     },
     "metadata": {},
     "output_type": "display_data"
    }
   ],
   "source": [
    "%%spark\n",
    "from pyspark.sql import types\n",
    "from pyspark.sql.functions import col, to_date"
   ]
  },
  {
   "cell_type": "markdown",
   "metadata": {},
   "source": [
    "### Columns"
   ]
  },
  {
   "cell_type": "markdown",
   "metadata": {},
   "source": [
    "##### msno\n",
    "The msno column corresponds to user ids for the dataset, so the column is renamed from msno to user_id."
   ]
  },
  {
   "cell_type": "code",
   "execution_count": 18,
   "metadata": {},
   "outputs": [
    {
     "data": {
      "application/vnd.jupyter.widget-view+json": {
       "model_id": "",
       "version_major": 2,
       "version_minor": 0
      },
      "text/plain": [
       "FloatProgress(value=0.0, bar_style='info', description='Progress:', layout=Layout(height='25px', width='50%'),…"
      ]
     },
     "metadata": {},
     "output_type": "display_data"
    }
   ],
   "source": [
    "%%spark\n",
    "df = df.withColumnRenamed(\"msno\",\"user_id\")"
   ]
  },
  {
   "cell_type": "markdown",
   "metadata": {},
   "source": [
    "##### payment_method_id\n",
    "The payment_method_id column is cast from string to integer."
   ]
  },
  {
   "cell_type": "code",
   "execution_count": 19,
   "metadata": {},
   "outputs": [
    {
     "data": {
      "application/vnd.jupyter.widget-view+json": {
       "model_id": "",
       "version_major": 2,
       "version_minor": 0
      },
      "text/plain": [
       "FloatProgress(value=0.0, bar_style='info', description='Progress:', layout=Layout(height='25px', width='50%'),…"
      ]
     },
     "metadata": {},
     "output_type": "display_data"
    }
   ],
   "source": [
    "%%spark\n",
    "df = df.withColumn(\"payment_method_id\",col(\"payment_method_id\").cast(types.IntegerType()))"
   ]
  },
  {
   "cell_type": "markdown",
   "metadata": {},
   "source": [
    "##### payment_plan_days\n",
    "The payment_plan_days column is cast from string to integer."
   ]
  },
  {
   "cell_type": "code",
   "execution_count": 20,
   "metadata": {},
   "outputs": [
    {
     "data": {
      "application/vnd.jupyter.widget-view+json": {
       "model_id": "",
       "version_major": 2,
       "version_minor": 0
      },
      "text/plain": [
       "FloatProgress(value=0.0, bar_style='info', description='Progress:', layout=Layout(height='25px', width='50%'),…"
      ]
     },
     "metadata": {},
     "output_type": "display_data"
    }
   ],
   "source": [
    "%%spark\n",
    "df = df.withColumn(\"payment_plan_days\",col(\"payment_plan_days\").cast(types.IntegerType()))"
   ]
  },
  {
   "cell_type": "markdown",
   "metadata": {},
   "source": [
    "##### plan_list_price\n",
    "The plan_list_price column is cast from string to integer."
   ]
  },
  {
   "cell_type": "code",
   "execution_count": 21,
   "metadata": {},
   "outputs": [
    {
     "data": {
      "application/vnd.jupyter.widget-view+json": {
       "model_id": "",
       "version_major": 2,
       "version_minor": 0
      },
      "text/plain": [
       "FloatProgress(value=0.0, bar_style='info', description='Progress:', layout=Layout(height='25px', width='50%'),…"
      ]
     },
     "metadata": {},
     "output_type": "display_data"
    }
   ],
   "source": [
    "%%spark\n",
    "df = df.withColumn(\"plan_list_price\",col(\"plan_list_price\").cast(types.IntegerType()))"
   ]
  },
  {
   "cell_type": "markdown",
   "metadata": {},
   "source": [
    "##### actual_amount_paid\n",
    "The actual_amount_paid column is cast from string to integer."
   ]
  },
  {
   "cell_type": "code",
   "execution_count": 22,
   "metadata": {},
   "outputs": [
    {
     "data": {
      "application/vnd.jupyter.widget-view+json": {
       "model_id": "",
       "version_major": 2,
       "version_minor": 0
      },
      "text/plain": [
       "FloatProgress(value=0.0, bar_style='info', description='Progress:', layout=Layout(height='25px', width='50%'),…"
      ]
     },
     "metadata": {},
     "output_type": "display_data"
    }
   ],
   "source": [
    "%%spark\n",
    "df = df.withColumn(\"actual_amount_paid\",col(\"plan_list_price\").cast(types.IntegerType()))"
   ]
  },
  {
   "cell_type": "markdown",
   "metadata": {},
   "source": [
    "##### is_auto_renew\n",
    "The is_auto_renew column is cast from string to boolean."
   ]
  },
  {
   "cell_type": "code",
   "execution_count": 23,
   "metadata": {},
   "outputs": [
    {
     "data": {
      "application/vnd.jupyter.widget-view+json": {
       "model_id": "",
       "version_major": 2,
       "version_minor": 0
      },
      "text/plain": [
       "FloatProgress(value=0.0, bar_style='info', description='Progress:', layout=Layout(height='25px', width='50%'),…"
      ]
     },
     "metadata": {},
     "output_type": "display_data"
    }
   ],
   "source": [
    "%%spark\n",
    "df = df.withColumn(\"is_auto_renew\",col(\"is_auto_renew\").cast(types.BooleanType()))"
   ]
  },
  {
   "cell_type": "markdown",
   "metadata": {},
   "source": [
    "##### transaction_date\n",
    "The transaction_date column must be parsed and cast to a date object."
   ]
  },
  {
   "cell_type": "code",
   "execution_count": 24,
   "metadata": {},
   "outputs": [
    {
     "data": {
      "application/vnd.jupyter.widget-view+json": {
       "model_id": "",
       "version_major": 2,
       "version_minor": 0
      },
      "text/plain": [
       "FloatProgress(value=0.0, bar_style='info', description='Progress:', layout=Layout(height='25px', width='50%'),…"
      ]
     },
     "metadata": {},
     "output_type": "display_data"
    }
   ],
   "source": [
    "%%spark\n",
    "df= df.withColumn('transaction_date',to_date(df.transaction_date, 'yyyyMMdd'))"
   ]
  },
  {
   "cell_type": "markdown",
   "metadata": {},
   "source": [
    "##### membership_expire_date\n",
    "The membership_expire_date column must be parsed and cast to a date object."
   ]
  },
  {
   "cell_type": "code",
   "execution_count": 25,
   "metadata": {},
   "outputs": [
    {
     "data": {
      "application/vnd.jupyter.widget-view+json": {
       "model_id": "",
       "version_major": 2,
       "version_minor": 0
      },
      "text/plain": [
       "FloatProgress(value=0.0, bar_style='info', description='Progress:', layout=Layout(height='25px', width='50%'),…"
      ]
     },
     "metadata": {},
     "output_type": "display_data"
    }
   ],
   "source": [
    "%%spark\n",
    "df= df.withColumn('membership_expire_date',to_date(df.membership_expire_date, 'yyyyMMdd'))"
   ]
  },
  {
   "cell_type": "markdown",
   "metadata": {},
   "source": [
    "##### is_cancel\n",
    "The is_cancel column is cast from string to boolean."
   ]
  },
  {
   "cell_type": "code",
   "execution_count": 26,
   "metadata": {},
   "outputs": [
    {
     "data": {
      "application/vnd.jupyter.widget-view+json": {
       "model_id": "",
       "version_major": 2,
       "version_minor": 0
      },
      "text/plain": [
       "FloatProgress(value=0.0, bar_style='info', description='Progress:', layout=Layout(height='25px', width='50%'),…"
      ]
     },
     "metadata": {},
     "output_type": "display_data"
    }
   ],
   "source": [
    "%%spark\n",
    "df = df.withColumn(\"is_cancel\",col(\"is_cancel\").cast(types.BooleanType()))"
   ]
  },
  {
   "cell_type": "markdown",
   "metadata": {},
   "source": [
    "## 5. Data Output"
   ]
  },
  {
   "cell_type": "markdown",
   "metadata": {},
   "source": [
    "##### Final Check"
   ]
  },
  {
   "cell_type": "code",
   "execution_count": 27,
   "metadata": {},
   "outputs": [
    {
     "data": {
      "application/vnd.jupyter.widget-view+json": {
       "model_id": "",
       "version_major": 2,
       "version_minor": 0
      },
      "text/plain": [
       "FloatProgress(value=0.0, bar_style='info', description='Progress:', layout=Layout(height='25px', width='50%'),…"
      ]
     },
     "metadata": {},
     "output_type": "display_data"
    },
    {
     "name": "stdout",
     "output_type": "stream",
     "text": [
      "root\n",
      " |-- user_id: string (nullable = true)\n",
      " |-- payment_method_id: integer (nullable = true)\n",
      " |-- payment_plan_days: integer (nullable = true)\n",
      " |-- plan_list_price: integer (nullable = true)\n",
      " |-- actual_amount_paid: integer (nullable = true)\n",
      " |-- is_auto_renew: boolean (nullable = true)\n",
      " |-- transaction_date: date (nullable = true)\n",
      " |-- membership_expire_date: date (nullable = true)\n",
      " |-- is_cancel: boolean (nullable = true)"
     ]
    }
   ],
   "source": [
    "%%spark\n",
    "df.printSchema()"
   ]
  },
  {
   "cell_type": "code",
   "execution_count": 28,
   "metadata": {},
   "outputs": [
    {
     "data": {
      "application/vnd.jupyter.widget-view+json": {
       "model_id": "",
       "version_major": 2,
       "version_minor": 0
      },
      "text/plain": [
       "FloatProgress(value=0.0, bar_style='info', description='Progress:', layout=Layout(height='25px', width='50%'),…"
      ]
     },
     "metadata": {},
     "output_type": "display_data"
    },
    {
     "name": "stdout",
     "output_type": "stream",
     "text": [
      "+--------------------+-----------------+-----------------+---------------+------------------+-------------+----------------+----------------------+---------+\n",
      "|             user_id|payment_method_id|payment_plan_days|plan_list_price|actual_amount_paid|is_auto_renew|transaction_date|membership_expire_date|is_cancel|\n",
      "+--------------------+-----------------+-----------------+---------------+------------------+-------------+----------------+----------------------+---------+\n",
      "|++6eU4LsQ3UQ20ILS...|               32|               90|            298|               298|        false|      2017-01-31|            2017-05-04|    false|\n",
      "|++lvGPJOinuin/8es...|               41|               30|            149|               149|         true|      2015-08-09|            2019-04-12|    false|\n",
      "|+/GXNtXWQVfKrEDqY...|               36|               30|            180|               180|         true|      2017-03-03|            2017-04-22|    false|\n",
      "|+/w1UrZwyka4C9oNH...|               36|               30|            180|               180|         true|      2017-03-29|            2017-03-31|     true|\n",
      "|+00PGzKTYqtnb65mP...|               41|               30|             99|                99|         true|      2017-03-23|            2017-04-23|    false|\n",
      "|+0KcMm8JNCW08lTp3...|               41|               30|            149|               149|         true|      2015-11-12|            2018-06-13|    false|\n",
      "|+0MeUJe1cGb4O97gJ...|               41|               30|             99|                99|         true|      2017-03-13|            2017-04-13|    false|\n",
      "|+0W3Q9FSw8TLgoNke...|               41|               30|             99|                99|         true|      2017-03-18|            2017-04-18|    false|\n",
      "|+0aofSeKQ/F2bhtAG...|               41|               30|             99|                99|         true|      2017-03-16|            2017-04-16|    false|\n",
      "|+0c0aay0C6GHocNyf...|               41|               30|            149|               149|         true|      2017-03-07|            2017-04-07|    false|\n",
      "|+0vdYjwKTJKP2OuVU...|               41|               30|             99|                99|         true|      2017-03-16|            2017-04-16|    false|\n",
      "|+1qe9o7V7yJ6CWz4n...|               40|               30|            149|               149|         true|      2017-03-11|            2017-04-10|    false|\n",
      "|+1sa2M+60tj9HplZS...|               16|               30|            149|               149|         true|      2017-03-07|            2017-04-06|    false|\n",
      "|+27xILAVHhFBaiEcy...|               41|               30|             99|                99|         true|      2017-03-26|            2017-04-26|    false|\n",
      "|+2HVGotjiE2ofWgVp...|               41|               30|             99|                99|         true|      2017-03-31|            2017-04-30|    false|\n",
      "|+2y0N7JdEAgAO2zjW...|               41|               30|             99|                99|         true|      2017-03-08|            2017-04-08|    false|\n",
      "|+3Z/2l0S7ui1s9FlZ...|               41|               30|            149|               149|         true|      2015-07-31|            2017-12-02|    false|\n",
      "|+50G1jyzn4OzqalwB...|               32|              410|           1788|              1788|        false|      2016-08-05|            2017-09-19|    false|\n",
      "|+5Yo2rxxC+x+kIYl4...|               34|               30|            149|               149|         true|      2017-03-31|            2017-04-30|    false|\n",
      "|+6YT5fhMwOfQJjT3m...|               41|               30|             99|                99|         true|      2017-03-04|            2017-04-04|    false|\n",
      "+--------------------+-----------------+-----------------+---------------+------------------+-------------+----------------+----------------------+---------+\n",
      "only showing top 20 rows"
     ]
    }
   ],
   "source": [
    "%%spark\n",
    "df.show()"
   ]
  },
  {
   "cell_type": "markdown",
   "metadata": {},
   "source": [
    "##### Output to File"
   ]
  },
  {
   "cell_type": "code",
   "execution_count": 29,
   "metadata": {},
   "outputs": [
    {
     "data": {
      "application/vnd.jupyter.widget-view+json": {
       "model_id": "",
       "version_major": 2,
       "version_minor": 0
      },
      "text/plain": [
       "FloatProgress(value=0.0, bar_style='info', description='Progress:', layout=Layout(height='25px', width='50%'),…"
      ]
     },
     "metadata": {},
     "output_type": "display_data"
    }
   ],
   "source": [
    "%%spark\n",
    "\n",
    "df.write.format(\"com.databricks.spark.csv\").option(\"header\", \"true\").mode('overwrite').save('s3://jolfr-capstone3/interim/transactions')"
   ]
  },
  {
   "cell_type": "code",
   "execution_count": null,
   "metadata": {},
   "outputs": [],
   "source": []
  }
 ],
 "metadata": {
  "kernelspec": {
   "display_name": "Python 3",
   "language": "python",
   "name": "python3"
  },
  "language_info": {
   "codemirror_mode": {
    "name": "ipython",
    "version": 3
   },
   "file_extension": ".py",
   "mimetype": "text/x-python",
   "name": "python",
   "nbconvert_exporter": "python",
   "pygments_lexer": "ipython3",
   "version": "3.9.0"
  }
 },
 "nbformat": 4,
 "nbformat_minor": 4
}
