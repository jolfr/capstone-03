{
 "cells": [
  {
   "cell_type": "markdown",
   "metadata": {},
   "source": [
    "# 2.1 Transactions Data Cleaning\n",
    "\n",
    "##### Description\n",
    "\n",
    "Basic data visualization and data formatting for transactions.csv\n",
    "\n",
    "##### Notebook Steps\n",
    "\n",
    "1. Connect Spark\n",
    "1. Input Data\n",
    "1. Examine Data\n",
    "1. Data Cleaning\n",
    "1. Output Data"
   ]
  },
  {
   "cell_type": "markdown",
   "metadata": {},
   "source": [
    "## 1. Connect Spark"
   ]
  },
  {
   "cell_type": "code",
   "execution_count": 1,
   "metadata": {},
   "outputs": [],
   "source": [
    "import pyspark\n",
    "sc = pyspark.SparkContext(appName=\"trans-clean\")\n",
    "sc.setLogLevel(\"INFO\")\n",
    "\n",
    "from pyspark.sql import SQLContext\n",
    "sqlContext = SQLContext(sc)"
   ]
  },
  {
   "cell_type": "markdown",
   "metadata": {},
   "source": [
    "## 2. Input Data"
   ]
  },
  {
   "cell_type": "code",
   "execution_count": 2,
   "metadata": {},
   "outputs": [],
   "source": [
    "import os\n",
    "import zipfile\n",
    "\n",
    "with zipfile.ZipFile('../../data/1-data_acquisition/1-transactions.output.zip', 'r') as zip_ref:\n",
    "    zip_ref.extractall()\n",
    "    \n",
    "df = sqlContext.read.csv('1-transactions.output.csv', header=True)"
   ]
  },
  {
   "cell_type": "markdown",
   "metadata": {},
   "source": [
    "## 3. Examine Data"
   ]
  },
  {
   "cell_type": "markdown",
   "metadata": {},
   "source": [
    "##### show()"
   ]
  },
  {
   "cell_type": "code",
   "execution_count": 3,
   "metadata": {},
   "outputs": [
    {
     "name": "stdout",
     "output_type": "stream",
     "text": [
      "+--------------------+-----------------+-----------------+---------------+------------------+-------------+----------------+----------------------+---------+\n",
      "|                msno|payment_method_id|payment_plan_days|plan_list_price|actual_amount_paid|is_auto_renew|transaction_date|membership_expire_date|is_cancel|\n",
      "+--------------------+-----------------+-----------------+---------------+------------------+-------------+----------------+----------------------+---------+\n",
      "|++6eU4LsQ3UQ20ILS...|               32|               90|            298|               298|            0|        20170131|              20170504|        0|\n",
      "|++lvGPJOinuin/8es...|               41|               30|            149|               149|            1|        20150809|              20190412|        0|\n",
      "|+/GXNtXWQVfKrEDqY...|               36|               30|            180|               180|            1|        20170303|              20170422|        0|\n",
      "|+/w1UrZwyka4C9oNH...|               36|               30|            180|               180|            1|        20170329|              20170331|        1|\n",
      "|+00PGzKTYqtnb65mP...|               41|               30|             99|                99|            1|        20170323|              20170423|        0|\n",
      "|+0KcMm8JNCW08lTp3...|               41|               30|            149|               149|            1|        20151112|              20180613|        0|\n",
      "|+0MeUJe1cGb4O97gJ...|               41|               30|             99|                99|            1|        20170313|              20170413|        0|\n",
      "|+0W3Q9FSw8TLgoNke...|               41|               30|             99|                99|            1|        20170318|              20170418|        0|\n",
      "|+0aofSeKQ/F2bhtAG...|               41|               30|             99|                99|            1|        20170316|              20170416|        0|\n",
      "|+0c0aay0C6GHocNyf...|               41|               30|            149|               149|            1|        20170307|              20170407|        0|\n",
      "|+0vdYjwKTJKP2OuVU...|               41|               30|             99|                99|            1|        20170316|              20170416|        0|\n",
      "|+1qe9o7V7yJ6CWz4n...|               40|               30|            149|               149|            1|        20170311|              20170410|        0|\n",
      "|+1sa2M+60tj9HplZS...|               16|               30|            149|               149|            1|        20170307|              20170406|        0|\n",
      "|+27xILAVHhFBaiEcy...|               41|               30|             99|                99|            1|        20170326|              20170426|        0|\n",
      "|+2HVGotjiE2ofWgVp...|               41|               30|             99|                99|            1|        20170331|              20170430|        0|\n",
      "|+2y0N7JdEAgAO2zjW...|               41|               30|             99|                99|            1|        20170308|              20170408|        0|\n",
      "|+3Z/2l0S7ui1s9FlZ...|               41|               30|            149|               149|            1|        20150731|              20171202|        0|\n",
      "|+50G1jyzn4OzqalwB...|               32|              410|           1788|              1788|            0|        20160805|              20170919|        0|\n",
      "|+5Yo2rxxC+x+kIYl4...|               34|               30|            149|               149|            1|        20170331|              20170430|        0|\n",
      "|+6YT5fhMwOfQJjT3m...|               41|               30|             99|                99|            1|        20170304|              20170404|        0|\n",
      "+--------------------+-----------------+-----------------+---------------+------------------+-------------+----------------+----------------------+---------+\n",
      "only showing top 20 rows\n",
      "\n"
     ]
    }
   ],
   "source": [
    "df.show()"
   ]
  },
  {
   "cell_type": "markdown",
   "metadata": {},
   "source": [
    "##### count()"
   ]
  },
  {
   "cell_type": "code",
   "execution_count": 4,
   "metadata": {},
   "outputs": [
    {
     "data": {
      "text/plain": [
       "1431009"
      ]
     },
     "execution_count": 4,
     "metadata": {},
     "output_type": "execute_result"
    }
   ],
   "source": [
    "df.count()"
   ]
  },
  {
   "cell_type": "markdown",
   "metadata": {},
   "source": [
    "##### describe()"
   ]
  },
  {
   "cell_type": "code",
   "execution_count": 5,
   "metadata": {},
   "outputs": [
    {
     "name": "stdout",
     "output_type": "stream",
     "text": [
      "+-------+--------------------+-----------------+------------------+------------------+------------------+-------------------+--------------------+----------------------+-------------------+\n",
      "|summary|                msno|payment_method_id| payment_plan_days|   plan_list_price|actual_amount_paid|      is_auto_renew|    transaction_date|membership_expire_date|          is_cancel|\n",
      "+-------+--------------------+-----------------+------------------+------------------+------------------+-------------------+--------------------+----------------------+-------------------+\n",
      "|  count|             1431009|          1431009|           1431009|           1431009|           1431009|            1431009|             1431009|               1431009|            1431009|\n",
      "|   mean|                null|37.91835481118567| 66.01769590547649|281.78703488238017| 281.3172411913552| 0.7853025382789347|2.0168484537746444E7|   2.017110068205581E7|0.02455120827332323|\n",
      "| stddev|                null|4.964804906926858|102.48639600607581|435.18613759276946|435.41995021776256|0.41061244437104305|   4858.796621903626|    3032.3672754622426|0.15475291008899275|\n",
      "|    min|+++IZseRRiQS9aaSk...|               10|                 0|                 0|                 0|                  0|            20150101|              20160419|                  0|\n",
      "|    max|zzzF1KsGfHH3qI6qi...|                8|                90|                99|                99|                  1|            20170331|              20361015|                  1|\n",
      "+-------+--------------------+-----------------+------------------+------------------+------------------+-------------------+--------------------+----------------------+-------------------+\n",
      "\n"
     ]
    }
   ],
   "source": [
    "df.describe().show()"
   ]
  },
  {
   "cell_type": "markdown",
   "metadata": {},
   "source": [
    "##### printSchema()"
   ]
  },
  {
   "cell_type": "code",
   "execution_count": 6,
   "metadata": {},
   "outputs": [
    {
     "name": "stdout",
     "output_type": "stream",
     "text": [
      "root\n",
      " |-- msno: string (nullable = true)\n",
      " |-- payment_method_id: string (nullable = true)\n",
      " |-- payment_plan_days: string (nullable = true)\n",
      " |-- plan_list_price: string (nullable = true)\n",
      " |-- actual_amount_paid: string (nullable = true)\n",
      " |-- is_auto_renew: string (nullable = true)\n",
      " |-- transaction_date: string (nullable = true)\n",
      " |-- membership_expire_date: string (nullable = true)\n",
      " |-- is_cancel: string (nullable = true)\n",
      "\n"
     ]
    }
   ],
   "source": [
    "df.printSchema()"
   ]
  },
  {
   "cell_type": "markdown",
   "metadata": {},
   "source": [
    "##### columns"
   ]
  },
  {
   "cell_type": "code",
   "execution_count": 7,
   "metadata": {},
   "outputs": [
    {
     "data": {
      "text/plain": [
       "['msno',\n",
       " 'payment_method_id',\n",
       " 'payment_plan_days',\n",
       " 'plan_list_price',\n",
       " 'actual_amount_paid',\n",
       " 'is_auto_renew',\n",
       " 'transaction_date',\n",
       " 'membership_expire_date',\n",
       " 'is_cancel']"
      ]
     },
     "execution_count": 7,
     "metadata": {},
     "output_type": "execute_result"
    }
   ],
   "source": [
    "df.columns"
   ]
  },
  {
   "cell_type": "markdown",
   "metadata": {},
   "source": [
    "##### head(5)"
   ]
  },
  {
   "cell_type": "code",
   "execution_count": 8,
   "metadata": {},
   "outputs": [
    {
     "data": {
      "text/plain": [
       "[Row(msno='++6eU4LsQ3UQ20ILS7d99XK8WbiVgbyYL4FUgzZR134=', payment_method_id='32', payment_plan_days='90', plan_list_price='298', actual_amount_paid='298', is_auto_renew='0', transaction_date='20170131', membership_expire_date='20170504', is_cancel='0'),\n",
       " Row(msno='++lvGPJOinuin/8esghpnqdljm6NXS8m8Zwchc7gOeA=', payment_method_id='41', payment_plan_days='30', plan_list_price='149', actual_amount_paid='149', is_auto_renew='1', transaction_date='20150809', membership_expire_date='20190412', is_cancel='0'),\n",
       " Row(msno='+/GXNtXWQVfKrEDqYAzcSw2xSPYMKWNj22m+5XkVQZc=', payment_method_id='36', payment_plan_days='30', plan_list_price='180', actual_amount_paid='180', is_auto_renew='1', transaction_date='20170303', membership_expire_date='20170422', is_cancel='0'),\n",
       " Row(msno='+/w1UrZwyka4C9oNH3+Q8fUf3fD8R3EwWrx57ODIsqk=', payment_method_id='36', payment_plan_days='30', plan_list_price='180', actual_amount_paid='180', is_auto_renew='1', transaction_date='20170329', membership_expire_date='20170331', is_cancel='1'),\n",
       " Row(msno='+00PGzKTYqtnb65mPKPyeHXcZEwqiEzktpQksaaSC3c=', payment_method_id='41', payment_plan_days='30', plan_list_price='99', actual_amount_paid='99', is_auto_renew='1', transaction_date='20170323', membership_expire_date='20170423', is_cancel='0')]"
      ]
     },
     "execution_count": 8,
     "metadata": {},
     "output_type": "execute_result"
    }
   ],
   "source": [
    "df.head(5)"
   ]
  },
  {
   "cell_type": "markdown",
   "metadata": {},
   "source": [
    "##### tail(5)"
   ]
  },
  {
   "cell_type": "code",
   "execution_count": 9,
   "metadata": {},
   "outputs": [
    {
     "data": {
      "text/plain": [
       "[Row(msno='zwF50wwaJI2TBKWhB42HRBJ6EQK0jgSo1Xmwb9Jq3SU=', payment_method_id='32', payment_plan_days='180', plan_list_price='536', actual_amount_paid='536', is_auto_renew='0', transaction_date='20170215', membership_expire_date='20170817', is_cancel='0'),\n",
       " Row(msno='zx/h5MzQQmsSat04wSfGpHp6N8aWLLwM1+7OV7ujmPY=', payment_method_id='41', payment_plan_days='30', plan_list_price='149', actual_amount_paid='149', is_auto_renew='1', transaction_date='20170306', membership_expire_date='20170406', is_cancel='0'),\n",
       " Row(msno='zxvgjIKjy18Fm+cIWUfYKr68z09+ILBxuMW0DnbeUZ8=', payment_method_id='41', payment_plan_days='30', plan_list_price='99', actual_amount_paid='99', is_auto_renew='1', transaction_date='20170308', membership_expire_date='20170408', is_cancel='0'),\n",
       " Row(msno='zzNhkExbpzmpjp9tXefiCUBtgNLgS+vZE7fFfTRDJVc=', payment_method_id='38', payment_plan_days='30', plan_list_price='149', actual_amount_paid='149', is_auto_renew='0', transaction_date='20170318', membership_expire_date='20170417', is_cancel='0'),\n",
       " Row(msno='zzZmdSzz7J9oyC/5nHr/HBvWg6k+p2W15b6lt/VKUQE=', payment_method_id='32', payment_plan_days='180', plan_list_price='699', actual_amount_paid='699', is_auto_renew='0', transaction_date='20161212', membership_expire_date='20170613', is_cancel='0')]"
      ]
     },
     "execution_count": 9,
     "metadata": {},
     "output_type": "execute_result"
    }
   ],
   "source": [
    "df.tail(5)"
   ]
  },
  {
   "cell_type": "markdown",
   "metadata": {},
   "source": [
    "##### Null per Column"
   ]
  },
  {
   "cell_type": "code",
   "execution_count": 14,
   "metadata": {},
   "outputs": [
    {
     "ename": "AnalysisException",
     "evalue": "cannot resolve 'isnan(`is_auto_renew`)' due to data type mismatch: argument 1 requires (double or float) type, however, '`is_auto_renew`' is of boolean type.;;\n'Aggregate [count(CASE WHEN (isnan(cast(user_id#786 as double)) OR isnull(user_id#786)) THEN user_id END) AS user_id#923L, count(CASE WHEN (isnan(cast(payment_method_id#796 as double)) OR isnull(payment_method_id#796)) THEN payment_method_id END) AS payment_method_id#925L, count(CASE WHEN (isnan(cast(payment_plan_days#806 as double)) OR isnull(payment_plan_days#806)) THEN payment_plan_days END) AS payment_plan_days#927L, count(CASE WHEN (isnan(cast(plan_list_price#816 as double)) OR isnull(plan_list_price#816)) THEN plan_list_price END) AS plan_list_price#929L, count(CASE WHEN (isnan(cast(actual_amount_paid#826 as double)) OR isnull(actual_amount_paid#826)) THEN actual_amount_paid END) AS actual_amount_paid#931L, count(CASE WHEN (isnan(is_auto_renew#836) OR isnull(is_auto_renew#836)) THEN is_auto_renew END) AS is_auto_renew#933, count(CASE WHEN (isnan(transaction_date#856) OR isnull(transaction_date#856)) THEN transaction_date END) AS transaction_date#935, count(CASE WHEN (isnan(membership_expire_date#866) OR isnull(membership_expire_date#866)) THEN membership_expire_date END) AS membership_expire_date#937, count(CASE WHEN (isnan(is_cancel#846) OR isnull(is_cancel#846)) THEN is_cancel END) AS is_cancel#939]\n+- Project [user_id#786, payment_method_id#796, payment_plan_days#806, plan_list_price#816, actual_amount_paid#826, is_auto_renew#836, transaction_date#856, to_date(membership_expire_date#23, Some(yyyyMMdd)) AS membership_expire_date#866, is_cancel#846]\n   +- Project [user_id#786, payment_method_id#796, payment_plan_days#806, plan_list_price#816, actual_amount_paid#826, is_auto_renew#836, to_date(transaction_date#22, Some(yyyyMMdd)) AS transaction_date#856, membership_expire_date#23, is_cancel#846]\n      +- Project [user_id#786, payment_method_id#796, payment_plan_days#806, plan_list_price#816, actual_amount_paid#826, is_auto_renew#836, transaction_date#22, membership_expire_date#23, cast(is_cancel#24 as boolean) AS is_cancel#846]\n         +- Project [user_id#786, payment_method_id#796, payment_plan_days#806, plan_list_price#816, actual_amount_paid#826, cast(is_auto_renew#21 as boolean) AS is_auto_renew#836, transaction_date#22, membership_expire_date#23, is_cancel#24]\n            +- Project [user_id#786, payment_method_id#796, payment_plan_days#806, plan_list_price#816, cast(actual_amount_paid#20 as int) AS actual_amount_paid#826, is_auto_renew#21, transaction_date#22, membership_expire_date#23, is_cancel#24]\n               +- Project [user_id#786, payment_method_id#796, payment_plan_days#806, cast(plan_list_price#19 as int) AS plan_list_price#816, actual_amount_paid#20, is_auto_renew#21, transaction_date#22, membership_expire_date#23, is_cancel#24]\n                  +- Project [user_id#786, payment_method_id#796, cast(payment_plan_days#18 as int) AS payment_plan_days#806, plan_list_price#19, actual_amount_paid#20, is_auto_renew#21, transaction_date#22, membership_expire_date#23, is_cancel#24]\n                     +- Project [user_id#786, cast(payment_method_id#17 as int) AS payment_method_id#796, payment_plan_days#18, plan_list_price#19, actual_amount_paid#20, is_auto_renew#21, transaction_date#22, membership_expire_date#23, is_cancel#24]\n                        +- Project [msno#16 AS user_id#786, payment_method_id#17, payment_plan_days#18, plan_list_price#19, actual_amount_paid#20, is_auto_renew#21, transaction_date#22, membership_expire_date#23, is_cancel#24]\n                           +- Relation[msno#16,payment_method_id#17,payment_plan_days#18,plan_list_price#19,actual_amount_paid#20,is_auto_renew#21,transaction_date#22,membership_expire_date#23,is_cancel#24] csv\n",
     "output_type": "error",
     "traceback": [
      "\u001b[0;31m---------------------------------------------------------------------------\u001b[0m",
      "\u001b[0;31mAnalysisException\u001b[0m                         Traceback (most recent call last)",
      "\u001b[0;32m<ipython-input-14-37b5b1cc18be>\u001b[0m in \u001b[0;36m<module>\u001b[0;34m\u001b[0m\n\u001b[1;32m      1\u001b[0m \u001b[0;32mfrom\u001b[0m \u001b[0mpyspark\u001b[0m\u001b[0;34m.\u001b[0m\u001b[0msql\u001b[0m\u001b[0;34m.\u001b[0m\u001b[0mfunctions\u001b[0m \u001b[0;32mimport\u001b[0m \u001b[0misnan\u001b[0m\u001b[0;34m,\u001b[0m \u001b[0mwhen\u001b[0m\u001b[0;34m,\u001b[0m \u001b[0mcount\u001b[0m\u001b[0;34m,\u001b[0m \u001b[0mcol\u001b[0m\u001b[0;34m\u001b[0m\u001b[0;34m\u001b[0m\u001b[0m\n\u001b[1;32m      2\u001b[0m \u001b[0;34m\u001b[0m\u001b[0m\n\u001b[0;32m----> 3\u001b[0;31m \u001b[0mdf\u001b[0m\u001b[0;34m.\u001b[0m\u001b[0mselect\u001b[0m\u001b[0;34m(\u001b[0m\u001b[0;34m[\u001b[0m\u001b[0mcount\u001b[0m\u001b[0;34m(\u001b[0m\u001b[0mwhen\u001b[0m\u001b[0;34m(\u001b[0m\u001b[0misnan\u001b[0m\u001b[0;34m(\u001b[0m\u001b[0mc\u001b[0m\u001b[0;34m)\u001b[0m \u001b[0;34m|\u001b[0m \u001b[0mcol\u001b[0m\u001b[0;34m(\u001b[0m\u001b[0mc\u001b[0m\u001b[0;34m)\u001b[0m\u001b[0;34m.\u001b[0m\u001b[0misNull\u001b[0m\u001b[0;34m(\u001b[0m\u001b[0;34m)\u001b[0m\u001b[0;34m,\u001b[0m \u001b[0mc\u001b[0m\u001b[0;34m)\u001b[0m\u001b[0;34m)\u001b[0m\u001b[0;34m.\u001b[0m\u001b[0malias\u001b[0m\u001b[0;34m(\u001b[0m\u001b[0mc\u001b[0m\u001b[0;34m)\u001b[0m \u001b[0;32mfor\u001b[0m \u001b[0mc\u001b[0m \u001b[0;32min\u001b[0m \u001b[0mdf\u001b[0m\u001b[0;34m.\u001b[0m\u001b[0mcolumns\u001b[0m\u001b[0;34m]\u001b[0m\u001b[0;34m)\u001b[0m\u001b[0;34m.\u001b[0m\u001b[0mshow\u001b[0m\u001b[0;34m(\u001b[0m\u001b[0;34m)\u001b[0m\u001b[0;34m.\u001b[0m\u001b[0mT\u001b[0m\u001b[0;34m\u001b[0m\u001b[0;34m\u001b[0m\u001b[0m\n\u001b[0m",
      "\u001b[0;32m/usr/local/spark/python/pyspark/sql/dataframe.py\u001b[0m in \u001b[0;36mselect\u001b[0;34m(self, *cols)\u001b[0m\n\u001b[1;32m   1419\u001b[0m         \u001b[0;34m[\u001b[0m\u001b[0mRow\u001b[0m\u001b[0;34m(\u001b[0m\u001b[0mname\u001b[0m\u001b[0;34m=\u001b[0m\u001b[0;34mu'Alice'\u001b[0m\u001b[0;34m,\u001b[0m \u001b[0mage\u001b[0m\u001b[0;34m=\u001b[0m\u001b[0;36m12\u001b[0m\u001b[0;34m)\u001b[0m\u001b[0;34m,\u001b[0m \u001b[0mRow\u001b[0m\u001b[0;34m(\u001b[0m\u001b[0mname\u001b[0m\u001b[0;34m=\u001b[0m\u001b[0;34mu'Bob'\u001b[0m\u001b[0;34m,\u001b[0m \u001b[0mage\u001b[0m\u001b[0;34m=\u001b[0m\u001b[0;36m15\u001b[0m\u001b[0;34m)\u001b[0m\u001b[0;34m]\u001b[0m\u001b[0;34m\u001b[0m\u001b[0;34m\u001b[0m\u001b[0m\n\u001b[1;32m   1420\u001b[0m         \"\"\"\n\u001b[0;32m-> 1421\u001b[0;31m         \u001b[0mjdf\u001b[0m \u001b[0;34m=\u001b[0m \u001b[0mself\u001b[0m\u001b[0;34m.\u001b[0m\u001b[0m_jdf\u001b[0m\u001b[0;34m.\u001b[0m\u001b[0mselect\u001b[0m\u001b[0;34m(\u001b[0m\u001b[0mself\u001b[0m\u001b[0;34m.\u001b[0m\u001b[0m_jcols\u001b[0m\u001b[0;34m(\u001b[0m\u001b[0;34m*\u001b[0m\u001b[0mcols\u001b[0m\u001b[0;34m)\u001b[0m\u001b[0;34m)\u001b[0m\u001b[0;34m\u001b[0m\u001b[0;34m\u001b[0m\u001b[0m\n\u001b[0m\u001b[1;32m   1422\u001b[0m         \u001b[0;32mreturn\u001b[0m \u001b[0mDataFrame\u001b[0m\u001b[0;34m(\u001b[0m\u001b[0mjdf\u001b[0m\u001b[0;34m,\u001b[0m \u001b[0mself\u001b[0m\u001b[0;34m.\u001b[0m\u001b[0msql_ctx\u001b[0m\u001b[0;34m)\u001b[0m\u001b[0;34m\u001b[0m\u001b[0;34m\u001b[0m\u001b[0m\n\u001b[1;32m   1423\u001b[0m \u001b[0;34m\u001b[0m\u001b[0m\n",
      "\u001b[0;32m/usr/local/spark/python/lib/py4j-0.10.9-src.zip/py4j/java_gateway.py\u001b[0m in \u001b[0;36m__call__\u001b[0;34m(self, *args)\u001b[0m\n\u001b[1;32m   1302\u001b[0m \u001b[0;34m\u001b[0m\u001b[0m\n\u001b[1;32m   1303\u001b[0m         \u001b[0manswer\u001b[0m \u001b[0;34m=\u001b[0m \u001b[0mself\u001b[0m\u001b[0;34m.\u001b[0m\u001b[0mgateway_client\u001b[0m\u001b[0;34m.\u001b[0m\u001b[0msend_command\u001b[0m\u001b[0;34m(\u001b[0m\u001b[0mcommand\u001b[0m\u001b[0;34m)\u001b[0m\u001b[0;34m\u001b[0m\u001b[0;34m\u001b[0m\u001b[0m\n\u001b[0;32m-> 1304\u001b[0;31m         return_value = get_return_value(\n\u001b[0m\u001b[1;32m   1305\u001b[0m             answer, self.gateway_client, self.target_id, self.name)\n\u001b[1;32m   1306\u001b[0m \u001b[0;34m\u001b[0m\u001b[0m\n",
      "\u001b[0;32m/usr/local/spark/python/pyspark/sql/utils.py\u001b[0m in \u001b[0;36mdeco\u001b[0;34m(*a, **kw)\u001b[0m\n\u001b[1;32m    132\u001b[0m                 \u001b[0;31m# Hide where the exception came from that shows a non-Pythonic\u001b[0m\u001b[0;34m\u001b[0m\u001b[0;34m\u001b[0m\u001b[0;34m\u001b[0m\u001b[0m\n\u001b[1;32m    133\u001b[0m                 \u001b[0;31m# JVM exception message.\u001b[0m\u001b[0;34m\u001b[0m\u001b[0;34m\u001b[0m\u001b[0;34m\u001b[0m\u001b[0m\n\u001b[0;32m--> 134\u001b[0;31m                 \u001b[0mraise_from\u001b[0m\u001b[0;34m(\u001b[0m\u001b[0mconverted\u001b[0m\u001b[0;34m)\u001b[0m\u001b[0;34m\u001b[0m\u001b[0;34m\u001b[0m\u001b[0m\n\u001b[0m\u001b[1;32m    135\u001b[0m             \u001b[0;32melse\u001b[0m\u001b[0;34m:\u001b[0m\u001b[0;34m\u001b[0m\u001b[0;34m\u001b[0m\u001b[0m\n\u001b[1;32m    136\u001b[0m                 \u001b[0;32mraise\u001b[0m\u001b[0;34m\u001b[0m\u001b[0;34m\u001b[0m\u001b[0m\n",
      "\u001b[0;32m/usr/local/spark/python/pyspark/sql/utils.py\u001b[0m in \u001b[0;36mraise_from\u001b[0;34m(e)\u001b[0m\n",
      "\u001b[0;31mAnalysisException\u001b[0m: cannot resolve 'isnan(`is_auto_renew`)' due to data type mismatch: argument 1 requires (double or float) type, however, '`is_auto_renew`' is of boolean type.;;\n'Aggregate [count(CASE WHEN (isnan(cast(user_id#786 as double)) OR isnull(user_id#786)) THEN user_id END) AS user_id#923L, count(CASE WHEN (isnan(cast(payment_method_id#796 as double)) OR isnull(payment_method_id#796)) THEN payment_method_id END) AS payment_method_id#925L, count(CASE WHEN (isnan(cast(payment_plan_days#806 as double)) OR isnull(payment_plan_days#806)) THEN payment_plan_days END) AS payment_plan_days#927L, count(CASE WHEN (isnan(cast(plan_list_price#816 as double)) OR isnull(plan_list_price#816)) THEN plan_list_price END) AS plan_list_price#929L, count(CASE WHEN (isnan(cast(actual_amount_paid#826 as double)) OR isnull(actual_amount_paid#826)) THEN actual_amount_paid END) AS actual_amount_paid#931L, count(CASE WHEN (isnan(is_auto_renew#836) OR isnull(is_auto_renew#836)) THEN is_auto_renew END) AS is_auto_renew#933, count(CASE WHEN (isnan(transaction_date#856) OR isnull(transaction_date#856)) THEN transaction_date END) AS transaction_date#935, count(CASE WHEN (isnan(membership_expire_date#866) OR isnull(membership_expire_date#866)) THEN membership_expire_date END) AS membership_expire_date#937, count(CASE WHEN (isnan(is_cancel#846) OR isnull(is_cancel#846)) THEN is_cancel END) AS is_cancel#939]\n+- Project [user_id#786, payment_method_id#796, payment_plan_days#806, plan_list_price#816, actual_amount_paid#826, is_auto_renew#836, transaction_date#856, to_date(membership_expire_date#23, Some(yyyyMMdd)) AS membership_expire_date#866, is_cancel#846]\n   +- Project [user_id#786, payment_method_id#796, payment_plan_days#806, plan_list_price#816, actual_amount_paid#826, is_auto_renew#836, to_date(transaction_date#22, Some(yyyyMMdd)) AS transaction_date#856, membership_expire_date#23, is_cancel#846]\n      +- Project [user_id#786, payment_method_id#796, payment_plan_days#806, plan_list_price#816, actual_amount_paid#826, is_auto_renew#836, transaction_date#22, membership_expire_date#23, cast(is_cancel#24 as boolean) AS is_cancel#846]\n         +- Project [user_id#786, payment_method_id#796, payment_plan_days#806, plan_list_price#816, actual_amount_paid#826, cast(is_auto_renew#21 as boolean) AS is_auto_renew#836, transaction_date#22, membership_expire_date#23, is_cancel#24]\n            +- Project [user_id#786, payment_method_id#796, payment_plan_days#806, plan_list_price#816, cast(actual_amount_paid#20 as int) AS actual_amount_paid#826, is_auto_renew#21, transaction_date#22, membership_expire_date#23, is_cancel#24]\n               +- Project [user_id#786, payment_method_id#796, payment_plan_days#806, cast(plan_list_price#19 as int) AS plan_list_price#816, actual_amount_paid#20, is_auto_renew#21, transaction_date#22, membership_expire_date#23, is_cancel#24]\n                  +- Project [user_id#786, payment_method_id#796, cast(payment_plan_days#18 as int) AS payment_plan_days#806, plan_list_price#19, actual_amount_paid#20, is_auto_renew#21, transaction_date#22, membership_expire_date#23, is_cancel#24]\n                     +- Project [user_id#786, cast(payment_method_id#17 as int) AS payment_method_id#796, payment_plan_days#18, plan_list_price#19, actual_amount_paid#20, is_auto_renew#21, transaction_date#22, membership_expire_date#23, is_cancel#24]\n                        +- Project [msno#16 AS user_id#786, payment_method_id#17, payment_plan_days#18, plan_list_price#19, actual_amount_paid#20, is_auto_renew#21, transaction_date#22, membership_expire_date#23, is_cancel#24]\n                           +- Relation[msno#16,payment_method_id#17,payment_plan_days#18,plan_list_price#19,actual_amount_paid#20,is_auto_renew#21,transaction_date#22,membership_expire_date#23,is_cancel#24] csv\n"
     ]
    }
   ],
   "source": [
    "from pyspark.sql.functions import isnan, when, count, col\n",
    "\n",
    "df.select([count(when(isnan(c) | col(c).isNull(), c)).alias(c) for c in df.columns]).show()"
   ]
  },
  {
   "cell_type": "markdown",
   "metadata": {},
   "source": [
    "## 4. Data Cleaning"
   ]
  },
  {
   "cell_type": "markdown",
   "metadata": {},
   "source": [
    "##### Column Names"
   ]
  },
  {
   "cell_type": "code",
   "execution_count": 11,
   "metadata": {},
   "outputs": [
    {
     "data": {
      "text/plain": [
       "['user_id',\n",
       " 'payment_method_id',\n",
       " 'payment_plan_days',\n",
       " 'plan_list_price',\n",
       " 'actual_amount_paid',\n",
       " 'is_auto_renew',\n",
       " 'transaction_date',\n",
       " 'membership_expire_date',\n",
       " 'is_cancel']"
      ]
     },
     "execution_count": 11,
     "metadata": {},
     "output_type": "execute_result"
    }
   ],
   "source": [
    "df = df.withColumnRenamed(\"msno\",\"user_id\")\n",
    "df.columns"
   ]
  },
  {
   "cell_type": "markdown",
   "metadata": {},
   "source": [
    "##### Data Types"
   ]
  },
  {
   "cell_type": "code",
   "execution_count": 12,
   "metadata": {},
   "outputs": [
    {
     "name": "stdout",
     "output_type": "stream",
     "text": [
      "root\n",
      " |-- user_id: string (nullable = true)\n",
      " |-- payment_method_id: integer (nullable = true)\n",
      " |-- payment_plan_days: integer (nullable = true)\n",
      " |-- plan_list_price: integer (nullable = true)\n",
      " |-- actual_amount_paid: integer (nullable = true)\n",
      " |-- is_auto_renew: boolean (nullable = true)\n",
      " |-- transaction_date: date (nullable = true)\n",
      " |-- membership_expire_date: date (nullable = true)\n",
      " |-- is_cancel: boolean (nullable = true)\n",
      "\n"
     ]
    }
   ],
   "source": [
    "from pyspark.sql import types\n",
    "from pyspark.sql.functions import col, to_date\n",
    "\n",
    "# Integer types\n",
    "df = df.withColumn(\"payment_method_id\",col(\"payment_method_id\").cast(types.IntegerType()))\n",
    "df = df.withColumn(\"payment_plan_days\",col(\"payment_plan_days\").cast(types.IntegerType()))\n",
    "df = df.withColumn(\"plan_list_price\",col(\"plan_list_price\").cast(types.IntegerType()))\n",
    "df = df.withColumn(\"actual_amount_paid\",col(\"actual_amount_paid\").cast(types.IntegerType()))\n",
    "\n",
    "# Boolean types\n",
    "df = df.withColumn(\"is_auto_renew\",col(\"is_auto_renew\").cast(types.BooleanType()))\n",
    "df = df.withColumn(\"is_cancel\",col(\"is_cancel\").cast(types.BooleanType()))\n",
    "\n",
    "# Date types\n",
    "df= df.withColumn('transaction_date',to_date(df.transaction_date, 'yyyyMMdd'))\n",
    "df= df.withColumn('membership_expire_date',to_date(df.membership_expire_date, 'yyyyMMdd'))\n",
    "\n",
    "df.printSchema()"
   ]
  },
  {
   "cell_type": "code",
   "execution_count": 13,
   "metadata": {},
   "outputs": [
    {
     "name": "stdout",
     "output_type": "stream",
     "text": [
      "+--------------------+-----------------+-----------------+---------------+------------------+-------------+----------------+----------------------+---------+\n",
      "|             user_id|payment_method_id|payment_plan_days|plan_list_price|actual_amount_paid|is_auto_renew|transaction_date|membership_expire_date|is_cancel|\n",
      "+--------------------+-----------------+-----------------+---------------+------------------+-------------+----------------+----------------------+---------+\n",
      "|++6eU4LsQ3UQ20ILS...|               32|               90|            298|               298|        false|      2017-01-31|            2017-05-04|    false|\n",
      "|++lvGPJOinuin/8es...|               41|               30|            149|               149|         true|      2015-08-09|            2019-04-12|    false|\n",
      "|+/GXNtXWQVfKrEDqY...|               36|               30|            180|               180|         true|      2017-03-03|            2017-04-22|    false|\n",
      "|+/w1UrZwyka4C9oNH...|               36|               30|            180|               180|         true|      2017-03-29|            2017-03-31|     true|\n",
      "|+00PGzKTYqtnb65mP...|               41|               30|             99|                99|         true|      2017-03-23|            2017-04-23|    false|\n",
      "|+0KcMm8JNCW08lTp3...|               41|               30|            149|               149|         true|      2015-11-12|            2018-06-13|    false|\n",
      "|+0MeUJe1cGb4O97gJ...|               41|               30|             99|                99|         true|      2017-03-13|            2017-04-13|    false|\n",
      "|+0W3Q9FSw8TLgoNke...|               41|               30|             99|                99|         true|      2017-03-18|            2017-04-18|    false|\n",
      "|+0aofSeKQ/F2bhtAG...|               41|               30|             99|                99|         true|      2017-03-16|            2017-04-16|    false|\n",
      "|+0c0aay0C6GHocNyf...|               41|               30|            149|               149|         true|      2017-03-07|            2017-04-07|    false|\n",
      "|+0vdYjwKTJKP2OuVU...|               41|               30|             99|                99|         true|      2017-03-16|            2017-04-16|    false|\n",
      "|+1qe9o7V7yJ6CWz4n...|               40|               30|            149|               149|         true|      2017-03-11|            2017-04-10|    false|\n",
      "|+1sa2M+60tj9HplZS...|               16|               30|            149|               149|         true|      2017-03-07|            2017-04-06|    false|\n",
      "|+27xILAVHhFBaiEcy...|               41|               30|             99|                99|         true|      2017-03-26|            2017-04-26|    false|\n",
      "|+2HVGotjiE2ofWgVp...|               41|               30|             99|                99|         true|      2017-03-31|            2017-04-30|    false|\n",
      "|+2y0N7JdEAgAO2zjW...|               41|               30|             99|                99|         true|      2017-03-08|            2017-04-08|    false|\n",
      "|+3Z/2l0S7ui1s9FlZ...|               41|               30|            149|               149|         true|      2015-07-31|            2017-12-02|    false|\n",
      "|+50G1jyzn4OzqalwB...|               32|              410|           1788|              1788|        false|      2016-08-05|            2017-09-19|    false|\n",
      "|+5Yo2rxxC+x+kIYl4...|               34|               30|            149|               149|         true|      2017-03-31|            2017-04-30|    false|\n",
      "|+6YT5fhMwOfQJjT3m...|               41|               30|             99|                99|         true|      2017-03-04|            2017-04-04|    false|\n",
      "+--------------------+-----------------+-----------------+---------------+------------------+-------------+----------------+----------------------+---------+\n",
      "only showing top 20 rows\n",
      "\n"
     ]
    }
   ],
   "source": [
    "df.show()"
   ]
  },
  {
   "cell_type": "code",
   "execution_count": null,
   "metadata": {},
   "outputs": [],
   "source": []
  }
 ],
 "metadata": {
  "kernelspec": {
   "display_name": "Python 3",
   "language": "python",
   "name": "python3"
  },
  "language_info": {
   "codemirror_mode": {
    "name": "ipython",
    "version": 3
   },
   "file_extension": ".py",
   "mimetype": "text/x-python",
   "name": "python",
   "nbconvert_exporter": "python",
   "pygments_lexer": "ipython3",
   "version": "3.8.6"
  }
 },
 "nbformat": 4,
 "nbformat_minor": 4
}
