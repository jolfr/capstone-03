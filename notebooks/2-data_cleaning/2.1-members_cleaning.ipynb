{
 "cells": [
  {
   "cell_type": "markdown",
   "metadata": {},
   "source": [
    "# 2.1 Members Data Cleaning\n",
    "\n",
    "##### Description\n",
    "\n",
    "Basic data visualization and data formatting for members.csv\n",
    "\n",
    "##### Notebook Steps\n",
    "\n",
    "1. Connect Spark\n",
    "1. Input Data\n",
    "1. Examine Data\n",
    "1. Data Cleaning\n",
    "1. Output Data"
   ]
  },
  {
   "cell_type": "markdown",
   "metadata": {},
   "source": [
    "## 1. Connect Spark"
   ]
  },
  {
   "cell_type": "code",
   "execution_count": 1,
   "metadata": {},
   "outputs": [],
   "source": [
    "import pyspark\n",
    "sc = pyspark.SparkContext(appName=\"mems-clean\")\n",
    "sc.setLogLevel(\"INFO\")\n",
    "\n",
    "from pyspark.sql import SQLContext\n",
    "sqlContext = SQLContext(sc)"
   ]
  },
  {
   "cell_type": "markdown",
   "metadata": {},
   "source": [
    "## 2. Input Data"
   ]
  },
  {
   "cell_type": "code",
   "execution_count": 2,
   "metadata": {},
   "outputs": [],
   "source": [
    "import os\n",
    "import zipfile\n",
    "import pandas as pd\n",
    "\n",
    "with zipfile.ZipFile('../../data/1-data_acquisition/1-members.output.zip', 'r') as zip_ref:\n",
    "    zip_ref.extractall()\n",
    "    \n",
    "df = sqlContext.read.csv('1-members.output.csv', header=True)"
   ]
  },
  {
   "cell_type": "markdown",
   "metadata": {},
   "source": [
    "## 3. Examine Data"
   ]
  },
  {
   "cell_type": "markdown",
   "metadata": {},
   "source": [
    "##### show()"
   ]
  },
  {
   "cell_type": "code",
   "execution_count": 3,
   "metadata": {},
   "outputs": [
    {
     "name": "stdout",
     "output_type": "stream",
     "text": [
      "+--------------------+----+---+------+--------------+----------------------+\n",
      "|                msno|city| bd|gender|registered_via|registration_init_time|\n",
      "+--------------------+----+---+------+--------------+----------------------+\n",
      "|Rb9UwLQTrxzBVwCB6...|   1|  0|  null|            11|              20110911|\n",
      "|+tJonkh+O1CA796Fm...|   1|  0|  null|             7|              20110914|\n",
      "|cV358ssn7a0f7jZOw...|   1|  0|  null|            11|              20110915|\n",
      "|9bzDeJP6sQodK73K5...|   1|  0|  null|            11|              20110915|\n",
      "|WFLY3s7z4EZsieHCt...|   6| 32|female|             9|              20110915|\n",
      "|yLkV2gbZ4GLFwqTOX...|   4| 30|  male|             9|              20110916|\n",
      "|jNCGK78YkTyId3H3w...|   1|  0|  null|             7|              20110916|\n",
      "|WH5Jq4mgtfUFXh2yz...|   5| 34|  male|             9|              20110916|\n",
      "|tKmbR4X5VXjHmxERr...|   5| 19|  male|             9|              20110917|\n",
      "|I0yFvqMoNkM8ZNHb6...|  13| 63|  male|             9|              20110918|\n",
      "|OoDwiKZM+ZGr9P3fR...|   1|  0|  null|             7|              20110918|\n",
      "|dCvvBHlaOAqgkAcv3...|  22| 18|  male|             9|              20110919|\n",
      "|6bra2AiVV8SGlm7R6...|   4| 34|female|             9|              20110919|\n",
      "|4De1jAxNRABoyRBDZ...|   4| 28|female|             9|              20110920|\n",
      "|iOzdu4IHbJxhB5CPp...|  12| 29|female|             9|              20110922|\n",
      "|hZia/3iyvtThD1kv6...|   1|  0|  null|             9|              20110922|\n",
      "|QlDflP89J5KChheo2...|   1|  0|  null|             9|              20110922|\n",
      "|fOpj0ApSXk1NVODvC...|  13| 31|female|             7|              20110923|\n",
      "|GsPgdrXoV6688/0RF...|   1|  0|  null|             7|              20110924|\n",
      "|QHHKGOY5yLrGdR8WY...|   5| 19|female|             9|              20110925|\n",
      "+--------------------+----+---+------+--------------+----------------------+\n",
      "only showing top 20 rows\n",
      "\n"
     ]
    }
   ],
   "source": [
    "df.show()"
   ]
  },
  {
   "cell_type": "markdown",
   "metadata": {},
   "source": [
    "##### count()"
   ]
  },
  {
   "cell_type": "code",
   "execution_count": 4,
   "metadata": {},
   "outputs": [
    {
     "data": {
      "text/plain": [
       "6769473"
      ]
     },
     "execution_count": 4,
     "metadata": {},
     "output_type": "execute_result"
    }
   ],
   "source": [
    "df.count()"
   ]
  },
  {
   "cell_type": "markdown",
   "metadata": {},
   "source": [
    "##### describe()"
   ]
  },
  {
   "cell_type": "code",
   "execution_count": 5,
   "metadata": {},
   "outputs": [
    {
     "name": "stdout",
     "output_type": "stream",
     "text": [
      "+-------+--------------------+-----------------+------------------+-------+------------------+----------------------+\n",
      "|summary|                msno|             city|                bd| gender|    registered_via|registration_init_time|\n",
      "+-------+--------------------+-----------------+------------------+-------+------------------+----------------------+\n",
      "|  count|             6769473|          6769473|           6769473|2339968|           6769473|               6769473|\n",
      "|   mean|                null|3.847357689439045| 9.795794295951842|   null| 5.253068739619761|  2.0145175906336136E7|\n",
      "| stddev|                null|5.478359063260526|17.925899719010822|   null|2.3613983148064808|    23186.007612070716|\n",
      "|    min|+++4vcS9aMH7KWdfh...|                1|               -10| female|                -1|              20040326|\n",
      "|    max|zzzyOgMk9MljCerbC...|                9|               994|   male|                 9|              20170429|\n",
      "+-------+--------------------+-----------------+------------------+-------+------------------+----------------------+\n",
      "\n"
     ]
    }
   ],
   "source": [
    "df.describe().show()"
   ]
  },
  {
   "cell_type": "markdown",
   "metadata": {},
   "source": [
    "##### printSchema()"
   ]
  },
  {
   "cell_type": "code",
   "execution_count": 6,
   "metadata": {},
   "outputs": [
    {
     "name": "stdout",
     "output_type": "stream",
     "text": [
      "root\n",
      " |-- msno: string (nullable = true)\n",
      " |-- city: string (nullable = true)\n",
      " |-- bd: string (nullable = true)\n",
      " |-- gender: string (nullable = true)\n",
      " |-- registered_via: string (nullable = true)\n",
      " |-- registration_init_time: string (nullable = true)\n",
      "\n"
     ]
    }
   ],
   "source": [
    "df.printSchema()"
   ]
  },
  {
   "cell_type": "markdown",
   "metadata": {},
   "source": [
    "##### columns"
   ]
  },
  {
   "cell_type": "code",
   "execution_count": 7,
   "metadata": {},
   "outputs": [
    {
     "data": {
      "text/plain": [
       "['msno', 'city', 'bd', 'gender', 'registered_via', 'registration_init_time']"
      ]
     },
     "execution_count": 7,
     "metadata": {},
     "output_type": "execute_result"
    }
   ],
   "source": [
    "df.columns"
   ]
  },
  {
   "cell_type": "markdown",
   "metadata": {},
   "source": [
    "##### head(5)"
   ]
  },
  {
   "cell_type": "code",
   "execution_count": 8,
   "metadata": {},
   "outputs": [
    {
     "data": {
      "text/plain": [
       "[Row(msno='Rb9UwLQTrxzBVwCB6+bCcSQWZ9JiNLC9dXtM1oEsZA8=', city='1', bd='0', gender=None, registered_via='11', registration_init_time='20110911'),\n",
       " Row(msno='+tJonkh+O1CA796Fm5X60UMOtB6POHAwPjbTRVl/EuU=', city='1', bd='0', gender=None, registered_via='7', registration_init_time='20110914'),\n",
       " Row(msno='cV358ssn7a0f7jZOwGNWS07wCKVqxyiImJUX6xcIwKw=', city='1', bd='0', gender=None, registered_via='11', registration_init_time='20110915'),\n",
       " Row(msno='9bzDeJP6sQodK73K5CBlJ6fgIQzPeLnRl0p5B77XP+g=', city='1', bd='0', gender=None, registered_via='11', registration_init_time='20110915'),\n",
       " Row(msno='WFLY3s7z4EZsieHCt63XrsdtfTEmJ+2PnnKLH5GY4Tk=', city='6', bd='32', gender='female', registered_via='9', registration_init_time='20110915')]"
      ]
     },
     "execution_count": 8,
     "metadata": {},
     "output_type": "execute_result"
    }
   ],
   "source": [
    "df.head(5)"
   ]
  },
  {
   "cell_type": "markdown",
   "metadata": {},
   "source": [
    "##### tail(5)"
   ]
  },
  {
   "cell_type": "code",
   "execution_count": 9,
   "metadata": {},
   "outputs": [
    {
     "data": {
      "text/plain": [
       "[Row(msno='VSGkb3hyBRUtb/b1MQUZbvOkktS3vKLnhMHW0CF8eyU=', city='1', bd='0', gender=None, registered_via='7', registration_init_time='20151020'),\n",
       " Row(msno='nWjH7glPkZ7jOVaCRwwjlpmp0T1hSWdv8hMJxiWCwKc=', city='1', bd='0', gender=None, registered_via='7', registration_init_time='20151020'),\n",
       " Row(msno='GH+b5+1tlv7ZZXsA8upBzVXMTLyffKcsF7WoU8b5rOI=', city='15', bd='26', gender='female', registered_via='4', registration_init_time='20151020'),\n",
       " Row(msno='XVlwT3fdCFGKqerEKBzUIjK+jzI6jzSke4cDMVhYyjE=', city='1', bd='0', gender=None, registered_via='4', registration_init_time='20151020'),\n",
       " Row(msno='isBt+JlgvZRNy6lxVr5vvuJ4lD00ofTaKyJ+uRnGcPg=', city='1', bd='0', gender=None, registered_via='4', registration_init_time='20151021')]"
      ]
     },
     "execution_count": 9,
     "metadata": {},
     "output_type": "execute_result"
    }
   ],
   "source": [
    "df.tail(5)"
   ]
  },
  {
   "cell_type": "markdown",
   "metadata": {},
   "source": [
    "##### Null per Column"
   ]
  },
  {
   "cell_type": "code",
   "execution_count": 10,
   "metadata": {},
   "outputs": [
    {
     "name": "stdout",
     "output_type": "stream",
     "text": [
      "+----+----+---+-------+--------------+----------------------+\n",
      "|msno|city| bd| gender|registered_via|registration_init_time|\n",
      "+----+----+---+-------+--------------+----------------------+\n",
      "|   0|   0|  0|4429505|             0|                     0|\n",
      "+----+----+---+-------+--------------+----------------------+\n",
      "\n"
     ]
    }
   ],
   "source": [
    "from pyspark.sql.functions import isnan, when, count, col\n",
    "\n",
    "df.select([count(when(isnan(c) | col(c).isNull(), c)).alias(c) for c in df.columns]).show()"
   ]
  },
  {
   "cell_type": "markdown",
   "metadata": {},
   "source": [
    "##### Value Counts"
   ]
  },
  {
   "cell_type": "code",
   "execution_count": 11,
   "metadata": {},
   "outputs": [
    {
     "name": "stdout",
     "output_type": "stream",
     "text": [
      "+----+------+\n",
      "|city| count|\n",
      "+----+------+\n",
      "|  19|  1199|\n",
      "|  20|  4233|\n",
      "|  16|  5092|\n",
      "|   7| 11610|\n",
      "|   3| 27282|\n",
      "|  17| 27772|\n",
      "|  21| 30837|\n",
      "|  10| 32482|\n",
      "|  18| 38039|\n",
      "|   8| 45975|\n",
      "|  11| 47489|\n",
      "|   9| 47639|\n",
      "|  12| 66843|\n",
      "|  14| 89940|\n",
      "|   6|135200|\n",
      "|  15|190213|\n",
      "|  22|210407|\n",
      "|   4|246848|\n",
      "|  13|320978|\n",
      "|   5|385069|\n",
      "+----+------+\n",
      "only showing top 20 rows\n",
      "\n"
     ]
    }
   ],
   "source": [
    "df.groupBy('city').count().orderBy('count').show()"
   ]
  },
  {
   "cell_type": "code",
   "execution_count": 12,
   "metadata": {},
   "outputs": [
    {
     "name": "stdout",
     "output_type": "stream",
     "text": [
      "+----+-----+\n",
      "|  bd|count|\n",
      "+----+-----+\n",
      "| 786|    1|\n",
      "| 584|    1|\n",
      "|1056|    1|\n",
      "| 323|    1|\n",
      "|-512|    1|\n",
      "|1111|    1|\n",
      "|1958|    1|\n",
      "| 685|    1|\n",
      "|-489|    1|\n",
      "|1021|    1|\n",
      "| 334|    1|\n",
      "| 743|    1|\n",
      "| 462|    1|\n",
      "| -30|    1|\n",
      "| 919|    1|\n",
      "| 124|    1|\n",
      "| 926|    1|\n",
      "| 155|    1|\n",
      "| 940|    1|\n",
      "|2016|    1|\n",
      "+----+-----+\n",
      "only showing top 20 rows\n",
      "\n"
     ]
    }
   ],
   "source": [
    "df.groupBy('bd').count().orderBy('count').show()"
   ]
  },
  {
   "cell_type": "code",
   "execution_count": 13,
   "metadata": {},
   "outputs": [
    {
     "name": "stdout",
     "output_type": "stream",
     "text": [
      "+------+-------+\n",
      "|gender|  count|\n",
      "+------+-------+\n",
      "|female|1144613|\n",
      "|  male|1195355|\n",
      "|  null|4429505|\n",
      "+------+-------+\n",
      "\n"
     ]
    }
   ],
   "source": [
    "df.groupBy('gender').count().orderBy('count').show()"
   ]
  },
  {
   "cell_type": "code",
   "execution_count": 14,
   "metadata": {},
   "outputs": [
    {
     "name": "stdout",
     "output_type": "stream",
     "text": [
      "+--------------+-------+\n",
      "|registered_via|  count|\n",
      "+--------------+-------+\n",
      "|            -1|      1|\n",
      "|            18|      5|\n",
      "|            10|     10|\n",
      "|             1|     43|\n",
      "|            14|    615|\n",
      "|            16|    888|\n",
      "|            19|    974|\n",
      "|             6|   1213|\n",
      "|             2|   1452|\n",
      "|            17|   1494|\n",
      "|             5|   3115|\n",
      "|             8|   3982|\n",
      "|            13|   5455|\n",
      "|            11|  25047|\n",
      "|             7| 805895|\n",
      "|             9|1482863|\n",
      "|             3|1643208|\n",
      "|             4|2793213|\n",
      "+--------------+-------+\n",
      "\n"
     ]
    }
   ],
   "source": [
    "df.groupBy('registered_via').count().orderBy('count').show()"
   ]
  },
  {
   "cell_type": "markdown",
   "metadata": {},
   "source": [
    "## 4. Data Cleaning"
   ]
  },
  {
   "cell_type": "code",
   "execution_count": 15,
   "metadata": {},
   "outputs": [],
   "source": [
    "from pyspark.sql import types\n",
    "from pyspark.sql.functions import col, to_date, regexp_replace, when\n",
    "from operator import add"
   ]
  },
  {
   "cell_type": "markdown",
   "metadata": {},
   "source": [
    "### Columns"
   ]
  },
  {
   "cell_type": "markdown",
   "metadata": {},
   "source": [
    "##### msno\n",
    "The msno column corresponds to user ids for the dataset, so the column is renamed from msno to user_id."
   ]
  },
  {
   "cell_type": "code",
   "execution_count": 16,
   "metadata": {},
   "outputs": [],
   "source": [
    "df = df.withColumnRenamed(\"msno\",\"user_id\")"
   ]
  },
  {
   "cell_type": "markdown",
   "metadata": {},
   "source": [
    "##### city\n",
    "The city column is currently formatted as a column of strings. The actual data is represented as integers, so the column is cast to match."
   ]
  },
  {
   "cell_type": "code",
   "execution_count": 17,
   "metadata": {},
   "outputs": [],
   "source": [
    "df = df.withColumn(\"city\",col(\"city\").cast(types.IntegerType()))"
   ]
  },
  {
   "cell_type": "markdown",
   "metadata": {},
   "source": [
    "##### bd\n",
    "The bd column has a high number of outlier values, so the column will be dropped."
   ]
  },
  {
   "cell_type": "code",
   "execution_count": 18,
   "metadata": {},
   "outputs": [],
   "source": [
    "df = df.drop(df.bd)"
   ]
  },
  {
   "cell_type": "markdown",
   "metadata": {},
   "source": [
    "##### gender\n",
    "The gender column has a high number of null values, so the column will be dropped."
   ]
  },
  {
   "cell_type": "code",
   "execution_count": 19,
   "metadata": {},
   "outputs": [],
   "source": [
    "df = df.drop(df.gender)"
   ]
  },
  {
   "cell_type": "markdown",
   "metadata": {},
   "source": [
    "##### registered_via\n",
    "As with the city column, the registered_via column is cast from string to integer."
   ]
  },
  {
   "cell_type": "code",
   "execution_count": 20,
   "metadata": {},
   "outputs": [],
   "source": [
    "df = df.withColumn(\"registered_via\",col(\"registered_via\").cast(types.IntegerType()))"
   ]
  },
  {
   "cell_type": "markdown",
   "metadata": {},
   "source": [
    "##### registration_init_time\n",
    "The registration_init_time column must be parsed and cast to a date object. The column is also renamed to registration_date."
   ]
  },
  {
   "cell_type": "code",
   "execution_count": 21,
   "metadata": {},
   "outputs": [],
   "source": [
    "df= df.withColumn('registration_init_time',to_date(df.registration_init_time, 'yyyyMMdd'))\n",
    "df = df.withColumnRenamed(\"registration_init_time\", \"registration_date\")"
   ]
  },
  {
   "cell_type": "markdown",
   "metadata": {},
   "source": [
    "## 5. Data Output"
   ]
  },
  {
   "cell_type": "markdown",
   "metadata": {},
   "source": [
    "##### Final Check"
   ]
  },
  {
   "cell_type": "code",
   "execution_count": 22,
   "metadata": {},
   "outputs": [
    {
     "name": "stdout",
     "output_type": "stream",
     "text": [
      "root\n",
      " |-- user_id: string (nullable = true)\n",
      " |-- city: integer (nullable = true)\n",
      " |-- registered_via: integer (nullable = true)\n",
      " |-- registration_date: date (nullable = true)\n",
      "\n"
     ]
    }
   ],
   "source": [
    "df.printSchema()"
   ]
  },
  {
   "cell_type": "code",
   "execution_count": 23,
   "metadata": {},
   "outputs": [
    {
     "name": "stdout",
     "output_type": "stream",
     "text": [
      "+--------------------+----+--------------+-----------------+\n",
      "|             user_id|city|registered_via|registration_date|\n",
      "+--------------------+----+--------------+-----------------+\n",
      "|Rb9UwLQTrxzBVwCB6...|   1|            11|       2011-09-11|\n",
      "|+tJonkh+O1CA796Fm...|   1|             7|       2011-09-14|\n",
      "|cV358ssn7a0f7jZOw...|   1|            11|       2011-09-15|\n",
      "|9bzDeJP6sQodK73K5...|   1|            11|       2011-09-15|\n",
      "|WFLY3s7z4EZsieHCt...|   6|             9|       2011-09-15|\n",
      "|yLkV2gbZ4GLFwqTOX...|   4|             9|       2011-09-16|\n",
      "|jNCGK78YkTyId3H3w...|   1|             7|       2011-09-16|\n",
      "|WH5Jq4mgtfUFXh2yz...|   5|             9|       2011-09-16|\n",
      "|tKmbR4X5VXjHmxERr...|   5|             9|       2011-09-17|\n",
      "|I0yFvqMoNkM8ZNHb6...|  13|             9|       2011-09-18|\n",
      "|OoDwiKZM+ZGr9P3fR...|   1|             7|       2011-09-18|\n",
      "|dCvvBHlaOAqgkAcv3...|  22|             9|       2011-09-19|\n",
      "|6bra2AiVV8SGlm7R6...|   4|             9|       2011-09-19|\n",
      "|4De1jAxNRABoyRBDZ...|   4|             9|       2011-09-20|\n",
      "|iOzdu4IHbJxhB5CPp...|  12|             9|       2011-09-22|\n",
      "|hZia/3iyvtThD1kv6...|   1|             9|       2011-09-22|\n",
      "|QlDflP89J5KChheo2...|   1|             9|       2011-09-22|\n",
      "|fOpj0ApSXk1NVODvC...|  13|             7|       2011-09-23|\n",
      "|GsPgdrXoV6688/0RF...|   1|             7|       2011-09-24|\n",
      "|QHHKGOY5yLrGdR8WY...|   5|             9|       2011-09-25|\n",
      "+--------------------+----+--------------+-----------------+\n",
      "only showing top 20 rows\n",
      "\n"
     ]
    }
   ],
   "source": [
    "df.show()"
   ]
  },
  {
   "cell_type": "markdown",
   "metadata": {},
   "source": [
    "##### Output to File"
   ]
  },
  {
   "cell_type": "code",
   "execution_count": 24,
   "metadata": {},
   "outputs": [],
   "source": [
    "filepath = '../../data/2-data_cleaning/2-members.output.csv'\n",
    "\n",
    "df.write.format('com.databricks.spark.csv').options(header='true').save(filepath)"
   ]
  },
  {
   "cell_type": "code",
   "execution_count": null,
   "metadata": {},
   "outputs": [],
   "source": []
  }
 ],
 "metadata": {
  "kernelspec": {
   "display_name": "Python 3",
   "language": "python",
   "name": "python3"
  },
  "language_info": {
   "codemirror_mode": {
    "name": "ipython",
    "version": 3
   },
   "file_extension": ".py",
   "mimetype": "text/x-python",
   "name": "python",
   "nbconvert_exporter": "python",
   "pygments_lexer": "ipython3",
   "version": "3.8.6"
  }
 },
 "nbformat": 4,
 "nbformat_minor": 4
}
